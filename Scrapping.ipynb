{
  "nbformat": 4,
  "nbformat_minor": 0,
  "metadata": {
    "colab": {
      "provenance": []
    },
    "kernelspec": {
      "name": "python3",
      "display_name": "Python 3"
    },
    "language_info": {
      "name": "python"
    }
  },
  "cells": [
    {
      "cell_type": "markdown",
      "source": [
        "##ENTORNO"
      ],
      "metadata": {
        "id": "OAiKZlgzXg9c"
      }
    },
    {
      "cell_type": "code",
      "source": [
        "#Instalar dependencias para instalar Google-Chrome\n",
        "!sudo apt-get update\n",
        "!sudo apt-get install -y libu2f-udev\n",
        "!pip install selenium"
      ],
      "metadata": {
        "colab": {
          "base_uri": "https://localhost:8080/"
        },
        "id": "Uw55GGtYCSOB",
        "outputId": "ca614c04-fa99-4e33-c3bc-60e1f53463cf"
      },
      "execution_count": 40,
      "outputs": [
        {
          "output_type": "stream",
          "name": "stdout",
          "text": [
            "\r0% [Working]\r            \rGet:1 https://dl.google.com/linux/chrome/deb stable InRelease [1,825 B]\n",
            "\r0% [Connecting to archive.ubuntu.com] [Connecting to security.ubuntu.com (185.1\r0% [Connecting to archive.ubuntu.com] [Connecting to security.ubuntu.com (185.1\r                                                                               \rGet:2 https://cloud.r-project.org/bin/linux/ubuntu focal-cran40/ InRelease [3,622 B]\n",
            "\r0% [Connecting to archive.ubuntu.com (185.125.190.39)] [Waiting for headers] [2\r0% [Connecting to archive.ubuntu.com (185.125.190.39)] [Waiting for headers] [W\r                                                                               \rHit:3 https://developer.download.nvidia.com/compute/cuda/repos/ubuntu2004/x86_64  InRelease\n",
            "\r0% [Connecting to archive.ubuntu.com (185.125.190.39)] [Waiting for headers] [W\r                                                                               \rHit:4 http://ppa.launchpad.net/c2d4u.team/c2d4u4.0+/ubuntu focal InRelease\n",
            "\r0% [Waiting for headers] [Waiting for headers] [Connecting to ppa.launchpad.net\r                                                                               \rGet:5 http://security.ubuntu.com/ubuntu focal-security InRelease [114 kB]\n",
            "\r0% [Waiting for headers] [5 InRelease 14.2 kB/114 kB 12%] [Connecting to ppa.la\r0% [Waiting for headers] [5 InRelease 14.2 kB/114 kB 12%] [Connecting to ppa.la\r                                                                               \rGet:6 https://dl.google.com/linux/chrome/deb stable/main amd64 Packages [1,071 B]\n",
            "Hit:7 http://archive.ubuntu.com/ubuntu focal InRelease\n",
            "Get:8 http://archive.ubuntu.com/ubuntu focal-updates InRelease [114 kB]\n",
            "Hit:9 http://ppa.launchpad.net/cran/libgit2/ubuntu focal InRelease\n",
            "Hit:10 http://ppa.launchpad.net/deadsnakes/ppa/ubuntu focal InRelease\n",
            "Hit:11 http://ppa.launchpad.net/graphics-drivers/ppa/ubuntu focal InRelease\n",
            "Get:12 http://archive.ubuntu.com/ubuntu focal-backports InRelease [108 kB]\n",
            "Hit:13 http://ppa.launchpad.net/ubuntugis/ppa/ubuntu focal InRelease\n",
            "Fetched 342 kB in 2s (184 kB/s)\n",
            "Reading package lists... Done\n",
            "Reading package lists... Done\n",
            "Building dependency tree       \n",
            "Reading state information... Done\n",
            "libu2f-udev is already the newest version (1.1.10-1).\n",
            "0 upgraded, 0 newly installed, 0 to remove and 39 not upgraded.\n",
            "Looking in indexes: https://pypi.org/simple, https://us-python.pkg.dev/colab-wheels/public/simple/\n",
            "Requirement already satisfied: selenium in /usr/local/lib/python3.10/dist-packages (4.9.1)\n",
            "Requirement already satisfied: urllib3[socks]<3,>=1.26 in /usr/local/lib/python3.10/dist-packages (from selenium) (1.26.15)\n",
            "Requirement already satisfied: trio~=0.17 in /usr/local/lib/python3.10/dist-packages (from selenium) (0.22.0)\n",
            "Requirement already satisfied: trio-websocket~=0.9 in /usr/local/lib/python3.10/dist-packages (from selenium) (0.10.2)\n",
            "Requirement already satisfied: certifi>=2021.10.8 in /usr/local/lib/python3.10/dist-packages (from selenium) (2022.12.7)\n",
            "Requirement already satisfied: attrs>=19.2.0 in /usr/local/lib/python3.10/dist-packages (from trio~=0.17->selenium) (23.1.0)\n",
            "Requirement already satisfied: sortedcontainers in /usr/local/lib/python3.10/dist-packages (from trio~=0.17->selenium) (2.4.0)\n",
            "Requirement already satisfied: async-generator>=1.9 in /usr/local/lib/python3.10/dist-packages (from trio~=0.17->selenium) (1.10)\n",
            "Requirement already satisfied: idna in /usr/local/lib/python3.10/dist-packages (from trio~=0.17->selenium) (3.4)\n",
            "Requirement already satisfied: outcome in /usr/local/lib/python3.10/dist-packages (from trio~=0.17->selenium) (1.2.0)\n",
            "Requirement already satisfied: sniffio in /usr/local/lib/python3.10/dist-packages (from trio~=0.17->selenium) (1.3.0)\n",
            "Requirement already satisfied: exceptiongroup>=1.0.0rc9 in /usr/local/lib/python3.10/dist-packages (from trio~=0.17->selenium) (1.1.1)\n",
            "Requirement already satisfied: wsproto>=0.14 in /usr/local/lib/python3.10/dist-packages (from trio-websocket~=0.9->selenium) (1.2.0)\n",
            "Requirement already satisfied: PySocks!=1.5.7,<2.0,>=1.5.6 in /usr/local/lib/python3.10/dist-packages (from urllib3[socks]<3,>=1.26->selenium) (1.7.1)\n",
            "Requirement already satisfied: h11<1,>=0.9.0 in /usr/local/lib/python3.10/dist-packages (from wsproto>=0.14->trio-websocket~=0.9->selenium) (0.14.0)\n"
          ]
        }
      ]
    },
    {
      "cell_type": "code",
      "source": [
        "#Instalar Google Chrome\n",
        "!wget https://dl.google.com/linux/direct/google-chrome-stable_current_amd64.deb\n",
        "!dpkg -i google-chrome-stable_current_amd64.deb\n",
        "!apt-get install -f\n",
        "!rm -rf google-chrome-stable_current_amd64.deb"
      ],
      "metadata": {
        "colab": {
          "base_uri": "https://localhost:8080/"
        },
        "id": "a39M8737CViN",
        "outputId": "a1efcfe1-aa64-4d4c-b7dd-7f94b31ebe9d"
      },
      "execution_count": 41,
      "outputs": [
        {
          "output_type": "stream",
          "name": "stdout",
          "text": [
            "--2023-05-31 18:11:20--  https://dl.google.com/linux/direct/google-chrome-stable_current_amd64.deb\n",
            "Resolving dl.google.com (dl.google.com)... 74.125.141.93, 74.125.141.136, 74.125.141.91, ...\n",
            "Connecting to dl.google.com (dl.google.com)|74.125.141.93|:443... connected.\n",
            "HTTP request sent, awaiting response... 200 OK\n",
            "Length: 93841272 (89M) [application/x-debian-package]\n",
            "Saving to: ‘google-chrome-stable_current_amd64.deb’\n",
            "\n",
            "google-chrome-stabl 100%[===================>]  89.49M  82.6MB/s    in 1.1s    \n",
            "\n",
            "2023-05-31 18:11:21 (82.6 MB/s) - ‘google-chrome-stable_current_amd64.deb’ saved [93841272/93841272]\n",
            "\n",
            "(Reading database ... 122778 files and directories currently installed.)\n",
            "Preparing to unpack google-chrome-stable_current_amd64.deb ...\n",
            "Unpacking google-chrome-stable (114.0.5735.90-1) over (114.0.5735.90-1) ...\n",
            "Setting up google-chrome-stable (114.0.5735.90-1) ...\n",
            "Processing triggers for mime-support (3.64ubuntu1) ...\n",
            "Processing triggers for man-db (2.9.1-1) ...\n",
            "Reading package lists... Done\n",
            "Building dependency tree       \n",
            "Reading state information... Done\n",
            "0 upgraded, 0 newly installed, 0 to remove and 39 not upgraded.\n"
          ]
        }
      ]
    },
    {
      "cell_type": "code",
      "source": [
        "# Descargar WebDriver\n",
        "!wget https://chromedriver.storage.googleapis.com/113.0.5672.24/chromedriver_linux64.zip\n",
        "!unzip chromedriver_linux64\n",
        "!rm -rf chromedriver_linux64.zip\n",
        "!rm -rf LICENSE.chromedriver"
      ],
      "metadata": {
        "colab": {
          "base_uri": "https://localhost:8080/"
        },
        "id": "tdWNYccGCYSM",
        "outputId": "af7ec176-98c9-4c6e-b462-aecf2d29056a"
      },
      "execution_count": 42,
      "outputs": [
        {
          "output_type": "stream",
          "name": "stdout",
          "text": [
            "--2023-05-31 18:11:43--  https://chromedriver.storage.googleapis.com/113.0.5672.24/chromedriver_linux64.zip\n",
            "Resolving chromedriver.storage.googleapis.com (chromedriver.storage.googleapis.com)... 142.250.98.128, 2607:f8b0:400c:c1a::80\n",
            "Connecting to chromedriver.storage.googleapis.com (chromedriver.storage.googleapis.com)|142.250.98.128|:443... connected.\n",
            "HTTP request sent, awaiting response... 200 OK\n",
            "Length: 7172785 (6.8M) [application/zip]\n",
            "Saving to: ‘chromedriver_linux64.zip’\n",
            "\n",
            "\rchromedriver_linux6   0%[                    ]       0  --.-KB/s               \rchromedriver_linux6 100%[===================>]   6.84M  --.-KB/s    in 0.07s   \n",
            "\n",
            "2023-05-31 18:11:43 (102 MB/s) - ‘chromedriver_linux64.zip’ saved [7172785/7172785]\n",
            "\n",
            "Archive:  chromedriver_linux64.zip\n",
            "replace chromedriver? [y]es, [n]o, [A]ll, [N]one, [r]ename: y\n",
            "  inflating: chromedriver            \n",
            "  inflating: LICENSE.chromedriver    \n"
          ]
        }
      ]
    },
    {
      "cell_type": "markdown",
      "source": [
        "##PAGINA A INSPECCIONAR"
      ],
      "metadata": {
        "id": "b88YmrwDXp1j"
      }
    },
    {
      "cell_type": "code",
      "source": [
        "from selenium import webdriver\n",
        "from selenium.webdriver.chrome.service import Service\n",
        "from selenium.webdriver.chrome.options import Options\n",
        "from bs4 import BeautifulSoup\n",
        "from selenium.webdriver.common.by import By\n",
        "from selenium.webdriver.support.ui import WebDriverWait\n",
        "from selenium.webdriver.support import expected_conditions as EC\n",
        "\n",
        "# Opciones de Chrome\n",
        "chrome_options = Options()\n",
        "chrome_options.add_argument('--headless')\n",
        "chrome_options.add_argument('--no-sandbox')\n",
        "\n",
        "# Ruta del controlador de Chrome\n",
        "chrome_driver_path = '/content/chromedriver'\n",
        "\n",
        "# Crear un objeto Service para especificar la ruta del controlador\n",
        "service = Service(chrome_driver_path)\n",
        "\n",
        "# Crear una instancia del navegador Chrome\n",
        "driver = webdriver.Chrome(service=service, options=chrome_options)\n",
        "\n",
        "# Navegar a una página web\n",
        "driver.get('https://tablademareas.com/cl/los-lagos/puerto-montt')\n",
        "#driver.get('https://tablademareas.com/cl/magallanes/punta-arenas')\n",
        "\n",
        "# Obtener el HTML de la página después de activar el evento onclick\n",
        "html = driver.page_source\n",
        "\n",
        "# Crear un objeto BeautifulSoup para analizar el HTML\n",
        "soup = BeautifulSoup(html, 'html.parser')\n",
        "\n",
        "# Navegar a una página web\n",
        "driver.get('https://tablademareas.com/cl/los-lagos/puerto-montt')\n",
        "#driver.get('https://tablademareas.com/cl/magallanes/punta-arenas')\n",
        "\n",
        "wait = WebDriverWait(driver, 10)\n",
        "element = wait.until(EC.presence_of_element_located((By.ID, 'selector_api_marine')))\n",
        "\n",
        "# Activar el evento onclick del elemento\n",
        "driver.execute_script(\"arguments[0].click();\", element)\n",
        "\n",
        "# Obtener el HTML de la página después de activar el evento onclick\n",
        "html1 = driver.page_source\n",
        "\n",
        "# Crear un objeto BeautifulSoup para analizar el HTML\n",
        "soup1 = BeautifulSoup(html1, 'html.parser')"
      ],
      "metadata": {
        "id": "u1Icy7gYXuCb"
      },
      "execution_count": 43,
      "outputs": []
    },
    {
      "cell_type": "markdown",
      "source": [
        "##DATOS CLIMATOLOGICOS"
      ],
      "metadata": {
        "id": "P8Rwnw9BXxrJ"
      }
    },
    {
      "cell_type": "code",
      "source": [
        "def buscar_elemento(soup, tag, identificador):\n",
        "    elemento = soup.find(tag, id=identificador) or soup.find(tag, class_=identificador)\n",
        "    if elemento:\n",
        "        return elemento.text.strip()\n",
        "    else:\n",
        "        return f'{tag.capitalize()} no encontrado'"
      ],
      "metadata": {
        "id": "rG_46nOeX24H"
      },
      "execution_count": 44,
      "outputs": []
    },
    {
      "cell_type": "code",
      "source": [
        "## Función para buscar color en Descenso /Estable/ En Ascenso\n",
        "def buscar_elemento_v(soup, tag, identificador):\n",
        "    elemento = soup.find(tag, id=identificador) or soup.find(tag, class_=identificador)\n",
        "    if elemento:\n",
        "        return elemento\n",
        "    else:\n",
        "        return None"
      ],
      "metadata": {
        "id": "9fGxMs2vX6zk"
      },
      "execution_count": 45,
      "outputs": []
    },
    {
      "cell_type": "code",
      "source": [
        "## Retorno de estado_color hacia estado\n",
        "def obtener_estado(Presion_Actividad_Pesca, ascenso_color, estable_color, descenso_color):\n",
        "    if Presion_Actividad_Pesca == 'ascenso_color':\n",
        "        resultado = 'en ascenso'\n",
        "    elif Presion_Actividad_Pesca == 'estable_color':\n",
        "        resultado = 'estable'\n",
        "    elif Presion_Actividad_Pesca == 'descenso_color':\n",
        "        resultado = 'en descenso'\n",
        "    else:\n",
        "        resultado = \"Presión de actividad de pesca desconocida\"\n",
        "\n",
        "    return resultado"
      ],
      "metadata": {
        "id": "Inx8PH9EYEUl"
      },
      "execution_count": 46,
      "outputs": []
    },
    {
      "cell_type": "code",
      "source": [
        "## Retorno mensaje de pesca\n",
        "def obtener_mensaje(Presion_Actividad_Pesca, ascenso_color, estable_color, descenso_color):\n",
        "    Mensaje = [\n",
        "        'Muy buena señal. Actividad alta prevista',\n",
        "        'Actividad normal de los peces',\n",
        "        'Buena pesca al principio, pero pronto dejarán de alimentarse'\n",
        "    ]\n",
        "\n",
        "    if Presion_Actividad_Pesca == 'ascenso_color':\n",
        "        resultado = Mensaje[0]\n",
        "    elif Presion_Actividad_Pesca == 'estable_color':\n",
        "        resultado = Mensaje[1]\n",
        "    elif Presion_Actividad_Pesca == 'descenso_color':\n",
        "        resultado = Mensaje[2]\n",
        "    else:\n",
        "        resultado = \"Presión de actividad de pesca desconocida\"\n",
        "\n",
        "    return resultado"
      ],
      "metadata": {
        "id": "WQSGfMdCYIFE"
      },
      "execution_count": 47,
      "outputs": []
    },
    {
      "cell_type": "code",
      "source": [
        "## Retorno del valor activo Descenso /Estable/ En Ascenso\n",
        "def encontrar_activa_v2(x, y, z):\n",
        "    variables = {'ascenso_color': ascenso_color, 'estable_color': estable_color, 'descenso_color': descenso_color}\n",
        "    activas = [variable for variable, valor in variables.items() if valor != '#ffffff']\n",
        "    if len(activas) == 1:\n",
        "        return activas[0]\n",
        "    else:\n",
        "        return \"Ninguna o multiples variables activas\""
      ],
      "metadata": {
        "id": "hqDfpfBlX7hc"
      },
      "execution_count": 48,
      "outputs": []
    },
    {
      "cell_type": "code",
      "source": [
        "## Estado para la pesca\n",
        "def obtener_estado_activo_pesca(soup):\n",
        "    elementos = soup.find_all('div', class_='circulo_estado_grafico_barometro1')\n",
        "    \n",
        "    for elemento in elementos:\n",
        "        if 'circulo_estado_grafico_barometro1_activo' in elemento['class']:\n",
        "            return elemento.next_sibling.strip()\n",
        "    \n",
        "    return \"Estado pesca actual no encontrado\""
      ],
      "metadata": {
        "id": "IGgwnGb2YL7i"
      },
      "execution_count": 49,
      "outputs": []
    },
    {
      "cell_type": "code",
      "source": [
        "#Viento\n",
        "Viento = buscar_elemento(soup, 'span', 'velocidad_grafico_viento')\n",
        "Viento_unidades = buscar_elemento(soup, 'span', 'unidades_grafico_viento')\n",
        "Rachas = buscar_elemento(soup, 'span', 'rafagas_datos_grafico_tiempo_valor')\n",
        "print('Viento:',Viento)\n",
        "print('Unidades de viento:',Viento_unidades,)\n",
        "print('Procedencia_Viento:',Rachas)\n",
        "print('\\n')\n",
        "\n",
        "#Section Temperatura\n",
        "Temperatura = buscar_elemento(soup, 'span', 'temperatura_grafico_termometro')\n",
        "Temperatura_Unidad = '°C'\n",
        "Temperatura_Max = buscar_elemento(soup, 'span', 'temperatura_grafico_termometro_max')\n",
        "Temperatura_Unidad_Max = '°C'\n",
        "Temperatura_Min = buscar_elemento(soup, 'span', 'temperatura_grafico_termometro_min')\n",
        "Temperatura_Unidad_Min = '°C'\n",
        "Temperatura_Sensacion = buscar_elemento(soup, 'span', 'temperatura_grafico_termometro_sensacion')\n",
        "Temperatura_Unidad_Sensacion = '°C'\n",
        "\n",
        "print('Temperatura:',Temperatura)\n",
        "print('Unidad de Temperatura:',Temperatura_Unidad)\n",
        "print('Temperatura Max:',Temperatura_Max)\n",
        "print('Unidad de Temperatura Max:',Temperatura_Unidad_Max)\n",
        "print('Temperatura Min:',Temperatura_Min)\n",
        "print('Unidad de Temperatura Min:',Temperatura_Unidad_Min)\n",
        "print('Temperatura Sensacion:',Temperatura_Sensacion)\n",
        "print('Unidad de Temperatura Sensacion:',Temperatura_Unidad_Sensacion)\n",
        "\n",
        "\n",
        "print('\\n')\n",
        "\n",
        "# Humedad\n",
        "Humedad = buscar_elemento(soup, 'span', 'humedad_grafico_humedad')\n",
        "Unidad_humedad = '%'\n",
        "Pto_Rocio = buscar_elemento(soup, 'span', 'rocio_datos_grafico_tiempo_valor')\n",
        "Unidad_Pto_Rocio = '°C'\n",
        "\n",
        "print('Humedad:',Humedad)\n",
        "print('Unidad Humedad:',Unidad_humedad)\n",
        "print('Punto de Rocio:',Pto_Rocio)\n",
        "print('Unidad Punto de Rocio:',Unidad_Pto_Rocio)\n",
        "print('\\n')\n",
        "\n",
        "#Tiempo\n",
        "Visibilidad = buscar_elemento(soup, 'span', 'numero_visibilidad_grafico_visibilidad')\n",
        "Visibilidad_Unidad = buscar_elemento(soup, 'span', 'unidades_grafico_viento')\n",
        "\n",
        "print('Visibilidad:',Visibilidad)\n",
        "print('Visibilidad Unidad:',Visibilidad_Unidad)\n",
        "print('\\n')\n",
        "\n",
        "#Presion\n",
        "Presion = buscar_elemento(soup, 'span', 'numeros_presion_grafico_barometro')\n",
        "Unidad_Presion = buscar_elemento(soup, 'span', 'unidades_presion_grafico_barometro')\n",
        "\n",
        "print('Presion:',Presion)\n",
        "print('Unidad Presion:',Unidad_Presion)\n",
        "print('\\n')\n",
        "\n",
        "## Presión en la actividad pesquera\n",
        "\n",
        "# Obtener el color de fondo\n",
        "ascenso_elemento = buscar_elemento_v(soup, 'div', 'leyenda_influencia_grafico_barometro_ascenso')\n",
        "estable_elemento = buscar_elemento_v(soup, 'div', 'leyenda_influencia_grafico_barometro_estable')\n",
        "descenso_elemento = buscar_elemento_v(soup, 'div', 'leyenda_influencia_grafico_barometro_descenso')\n",
        "\n",
        "# Obtener el color de fondo\n",
        "ascenso_color = ascenso_elemento['style'].split(':')[1].strip()\n",
        "estable_color = estable_elemento['style'].split(':')[1].strip()\n",
        "descenso_color = descenso_elemento['style'].split(':')[1].strip()\n",
        "\n",
        "Color_Presion_Actividad_Pesca=encontrar_activa_v2(ascenso_color,estable_color,descenso_color)     \n",
        "Presion_Actividad_Pesca=obtener_estado(Color_Presion_Actividad_Pesca, ascenso_color, estable_color, descenso_color)\n",
        "Mensaje_Presion_Actividad_Pesca = obtener_mensaje(Color_Presion_Actividad_Pesca, ascenso_color, estable_color, descenso_color)\n",
        "Estado_activo_pesca=obtener_estado_activo_pesca(soup)\n",
        "\n",
        "print('Color Actividad Pesca:',Color_Presion_Actividad_Pesca)\n",
        "print('Presion Actividad Pesca:',Presion_Actividad_Pesca)\n",
        "print('Mensaje Presion Actividad Pesca:',Mensaje_Presion_Actividad_Pesca)\n",
        "print('Estado activo pesca:',Estado_activo_pesca)\n",
        "\n",
        "print('\\n')\n"
      ],
      "metadata": {
        "colab": {
          "base_uri": "https://localhost:8080/"
        },
        "id": "WDlnxjvZYQhq",
        "outputId": "0ff82995-d00a-4d01-9162-41dd666bd3ee"
      },
      "execution_count": 50,
      "outputs": [
        {
          "output_type": "stream",
          "name": "stdout",
          "text": [
            "Viento: 10\n",
            "Unidades de viento: km/h\n",
            "Procedencia_Viento: 16 km/h\n",
            "\n",
            "\n",
            "Temperatura: 13\n",
            "Unidad de Temperatura: °C\n",
            "Temperatura Max: 13\n",
            "Unidad de Temperatura Max: °C\n",
            "Temperatura Min: 8\n",
            "Unidad de Temperatura Min: °C\n",
            "Temperatura Sensacion: 12\n",
            "Unidad de Temperatura Sensacion: °C\n",
            "\n",
            "\n",
            "Humedad: 86\n",
            "Unidad Humedad: %\n",
            "Punto de Rocio: 10\n",
            "Unidad Punto de Rocio: °C\n",
            "\n",
            "\n",
            "Visibilidad: 14\n",
            "Visibilidad Unidad: km/h\n",
            "\n",
            "\n",
            "Presion: 1018\n",
            "Unidad Presion: hPa\n",
            "\n",
            "\n",
            "Color Actividad Pesca: estable_color\n",
            "Presion Actividad Pesca: estable\n",
            "Mensaje Presion Actividad Pesca: Actividad normal de los peces\n",
            "Estado activo pesca: MUY BUENO\n",
            "\n",
            "\n"
          ]
        }
      ]
    },
    {
      "cell_type": "markdown",
      "source": [
        "## TABLAS MAREAS"
      ],
      "metadata": {
        "id": "yIS-zCG_YWK-"
      }
    },
    {
      "cell_type": "code",
      "source": [
        "def tabla_zona_costa_captura_datos(soup, id_fila):\n",
        "    tabla = soup.find('div', id=f'tabla_datos_tiempo_datos_datos_cuadro_pie_{id_fila}')\n",
        "    numero_lluvia = None\n",
        "    cantidad_lluvia = None\n",
        "    \n",
        "    if tabla is not None:\n",
        "        numero_lluvia_element = tabla.find('span', class_='tabla_datos_tiempo_datos_datos_cuadro_pie_color_lila')\n",
        "        cantidad_lluvia_element = tabla.find('span', class_='tabla_datos_tiempo_datos_datos_cuadro_pie_color_celeste')\n",
        "        \n",
        "        if numero_lluvia_element is not None:\n",
        "            numero_lluvia = numero_lluvia_element.text\n",
        "        \n",
        "        if cantidad_lluvia_element is not None:\n",
        "            cantidad_lluvia = cantidad_lluvia_element.text\n",
        "\n",
        "    return numero_lluvia, cantidad_lluvia"
      ],
      "metadata": {
        "id": "IFSLNHm0YfmY"
      },
      "execution_count": 51,
      "outputs": []
    },
    {
      "cell_type": "code",
      "source": [
        "def tabla_zona_api_marine(soup1, id_fila):\n",
        "  # Buscar el elemento padre por su ID\n",
        "  etiqueta_padre_marine = soup.find('div', id='selector_api')\n",
        "\n",
        "  # Activar estado de zona de costa\n",
        "  etiqueta_zona_costa_marine = etiqueta_padre_marine.find('div', id='selector_api_marine')\n",
        "\n",
        "  # Asignar el nuevo valor al atributo onclick\n",
        "  etiqueta_zona_costa_marine['onclick'] = \"CambiarAPI('marine', 1);\"\n",
        "\n",
        "  # Obtener el contenido principal de zona costera\n",
        "  contenido_zona_costa_marine = etiqueta_zona_costa_marine.find('div', class_='selector_api_texto').text\n",
        "\n",
        "  # Imprimir el resultado\n",
        "  print(contenido_zona_costa_marine)\n",
        "\n",
        "  contenedor_principal = soup1.find('div', id='tabla_datos_tiempo_datos')\n",
        "  fila_datos = contenedor_principal.find('div', id=f'tabla_datos_tiempo_datos_{id_fila}')\n",
        "  tiempo = fila_datos.find('div', class_='tabla_datos_tiempo_datos_tiempo').text\n",
        "  datos_tiempo = fila_datos.find('div', class_='tabla_datos_tiempo_datos_datos')\n",
        "  cuadros = datos_tiempo.find_all('div', class_='tabla_datos_tiempo_datos_datos_cuadro')\n",
        "  resultados = []\n",
        "\n",
        "  humedad_encontrada = False  # Variable para verificar si se ha encontrado una entrada de humedad válida\n",
        "\n",
        "  for cuadro in cuadros:\n",
        "      titulo_element = cuadro.find('div', class_='tabla_datos_tiempo_datos_datos_cuadro_titulo')\n",
        "      numero_element = cuadro.find('div', class_='tabla_datos_tiempo_datos_datos_cuadro_num')\n",
        "      unidades_element = cuadro.find('span', class_='tabla_datos_tiempo_datos_datos_cuadro_num_unidades')\n",
        "\n",
        "      titulo = titulo_element.text if titulo_element else ''\n",
        "      numero = numero_element.text if numero_element else ''\n",
        "      unidades = unidades_element.text if unidades_element else ''\n",
        "\n",
        "      # Omitir los resultados con título vacío\n",
        "      if not titulo:\n",
        "          continue\n",
        "\n",
        "      # Solución para capturar el valor de temperatura correctamente\n",
        "      if titulo == 'Temp.':\n",
        "          numero_element = cuadro.find('span', class_='tabla_datos_tiempo_datos_datos_cuadro_num_grande_color')\n",
        "          numero = numero_element.text if numero_element else ''\n",
        "\n",
        "      # Solución para capturar el valor de viento correctamente\n",
        "      if titulo == 'Viento':\n",
        "          viento_valor_element = cuadro.find('div', class_='tabla_datos_tiempo_datos_datos_cuadro_flecha_numero')\n",
        "          viento_valor = viento_valor_element.text if viento_valor_element else ''\n",
        "          resultado = {\n",
        "              'titulo': titulo,\n",
        "              'numero': viento_valor,\n",
        "              'unidades': ''\n",
        "          }\n",
        "          resultados.append(resultado)\n",
        "          continue\n",
        "\n",
        "      resultado = {\n",
        "          'titulo': titulo,\n",
        "          'numero': numero,\n",
        "          'unidades': unidades\n",
        "      }\n",
        "      \n",
        "      if titulo == 'Humedad' and not humedad_encontrada:\n",
        "          humedad_numero_element = cuadro.find('div', class_='tabla_datos_tiempo_datos_datos_cuadro_num_grande')\n",
        "          humedad_numero = humedad_numero_element.find('span', class_='tabla_datos_tiempo_datos_datos_cuadro_num_numero').text\n",
        "          humedad_unidades_element = cuadro.find('span', class_='tabla_datos_tiempo_datos_datos_cuadro_num_unidades')\n",
        "          humedad_unidades = humedad_unidades_element.text if humedad_unidades_element else ''\n",
        "          if humedad_numero and humedad_unidades:\n",
        "              resultado_humedad = {\n",
        "                  'titulo': titulo,\n",
        "                  'numero': humedad_numero,\n",
        "                  'unidades': humedad_unidades\n",
        "              }\n",
        "              resultados.append(resultado_humedad)\n",
        "              humedad_encontrada = True  # Marcar la humedad como encontrada\n",
        "      else:\n",
        "          resultados.append(resultado)\n",
        "\n",
        "  presion_influencia_element = contenedor_principal.find('div', class_='tabla_datos_tiempo_datos_datos_presion_influencia')\n",
        "  if presion_influencia_element is not None:\n",
        "      presion_influencia = presion_influencia_element.text.strip()\n",
        "      resultados.append({'Presión Influencia': presion_influencia})\n",
        "\n",
        "  presion_estado_element = contenedor_principal.find('div', class_='tabla_datos_tiempo_datos_datos_presion_estado')\n",
        "  if presion_estado_element is not None:\n",
        "      presion_estado = presion_estado_element.text.strip()\n",
        "      resultados.append({'Presión Estado': presion_estado})\n",
        "\n",
        "  sensacion_element = contenedor_principal.find('div', class_='tabla_datos_tiempo_datos_datos_cuadro_subtitulo')\n",
        "  if sensacion_element is not None:\n",
        "      sensacion_valor_element = sensacion_element.find_next_sibling('div', class_='tabla_datos_tiempo_datos_datos_cuadro_num_chico')\n",
        "      if sensacion_valor_element is not None:\n",
        "          sensacion_valor = sensacion_valor_element.text.strip()\n",
        "          resultados.append({'Sensación': sensacion_valor})\n",
        "\n",
        "  punto_rocio_element = contenedor_principal.find('div', class_='tabla_datos_tiempo_datos_datos_cuadro_subtitulo', string='punto rocío')\n",
        "  if punto_rocio_element is not None:\n",
        "      punto_rocio_valor_element = punto_rocio_element.find_next_sibling('div', class_='tabla_datos_tiempo_datos_datos_cuadro_num_chico')\n",
        "      if punto_rocio_valor_element is not None:\n",
        "          punto_rocio_valor = punto_rocio_valor_element.text.strip()\n",
        "          resultados.append({'Punto Rocío': punto_rocio_valor})\n",
        "\n",
        "  viento_element = contenedor_principal.find('div', class_='tabla_datos_tiempo_datos_datos_cuadro_num_grande', title='Velocidad del viento (km/h)\\ny procedencia del viento')\n",
        "  if viento_element is not None:\n",
        "      viento_valor_element = viento_element.find_next_sibling('div', class_='tabla_datos_tiempo_datos_datos_cuadro_flecha_numero')\n",
        "      if viento_valor_element is not None:\n",
        "          viento_valor = viento_valor_element.text.strip()\n",
        "          resultados.append({'Viento': viento_valor})\n",
        "\n",
        "  direccion_element = contenedor_principal.find('div', class_='tabla_datos_tiempo_datos_datos_cuadro_num_direccion')\n",
        "  if direccion_element is not None:\n",
        "      direccion_texto = direccion_element.text.strip()\n",
        "      viento_resultado = next((r for r in resultados if r['titulo'] == 'Viento'), None)\n",
        "      if viento_resultado:\n",
        "          viento_resultado['unidades'] = direccion_texto\n",
        "\n",
        "  resultados = [r for r in resultados if r.get('titulo') != 'Humidity']\n",
        "  \n",
        "  hora_element = fila_datos.find('div', class_='tabla_datos_tiempo_datos_tiempo_hora')\n",
        "  numero_hora = hora_element.find('span', class_='tabla_datos_tiempo_datos_tiempo_hora_num').text\n",
        "  letra_hora = hora_element.text.strip()[-1]\n",
        "  \n",
        "  numero_lluvia, cantidad_lluvia = tabla_zona_costa_captura_datos(soup, id_fila)\n",
        "  \n",
        "  resultados.append({'Hora': f'{numero_hora} {letra_hora}'})\n",
        "  resultados.append({'Probabilidad de lluvia': numero_lluvia})\n",
        "  resultados.append({'Cantidad de agua': cantidad_lluvia})\n",
        "  \n",
        "  return resultados"
      ],
      "metadata": {
        "id": "BbS_rnyxYlq0"
      },
      "execution_count": 52,
      "outputs": []
    },
    {
      "cell_type": "code",
      "source": [
        "def tabla_zona_api_weather(soup, id_fila):\n",
        "# Buscar el elemento padre por su ID\n",
        "  etiqueta_padre_marine = soup.find('div', id='selector_api')\n",
        "\n",
        "  # Activar estado de zona de costa\n",
        "  etiqueta_zona_costa_marine = etiqueta_padre_marine.find('div', id='selector_api_weather')\n",
        "\n",
        "  # Asignar el nuevo valor al atributo onclick\n",
        "  etiqueta_zona_costa_marine['onclick'] = \"CambiarAPI('weather', 1);\"\n",
        "\n",
        "  # Obtener el contenido principal de zona costera\n",
        "  contenido_zona_costa_marine = etiqueta_zona_costa_marine.find('div', class_='selector_api_texto').text\n",
        "\n",
        "  # Imprimir el resultado\n",
        "  print(contenido_zona_costa_marine)\n",
        "\n",
        "  contenedor_principal = soup.find('div', id='tabla_datos_tiempo_datos')\n",
        "  fila_datos = contenedor_principal.find('div', id=f'tabla_datos_tiempo_datos_{id_fila}')\n",
        "  tiempo = fila_datos.find('div', class_='tabla_datos_tiempo_datos_tiempo').text\n",
        "  datos_tiempo = fila_datos.find('div', class_='tabla_datos_tiempo_datos_datos')\n",
        "  cuadros = datos_tiempo.find_all('div', class_='tabla_datos_tiempo_datos_datos_cuadro')\n",
        "  resultados = []\n",
        "\n",
        "  humedad_encontrada = False  # Variable para verificar si se ha encontrado una entrada de humedad válida\n",
        "\n",
        "  for cuadro in cuadros:\n",
        "      titulo_element = cuadro.find('div', class_='tabla_datos_tiempo_datos_datos_cuadro_titulo')\n",
        "      numero_element = cuadro.find('div', class_='tabla_datos_tiempo_datos_datos_cuadro_num')\n",
        "      unidades_element = cuadro.find('span', class_='tabla_datos_tiempo_datos_datos_cuadro_num_unidades')\n",
        "\n",
        "      titulo = titulo_element.text if titulo_element else ''\n",
        "      numero = numero_element.text if numero_element else ''\n",
        "      unidades = unidades_element.text if unidades_element else ''\n",
        "\n",
        "      # Omitir los resultados con título vacío\n",
        "      if not titulo:\n",
        "          continue\n",
        "\n",
        "      # Solución para capturar el valor de temperatura correctamente\n",
        "      if titulo == 'Temp.':\n",
        "          numero_element = cuadro.find('span', class_='tabla_datos_tiempo_datos_datos_cuadro_num_grande_color')\n",
        "          numero = numero_element.text if numero_element else ''\n",
        "\n",
        "      # Solución para capturar el valor de viento correctamente\n",
        "      if titulo == 'Viento':\n",
        "          viento_valor_element = cuadro.find('div', class_='tabla_datos_tiempo_datos_datos_cuadro_flecha_numero')\n",
        "          viento_valor = viento_valor_element.text if viento_valor_element else ''\n",
        "          resultado = {\n",
        "              'titulo': titulo,\n",
        "              'numero': viento_valor,\n",
        "              'unidades': ''\n",
        "          }\n",
        "          resultados.append(resultado)\n",
        "          continue\n",
        "\n",
        "      resultado = {\n",
        "          'titulo': titulo,\n",
        "          'numero': numero,\n",
        "          'unidades': unidades\n",
        "      }\n",
        "      \n",
        "      if titulo == 'Humedad' and not humedad_encontrada:\n",
        "          humedad_numero_element = cuadro.find('div', class_='tabla_datos_tiempo_datos_datos_cuadro_num_grande')\n",
        "          humedad_numero = humedad_numero_element.find('span', class_='tabla_datos_tiempo_datos_datos_cuadro_num_numero').text\n",
        "          humedad_unidades_element = cuadro.find('span', class_='tabla_datos_tiempo_datos_datos_cuadro_num_unidades')\n",
        "          humedad_unidades = humedad_unidades_element.text if humedad_unidades_element else ''\n",
        "          if humedad_numero and humedad_unidades:\n",
        "              resultado_humedad = {\n",
        "                  'titulo': titulo,\n",
        "                  'numero': humedad_numero,\n",
        "                  'unidades': humedad_unidades\n",
        "              }\n",
        "              resultados.append(resultado_humedad)\n",
        "              humedad_encontrada = True  # Marcar la humedad como encontrada\n",
        "      else:\n",
        "          resultados.append(resultado)\n",
        "\n",
        "  presion_influencia_element = contenedor_principal.find('div', class_='tabla_datos_tiempo_datos_datos_presion_influencia')\n",
        "  if presion_influencia_element is not None:\n",
        "      presion_influencia = presion_influencia_element.text.strip()\n",
        "      resultados.append({'Presión Influencia': presion_influencia})\n",
        "\n",
        "  presion_estado_element = contenedor_principal.find('div', class_='tabla_datos_tiempo_datos_datos_presion_estado')\n",
        "  if presion_estado_element is not None:\n",
        "      presion_estado = presion_estado_element.text.strip()\n",
        "      resultados.append({'Presión Estado': presion_estado})\n",
        "\n",
        "  sensacion_element = contenedor_principal.find('div', class_='tabla_datos_tiempo_datos_datos_cuadro_subtitulo')\n",
        "  if sensacion_element is not None:\n",
        "      sensacion_valor_element = sensacion_element.find_next_sibling('div', class_='tabla_datos_tiempo_datos_datos_cuadro_num_chico')\n",
        "      if sensacion_valor_element is not None:\n",
        "          sensacion_valor = sensacion_valor_element.text.strip()\n",
        "          resultados.append({'Sensación': sensacion_valor})\n",
        "\n",
        "  punto_rocio_element = contenedor_principal.find('div', class_='tabla_datos_tiempo_datos_datos_cuadro_subtitulo', string='punto rocío')\n",
        "  if punto_rocio_element is not None:\n",
        "      punto_rocio_valor_element = punto_rocio_element.find_next_sibling('div', class_='tabla_datos_tiempo_datos_datos_cuadro_num_chico')\n",
        "      if punto_rocio_valor_element is not None:\n",
        "          punto_rocio_valor = punto_rocio_valor_element.text.strip()\n",
        "          resultados.append({'Punto Rocío': punto_rocio_valor})\n",
        "\n",
        "  viento_element = contenedor_principal.find('div', class_='tabla_datos_tiempo_datos_datos_cuadro_num_grande', title='Velocidad del viento (km/h)\\ny procedencia del viento')\n",
        "  if viento_element is not None:\n",
        "      viento_valor_element = viento_element.find_next_sibling('div', class_='tabla_datos_tiempo_datos_datos_cuadro_flecha_numero')\n",
        "      if viento_valor_element is not None:\n",
        "          viento_valor = viento_valor_element.text.strip()\n",
        "          resultados.append({'Viento': viento_valor})\n",
        "\n",
        "  direccion_element = contenedor_principal.find('div', class_='tabla_datos_tiempo_datos_datos_cuadro_num_direccion')\n",
        "  if direccion_element is not None:\n",
        "      direccion_texto = direccion_element.text.strip()\n",
        "      viento_resultado = next((r for r in resultados if r['titulo'] == 'Viento'), None)\n",
        "      if viento_resultado:\n",
        "          viento_resultado['unidades'] = direccion_texto\n",
        "\n",
        "  resultados = [r for r in resultados if r.get('titulo') != 'Humidity']\n",
        "  \n",
        "  hora_element = fila_datos.find('div', class_='tabla_datos_tiempo_datos_tiempo_hora')\n",
        "  numero_hora = hora_element.find('span', class_='tabla_datos_tiempo_datos_tiempo_hora_num').text\n",
        "  letra_hora = hora_element.text.strip()[-1]\n",
        "  \n",
        "  numero_lluvia, cantidad_lluvia = tabla_zona_costa_captura_datos(soup, id_fila)\n",
        "  \n",
        "  resultados.append({'Hora': f'{numero_hora} {letra_hora}'})\n",
        "  resultados.append({'Probabilidad de lluvia': numero_lluvia})\n",
        "  resultados.append({'Cantidad de agua': cantidad_lluvia})\n",
        "  \n",
        "  return resultados"
      ],
      "metadata": {
        "id": "OwvU5pUoYqVb"
      },
      "execution_count": 53,
      "outputs": []
    },
    {
      "cell_type": "code",
      "source": [
        "def imprimir_tablas(soup):\n",
        "  for id_fila in range(24):\n",
        "    if (soup is globals().get('soup')):\n",
        "      resultados = tabla_zona_api_weather(soup, id_fila)\n",
        "      print(resultados)\n",
        "    elif (soup is globals().get('soup1')):\n",
        "      resultados = tabla_zona_api_marine(soup, id_fila)\n",
        "      print(resultados)"
      ],
      "metadata": {
        "id": "4SDPeqGkYtrf"
      },
      "execution_count": 54,
      "outputs": []
    },
    {
      "cell_type": "code",
      "source": [
        "imprimir_tablas(soup)"
      ],
      "metadata": {
        "colab": {
          "base_uri": "https://localhost:8080/"
        },
        "id": "__OuPEjqZfmx",
        "outputId": "57014b75-c83d-4fd1-9fd2-eb44e3450e47"
      },
      "execution_count": 55,
      "outputs": [
        {
          "output_type": "stream",
          "name": "stdout",
          "text": [
            "\n",
            " Previsión en zona costera \n",
            " COSTA DE PUERTO MONTT \n",
            "\n",
            "[{'titulo': 'Presión', 'numero': '1014', 'unidades': ''}, {'titulo': 'Temp.', 'numero': '11°', 'unidades': ' °C'}, {'titulo': 'Humedad', 'numero': '93', 'unidades': ' %'}, {'titulo': 'Viento', 'numero': '19', 'unidades': 'N'}, {'Presión Influencia': 'estable'}, {'Presión Estado': 'Muy bueno'}, {'Sensación': '8 °C'}, {'Punto Rocío': '9 °C'}, {'Hora': '0 h'}, {'Probabilidad de lluvia': '79% '}, {'Cantidad de agua': '0.4'}]\n",
            "\n",
            " Previsión en zona costera \n",
            " COSTA DE PUERTO MONTT \n",
            "\n",
            "[{'titulo': 'Presión', 'numero': '1014', 'unidades': ''}, {'titulo': 'Temp.', 'numero': '11°', 'unidades': ' °C'}, {'titulo': 'Humedad', 'numero': '93', 'unidades': ' %'}, {'titulo': 'Viento', 'numero': '18', 'unidades': 'N'}, {'Presión Influencia': 'estable'}, {'Presión Estado': 'Muy bueno'}, {'Sensación': '8 °C'}, {'Punto Rocío': '9 °C'}, {'Hora': '1 h'}, {'Probabilidad de lluvia': '79% '}, {'Cantidad de agua': '0.6'}]\n",
            "\n",
            " Previsión en zona costera \n",
            " COSTA DE PUERTO MONTT \n",
            "\n",
            "[{'titulo': 'Presión', 'numero': '1014', 'unidades': ''}, {'titulo': 'Temp.', 'numero': '11°', 'unidades': ' °C'}, {'titulo': 'Humedad', 'numero': '94', 'unidades': ' %'}, {'titulo': 'Viento', 'numero': '18', 'unidades': 'N'}, {'Presión Influencia': 'estable'}, {'Presión Estado': 'Muy bueno'}, {'Sensación': '8 °C'}, {'Punto Rocío': '9 °C'}, {'Hora': '2 h'}, {'Probabilidad de lluvia': '83% '}, {'Cantidad de agua': '1.9'}]\n",
            "\n",
            " Previsión en zona costera \n",
            " COSTA DE PUERTO MONTT \n",
            "\n",
            "[{'titulo': 'Presión', 'numero': '1014', 'unidades': ''}, {'titulo': 'Temp.', 'numero': '11°', 'unidades': ' °C'}, {'titulo': 'Humedad', 'numero': '95', 'unidades': ' %'}, {'titulo': 'Viento', 'numero': '16', 'unidades': 'N'}, {'Presión Influencia': 'estable'}, {'Presión Estado': 'Muy bueno'}, {'Sensación': '8 °C'}, {'Punto Rocío': '9 °C'}, {'Hora': '3 h'}, {'Probabilidad de lluvia': '69% '}, {'Cantidad de agua': '0.5'}]\n",
            "\n",
            " Previsión en zona costera \n",
            " COSTA DE PUERTO MONTT \n",
            "\n",
            "[{'titulo': 'Presión', 'numero': '1014', 'unidades': ''}, {'titulo': 'Temp.', 'numero': '11°', 'unidades': ' °C'}, {'titulo': 'Humedad', 'numero': '96', 'unidades': ' %'}, {'titulo': 'Viento', 'numero': '13', 'unidades': 'N'}, {'Presión Influencia': 'estable'}, {'Presión Estado': 'Muy bueno'}, {'Sensación': '8 °C'}, {'Punto Rocío': '9 °C'}, {'Hora': '4 h'}, {'Probabilidad de lluvia': '79% '}, {'Cantidad de agua': '0.5'}]\n",
            "\n",
            " Previsión en zona costera \n",
            " COSTA DE PUERTO MONTT \n",
            "\n",
            "[{'titulo': 'Presión', 'numero': '1015', 'unidades': ''}, {'titulo': 'Temp.', 'numero': '11°', 'unidades': ' °C'}, {'titulo': 'Humedad', 'numero': '96', 'unidades': ' %'}, {'titulo': 'Viento', 'numero': '11', 'unidades': 'N'}, {'Presión Influencia': 'estable'}, {'Presión Estado': 'Muy bueno'}, {'Sensación': '8 °C'}, {'Punto Rocío': '9 °C'}, {'Hora': '5 h'}, {'Probabilidad de lluvia': '76% '}, {'Cantidad de agua': '2.0'}]\n",
            "\n",
            " Previsión en zona costera \n",
            " COSTA DE PUERTO MONTT \n",
            "\n",
            "[{'titulo': 'Presión', 'numero': '1015', 'unidades': ''}, {'titulo': 'Temp.', 'numero': '11°', 'unidades': ' °C'}, {'titulo': 'Humedad', 'numero': '96', 'unidades': ' %'}, {'titulo': 'Viento', 'numero': '11', 'unidades': 'N'}, {'Presión Influencia': 'estable'}, {'Presión Estado': 'Muy bueno'}, {'Sensación': '8 °C'}, {'Punto Rocío': '9 °C'}, {'Hora': '6 h'}, {'Probabilidad de lluvia': '77% '}, {'Cantidad de agua': '0.4'}]\n",
            "\n",
            " Previsión en zona costera \n",
            " COSTA DE PUERTO MONTT \n",
            "\n",
            "[{'titulo': 'Presión', 'numero': '1016', 'unidades': ''}, {'titulo': 'Temp.', 'numero': '11°', 'unidades': ' °C'}, {'titulo': 'Humedad', 'numero': '97', 'unidades': ' %'}, {'titulo': 'Viento', 'numero': '11', 'unidades': 'N'}, {'Presión Influencia': 'estable'}, {'Presión Estado': 'Muy bueno'}, {'Sensación': '8 °C'}, {'Punto Rocío': '9 °C'}, {'Hora': '7 h'}, {'Probabilidad de lluvia': '83% '}, {'Cantidad de agua': '0.6'}]\n",
            "\n",
            " Previsión en zona costera \n",
            " COSTA DE PUERTO MONTT \n",
            "\n",
            "[{'titulo': 'Presión', 'numero': '1017', 'unidades': ''}, {'titulo': 'Temp.', 'numero': '11°', 'unidades': ' °C'}, {'titulo': 'Humedad', 'numero': '98', 'unidades': ' %'}, {'titulo': 'Viento', 'numero': '10', 'unidades': 'N'}, {'Presión Influencia': 'estable'}, {'Presión Estado': 'Muy bueno'}, {'Sensación': '8 °C'}, {'Punto Rocío': '9 °C'}, {'Hora': '8 h'}, {'Probabilidad de lluvia': '81% '}, {'Cantidad de agua': '2.9'}]\n",
            "\n",
            " Previsión en zona costera \n",
            " COSTA DE PUERTO MONTT \n",
            "\n",
            "[{'titulo': 'Presión', 'numero': '1018', 'unidades': ''}, {'titulo': 'Temp.', 'numero': '10°', 'unidades': ' °C'}, {'titulo': 'Humedad', 'numero': '97', 'unidades': ' %'}, {'titulo': 'Viento', 'numero': '10', 'unidades': 'N'}, {'Presión Influencia': 'estable'}, {'Presión Estado': 'Muy bueno'}, {'Sensación': '8 °C'}, {'Punto Rocío': '9 °C'}, {'Hora': '9 h'}, {'Probabilidad de lluvia': '81% '}, {'Cantidad de agua': '0.6'}]\n",
            "\n",
            " Previsión en zona costera \n",
            " COSTA DE PUERTO MONTT \n",
            "\n",
            "[{'titulo': 'Presión', 'numero': '1018', 'unidades': ''}, {'titulo': 'Temp.', 'numero': '11°', 'unidades': ' °C'}, {'titulo': 'Humedad', 'numero': '96', 'unidades': ' %'}, {'titulo': 'Viento', 'numero': '10', 'unidades': 'N'}, {'Presión Influencia': 'estable'}, {'Presión Estado': 'Muy bueno'}, {'Sensación': '8 °C'}, {'Punto Rocío': '9 °C'}, {'Hora': '10 h'}, {'Probabilidad de lluvia': '80% '}, {'Cantidad de agua': '0.5'}]\n",
            "\n",
            " Previsión en zona costera \n",
            " COSTA DE PUERTO MONTT \n",
            "\n",
            "[{'titulo': 'Presión', 'numero': '1019', 'unidades': ''}, {'titulo': 'Temp.', 'numero': '12°', 'unidades': ' °C'}, {'titulo': 'Humedad', 'numero': '93', 'unidades': ' %'}, {'titulo': 'Viento', 'numero': '10', 'unidades': 'N'}, {'Presión Influencia': 'estable'}, {'Presión Estado': 'Muy bueno'}, {'Sensación': '8 °C'}, {'Punto Rocío': '9 °C'}, {'Hora': '11 h'}, {'Probabilidad de lluvia': '86% '}, {'Cantidad de agua': '1.6'}]\n",
            "\n",
            " Previsión en zona costera \n",
            " COSTA DE PUERTO MONTT \n",
            "\n",
            "[{'titulo': 'Presión', 'numero': '1019', 'unidades': ''}, {'titulo': 'Temp.', 'numero': '12°', 'unidades': ' °C'}, {'titulo': 'Humedad', 'numero': '90', 'unidades': ' %'}, {'titulo': 'Viento', 'numero': '10', 'unidades': 'N'}, {'Presión Influencia': 'estable'}, {'Presión Estado': 'Muy bueno'}, {'Sensación': '8 °C'}, {'Punto Rocío': '9 °C'}, {'Hora': '12 h'}, {'Probabilidad de lluvia': '88% '}, {'Cantidad de agua': '0.4'}]\n",
            "\n",
            " Previsión en zona costera \n",
            " COSTA DE PUERTO MONTT \n",
            "\n",
            "[{'titulo': 'Presión', 'numero': '1019', 'unidades': ''}, {'titulo': 'Temp.', 'numero': '13°', 'unidades': ' °C'}, {'titulo': 'Humedad', 'numero': '87', 'unidades': ' %'}, {'titulo': 'Viento', 'numero': '10', 'unidades': 'N'}, {'Presión Influencia': 'estable'}, {'Presión Estado': 'Muy bueno'}, {'Sensación': '8 °C'}, {'Punto Rocío': '9 °C'}, {'Hora': '13 h'}, {'Probabilidad de lluvia': '74% '}, {'Cantidad de agua': '0.5'}]\n",
            "\n",
            " Previsión en zona costera \n",
            " COSTA DE PUERTO MONTT \n",
            "\n",
            "[{'titulo': 'Presión', 'numero': '1018', 'unidades': ''}, {'titulo': 'Temp.', 'numero': '13°', 'unidades': ' °C'}, {'titulo': 'Humedad', 'numero': '86', 'unidades': ' %'}, {'titulo': 'Viento', 'numero': '10', 'unidades': 'N'}, {'Presión Influencia': 'estable'}, {'Presión Estado': 'Muy bueno'}, {'Sensación': '8 °C'}, {'Punto Rocío': '9 °C'}, {'Hora': '14 h'}, {'Probabilidad de lluvia': '77% '}, {'Cantidad de agua': '2.5'}]\n",
            "\n",
            " Previsión en zona costera \n",
            " COSTA DE PUERTO MONTT \n",
            "\n",
            "[{'titulo': 'Presión', 'numero': '1018', 'unidades': ''}, {'titulo': 'Temp.', 'numero': '13°', 'unidades': ' °C'}, {'titulo': 'Humedad', 'numero': '87', 'unidades': ' %'}, {'titulo': 'Viento', 'numero': '8', 'unidades': 'N'}, {'Presión Influencia': 'estable'}, {'Presión Estado': 'Muy bueno'}, {'Sensación': '8 °C'}, {'Punto Rocío': '9 °C'}, {'Hora': '15 h'}, {'Probabilidad de lluvia': '69% '}, {'Cantidad de agua': '0.9'}]\n",
            "\n",
            " Previsión en zona costera \n",
            " COSTA DE PUERTO MONTT \n",
            "\n",
            "[{'titulo': 'Presión', 'numero': '1018', 'unidades': ''}, {'titulo': 'Temp.', 'numero': '12°', 'unidades': ' °C'}, {'titulo': 'Humedad', 'numero': '89', 'unidades': ' %'}, {'titulo': 'Viento', 'numero': '6', 'unidades': 'N'}, {'Presión Influencia': 'estable'}, {'Presión Estado': 'Muy bueno'}, {'Sensación': '8 °C'}, {'Punto Rocío': '9 °C'}, {'Hora': '16 h'}, {'Probabilidad de lluvia': '68% '}, {'Cantidad de agua': '0.7'}]\n",
            "\n",
            " Previsión en zona costera \n",
            " COSTA DE PUERTO MONTT \n",
            "\n",
            "[{'titulo': 'Presión', 'numero': '1019', 'unidades': ''}, {'titulo': 'Temp.', 'numero': '11°', 'unidades': ' °C'}, {'titulo': 'Humedad', 'numero': '91', 'unidades': ' %'}, {'titulo': 'Viento', 'numero': '6', 'unidades': 'N'}, {'Presión Influencia': 'estable'}, {'Presión Estado': 'Muy bueno'}, {'Sensación': '8 °C'}, {'Punto Rocío': '9 °C'}, {'Hora': '17 h'}, {'Probabilidad de lluvia': '78% '}, {'Cantidad de agua': '2.0'}]\n",
            "\n",
            " Previsión en zona costera \n",
            " COSTA DE PUERTO MONTT \n",
            "\n",
            "[{'titulo': 'Presión', 'numero': '1019', 'unidades': ''}, {'titulo': 'Temp.', 'numero': '9°', 'unidades': ' °C'}, {'titulo': 'Humedad', 'numero': '93', 'unidades': ' %'}, {'titulo': 'Viento', 'numero': '6', 'unidades': 'N'}, {'Presión Influencia': 'estable'}, {'Presión Estado': 'Muy bueno'}, {'Sensación': '8 °C'}, {'Punto Rocío': '9 °C'}, {'Hora': '18 h'}, {'Probabilidad de lluvia': '67% '}, {'Cantidad de agua': '0.5'}]\n",
            "\n",
            " Previsión en zona costera \n",
            " COSTA DE PUERTO MONTT \n",
            "\n",
            "[{'titulo': 'Presión', 'numero': '1020', 'unidades': ''}, {'titulo': 'Temp.', 'numero': '9°', 'unidades': ' °C'}, {'titulo': 'Humedad', 'numero': '93', 'unidades': ' %'}, {'titulo': 'Viento', 'numero': '6', 'unidades': 'N'}, {'Presión Influencia': 'estable'}, {'Presión Estado': 'Muy bueno'}, {'Sensación': '8 °C'}, {'Punto Rocío': '9 °C'}, {'Hora': '19 h'}, {'Probabilidad de lluvia': '72% '}, {'Cantidad de agua': '0.5'}]\n",
            "\n",
            " Previsión en zona costera \n",
            " COSTA DE PUERTO MONTT \n",
            "\n",
            "[{'titulo': 'Presión', 'numero': '1020', 'unidades': ''}, {'titulo': 'Temp.', 'numero': '8°', 'unidades': ' °C'}, {'titulo': 'Humedad', 'numero': '93', 'unidades': ' %'}, {'titulo': 'Viento', 'numero': '8', 'unidades': 'N'}, {'Presión Influencia': 'estable'}, {'Presión Estado': 'Muy bueno'}, {'Sensación': '8 °C'}, {'Punto Rocío': '9 °C'}, {'Hora': '20 h'}, {'Probabilidad de lluvia': '77% '}, {'Cantidad de agua': '2.1'}]\n",
            "\n",
            " Previsión en zona costera \n",
            " COSTA DE PUERTO MONTT \n",
            "\n",
            "[{'titulo': 'Presión', 'numero': '1019', 'unidades': ''}, {'titulo': 'Temp.', 'numero': '8°', 'unidades': ' °C'}, {'titulo': 'Humedad', 'numero': '93', 'unidades': ' %'}, {'titulo': 'Viento', 'numero': '8', 'unidades': 'N'}, {'Presión Influencia': 'estable'}, {'Presión Estado': 'Muy bueno'}, {'Sensación': '8 °C'}, {'Punto Rocío': '9 °C'}, {'Hora': '21 h'}, {'Probabilidad de lluvia': None}, {'Cantidad de agua': None}]\n",
            "\n",
            " Previsión en zona costera \n",
            " COSTA DE PUERTO MONTT \n",
            "\n",
            "[{'titulo': 'Presión', 'numero': '1019', 'unidades': ''}, {'titulo': 'Temp.', 'numero': '8°', 'unidades': ' °C'}, {'titulo': 'Humedad', 'numero': '93', 'unidades': ' %'}, {'titulo': 'Viento', 'numero': '8', 'unidades': 'N'}, {'Presión Influencia': 'estable'}, {'Presión Estado': 'Muy bueno'}, {'Sensación': '8 °C'}, {'Punto Rocío': '9 °C'}, {'Hora': '22 h'}, {'Probabilidad de lluvia': None}, {'Cantidad de agua': None}]\n",
            "\n",
            " Previsión en zona costera \n",
            " COSTA DE PUERTO MONTT \n",
            "\n",
            "[{'titulo': 'Presión', 'numero': '1018', 'unidades': ''}, {'titulo': 'Temp.', 'numero': '8°', 'unidades': ' °C'}, {'titulo': 'Humedad', 'numero': '92', 'unidades': ' %'}, {'titulo': 'Viento', 'numero': '8', 'unidades': 'N'}, {'Presión Influencia': 'estable'}, {'Presión Estado': 'Muy bueno'}, {'Sensación': '8 °C'}, {'Punto Rocío': '9 °C'}, {'Hora': '23 h'}, {'Probabilidad de lluvia': None}, {'Cantidad de agua': None}]\n"
          ]
        }
      ]
    },
    {
      "cell_type": "code",
      "source": [
        "imprimir_tablas(soup1)"
      ],
      "metadata": {
        "colab": {
          "base_uri": "https://localhost:8080/"
        },
        "id": "wHGkJTYxZhfP",
        "outputId": "ae683dfd-ca05-4c99-cbe4-e01bc74901be"
      },
      "execution_count": 56,
      "outputs": [
        {
          "output_type": "stream",
          "name": "stdout",
          "text": [
            "\n",
            " Previsión en aguas abiertas \n",
            " MAR EN PUERTO MONTT \n",
            "\n",
            "[{'titulo': 'Presión', 'numero': '1013', 'unidades': ''}, {'titulo': 'Temp.', 'numero': '11°', 'unidades': ' °C'}, {'titulo': 'Humedad', 'numero': '92', 'unidades': ' %'}, {'titulo': 'Viento', 'numero': '42', 'unidades': 'N'}, {'Presión Influencia': 'en ascenso'}, {'Presión Estado': 'Muy bueno'}, {'Sensación': '8 °C'}, {'Punto Rocío': '10 °C'}, {'Hora': '0 h'}, {'Probabilidad de lluvia': '79% '}, {'Cantidad de agua': '0.4'}]\n",
            "\n",
            " Previsión en aguas abiertas \n",
            " MAR EN PUERTO MONTT \n",
            "\n",
            "[{'titulo': 'Presión', 'numero': '1014', 'unidades': ''}, {'titulo': 'Temp.', 'numero': '11°', 'unidades': ' °C'}, {'titulo': 'Humedad', 'numero': '92', 'unidades': ' %'}, {'titulo': 'Viento', 'numero': '40', 'unidades': 'N'}, {'Presión Influencia': 'en ascenso'}, {'Presión Estado': 'Muy bueno'}, {'Sensación': '8 °C'}, {'Punto Rocío': '10 °C'}, {'Hora': '1 h'}, {'Probabilidad de lluvia': '79% '}, {'Cantidad de agua': '0.6'}]\n",
            "\n",
            " Previsión en aguas abiertas \n",
            " MAR EN PUERTO MONTT \n",
            "\n",
            "[{'titulo': 'Presión', 'numero': '1014', 'unidades': ''}, {'titulo': 'Temp.', 'numero': '11°', 'unidades': ' °C'}, {'titulo': 'Humedad', 'numero': '93', 'unidades': ' %'}, {'titulo': 'Viento', 'numero': '40', 'unidades': 'N'}, {'Presión Influencia': 'en ascenso'}, {'Presión Estado': 'Muy bueno'}, {'Sensación': '8 °C'}, {'Punto Rocío': '10 °C'}, {'Hora': '2 h'}, {'Probabilidad de lluvia': '83% '}, {'Cantidad de agua': '1.9'}]\n",
            "\n",
            " Previsión en aguas abiertas \n",
            " MAR EN PUERTO MONTT \n",
            "\n",
            "[{'titulo': 'Presión', 'numero': '1014', 'unidades': ''}, {'titulo': 'Temp.', 'numero': '11°', 'unidades': ' °C'}, {'titulo': 'Humedad', 'numero': '93', 'unidades': ' %'}, {'titulo': 'Viento', 'numero': '40', 'unidades': 'N'}, {'Presión Influencia': 'en ascenso'}, {'Presión Estado': 'Muy bueno'}, {'Sensación': '8 °C'}, {'Punto Rocío': '10 °C'}, {'Hora': '3 h'}, {'Probabilidad de lluvia': '69% '}, {'Cantidad de agua': '0.5'}]\n",
            "\n",
            " Previsión en aguas abiertas \n",
            " MAR EN PUERTO MONTT \n",
            "\n",
            "[{'titulo': 'Presión', 'numero': '1015', 'unidades': ''}, {'titulo': 'Temp.', 'numero': '11°', 'unidades': ' °C'}, {'titulo': 'Humedad', 'numero': '94', 'unidades': ' %'}, {'titulo': 'Viento', 'numero': '37', 'unidades': 'N'}, {'Presión Influencia': 'en ascenso'}, {'Presión Estado': 'Muy bueno'}, {'Sensación': '8 °C'}, {'Punto Rocío': '10 °C'}, {'Hora': '4 h'}, {'Probabilidad de lluvia': '79% '}, {'Cantidad de agua': '0.5'}]\n",
            "\n",
            " Previsión en aguas abiertas \n",
            " MAR EN PUERTO MONTT \n",
            "\n",
            "[{'titulo': 'Presión', 'numero': '1016', 'unidades': ''}, {'titulo': 'Temp.', 'numero': '11°', 'unidades': ' °C'}, {'titulo': 'Humedad', 'numero': '94', 'unidades': ' %'}, {'titulo': 'Viento', 'numero': '35', 'unidades': 'N'}, {'Presión Influencia': 'en ascenso'}, {'Presión Estado': 'Muy bueno'}, {'Sensación': '8 °C'}, {'Punto Rocío': '10 °C'}, {'Hora': '5 h'}, {'Probabilidad de lluvia': '76% '}, {'Cantidad de agua': '2.0'}]\n",
            "\n",
            " Previsión en aguas abiertas \n",
            " MAR EN PUERTO MONTT \n",
            "\n",
            "[{'titulo': 'Presión', 'numero': '1016', 'unidades': ''}, {'titulo': 'Temp.', 'numero': '11°', 'unidades': ' °C'}, {'titulo': 'Humedad', 'numero': '95', 'unidades': ' %'}, {'titulo': 'Viento', 'numero': '34', 'unidades': 'N'}, {'Presión Influencia': 'en ascenso'}, {'Presión Estado': 'Muy bueno'}, {'Sensación': '8 °C'}, {'Punto Rocío': '10 °C'}, {'Hora': '6 h'}, {'Probabilidad de lluvia': '77% '}, {'Cantidad de agua': '0.4'}]\n",
            "\n",
            " Previsión en aguas abiertas \n",
            " MAR EN PUERTO MONTT \n",
            "\n",
            "[{'titulo': 'Presión', 'numero': '1017', 'unidades': ''}, {'titulo': 'Temp.', 'numero': '11°', 'unidades': ' °C'}, {'titulo': 'Humedad', 'numero': '93', 'unidades': ' %'}, {'titulo': 'Viento', 'numero': '32', 'unidades': 'N'}, {'Presión Influencia': 'en ascenso'}, {'Presión Estado': 'Muy bueno'}, {'Sensación': '8 °C'}, {'Punto Rocío': '10 °C'}, {'Hora': '7 h'}, {'Probabilidad de lluvia': '83% '}, {'Cantidad de agua': '0.6'}]\n",
            "\n",
            " Previsión en aguas abiertas \n",
            " MAR EN PUERTO MONTT \n",
            "\n",
            "[{'titulo': 'Presión', 'numero': '1018', 'unidades': ''}, {'titulo': 'Temp.', 'numero': '11°', 'unidades': ' °C'}, {'titulo': 'Humedad', 'numero': '92', 'unidades': ' %'}, {'titulo': 'Viento', 'numero': '31', 'unidades': 'N'}, {'Presión Influencia': 'en ascenso'}, {'Presión Estado': 'Muy bueno'}, {'Sensación': '8 °C'}, {'Punto Rocío': '10 °C'}, {'Hora': '8 h'}, {'Probabilidad de lluvia': '81% '}, {'Cantidad de agua': '2.9'}]\n",
            "\n",
            " Previsión en aguas abiertas \n",
            " MAR EN PUERTO MONTT \n",
            "\n",
            "[{'titulo': 'Presión', 'numero': '1019', 'unidades': ''}, {'titulo': 'Temp.', 'numero': '11°', 'unidades': ' °C'}, {'titulo': 'Humedad', 'numero': '90', 'unidades': ' %'}, {'titulo': 'Viento', 'numero': '27', 'unidades': 'N'}, {'Presión Influencia': 'en ascenso'}, {'Presión Estado': 'Muy bueno'}, {'Sensación': '8 °C'}, {'Punto Rocío': '10 °C'}, {'Hora': '9 h'}, {'Probabilidad de lluvia': '81% '}, {'Cantidad de agua': '0.6'}]\n",
            "\n",
            " Previsión en aguas abiertas \n",
            " MAR EN PUERTO MONTT \n",
            "\n",
            "[{'titulo': 'Presión', 'numero': '1018', 'unidades': ''}, {'titulo': 'Temp.', 'numero': '11°', 'unidades': ' °C'}, {'titulo': 'Humedad', 'numero': '89', 'unidades': ' %'}, {'titulo': 'Viento', 'numero': '27', 'unidades': 'N'}, {'Presión Influencia': 'en ascenso'}, {'Presión Estado': 'Muy bueno'}, {'Sensación': '8 °C'}, {'Punto Rocío': '10 °C'}, {'Hora': '10 h'}, {'Probabilidad de lluvia': '80% '}, {'Cantidad de agua': '0.5'}]\n",
            "\n",
            " Previsión en aguas abiertas \n",
            " MAR EN PUERTO MONTT \n",
            "\n",
            "[{'titulo': 'Presión', 'numero': '1018', 'unidades': ''}, {'titulo': 'Temp.', 'numero': '11°', 'unidades': ' °C'}, {'titulo': 'Humedad', 'numero': '88', 'unidades': ' %'}, {'titulo': 'Viento', 'numero': '26', 'unidades': 'N'}, {'Presión Influencia': 'en ascenso'}, {'Presión Estado': 'Muy bueno'}, {'Sensación': '8 °C'}, {'Punto Rocío': '10 °C'}, {'Hora': '11 h'}, {'Probabilidad de lluvia': '86% '}, {'Cantidad de agua': '1.6'}]\n",
            "\n",
            " Previsión en aguas abiertas \n",
            " MAR EN PUERTO MONTT \n",
            "\n",
            "[{'titulo': 'Presión', 'numero': '1018', 'unidades': ''}, {'titulo': 'Temp.', 'numero': '11°', 'unidades': ' °C'}, {'titulo': 'Humedad', 'numero': '87', 'unidades': ' %'}, {'titulo': 'Viento', 'numero': '24', 'unidades': 'N'}, {'Presión Influencia': 'en ascenso'}, {'Presión Estado': 'Muy bueno'}, {'Sensación': '8 °C'}, {'Punto Rocío': '10 °C'}, {'Hora': '12 h'}, {'Probabilidad de lluvia': '88% '}, {'Cantidad de agua': '0.4'}]\n",
            "\n",
            " Previsión en aguas abiertas \n",
            " MAR EN PUERTO MONTT \n",
            "\n",
            "[{'titulo': 'Presión', 'numero': '1018', 'unidades': ''}, {'titulo': 'Temp.', 'numero': '11°', 'unidades': ' °C'}, {'titulo': 'Humedad', 'numero': '89', 'unidades': ' %'}, {'titulo': 'Viento', 'numero': '23', 'unidades': 'N'}, {'Presión Influencia': 'en ascenso'}, {'Presión Estado': 'Muy bueno'}, {'Sensación': '8 °C'}, {'Punto Rocío': '10 °C'}, {'Hora': '13 h'}, {'Probabilidad de lluvia': '74% '}, {'Cantidad de agua': '0.5'}]\n",
            "\n",
            " Previsión en aguas abiertas \n",
            " MAR EN PUERTO MONTT \n",
            "\n",
            "[{'titulo': 'Presión', 'numero': '1018', 'unidades': ''}, {'titulo': 'Temp.', 'numero': '11°', 'unidades': ' °C'}, {'titulo': 'Humedad', 'numero': '90', 'unidades': ' %'}, {'titulo': 'Viento', 'numero': '23', 'unidades': 'N'}, {'Presión Influencia': 'en ascenso'}, {'Presión Estado': 'Muy bueno'}, {'Sensación': '8 °C'}, {'Punto Rocío': '10 °C'}, {'Hora': '14 h'}, {'Probabilidad de lluvia': '77% '}, {'Cantidad de agua': '2.5'}]\n",
            "\n",
            " Previsión en aguas abiertas \n",
            " MAR EN PUERTO MONTT \n",
            "\n",
            "[{'titulo': 'Presión', 'numero': '1019', 'unidades': ''}, {'titulo': 'Temp.', 'numero': '10°', 'unidades': ' °C'}, {'titulo': 'Humedad', 'numero': '92', 'unidades': ' %'}, {'titulo': 'Viento', 'numero': '21', 'unidades': 'N'}, {'Presión Influencia': 'en ascenso'}, {'Presión Estado': 'Muy bueno'}, {'Sensación': '8 °C'}, {'Punto Rocío': '10 °C'}, {'Hora': '15 h'}, {'Probabilidad de lluvia': '69% '}, {'Cantidad de agua': '0.9'}]\n",
            "\n",
            " Previsión en aguas abiertas \n",
            " MAR EN PUERTO MONTT \n",
            "\n",
            "[{'titulo': 'Presión', 'numero': '1019', 'unidades': ''}, {'titulo': 'Temp.', 'numero': '11°', 'unidades': ' °C'}, {'titulo': 'Humedad', 'numero': '91', 'unidades': ' %'}, {'titulo': 'Viento', 'numero': '21', 'unidades': 'N'}, {'Presión Influencia': 'en ascenso'}, {'Presión Estado': 'Muy bueno'}, {'Sensación': '8 °C'}, {'Punto Rocío': '10 °C'}, {'Hora': '16 h'}, {'Probabilidad de lluvia': '68% '}, {'Cantidad de agua': '0.7'}]\n",
            "\n",
            " Previsión en aguas abiertas \n",
            " MAR EN PUERTO MONTT \n",
            "\n",
            "[{'titulo': 'Presión', 'numero': '1019', 'unidades': ''}, {'titulo': 'Temp.', 'numero': '11°', 'unidades': ' °C'}, {'titulo': 'Humedad', 'numero': '90', 'unidades': ' %'}, {'titulo': 'Viento', 'numero': '18', 'unidades': 'N'}, {'Presión Influencia': 'en ascenso'}, {'Presión Estado': 'Muy bueno'}, {'Sensación': '8 °C'}, {'Punto Rocío': '10 °C'}, {'Hora': '17 h'}, {'Probabilidad de lluvia': '78% '}, {'Cantidad de agua': '2.0'}]\n",
            "\n",
            " Previsión en aguas abiertas \n",
            " MAR EN PUERTO MONTT \n",
            "\n",
            "[{'titulo': 'Presión', 'numero': '1020', 'unidades': ''}, {'titulo': 'Temp.', 'numero': '11°', 'unidades': ' °C'}, {'titulo': 'Humedad', 'numero': '88', 'unidades': ' %'}, {'titulo': 'Viento', 'numero': '18', 'unidades': 'N'}, {'Presión Influencia': 'en ascenso'}, {'Presión Estado': 'Muy bueno'}, {'Sensación': '8 °C'}, {'Punto Rocío': '10 °C'}, {'Hora': '18 h'}, {'Probabilidad de lluvia': '67% '}, {'Cantidad de agua': '0.5'}]\n",
            "\n",
            " Previsión en aguas abiertas \n",
            " MAR EN PUERTO MONTT \n",
            "\n",
            "[{'titulo': 'Presión', 'numero': '1019', 'unidades': ''}, {'titulo': 'Temp.', 'numero': '11°', 'unidades': ' °C'}, {'titulo': 'Humedad', 'numero': '88', 'unidades': ' %'}, {'titulo': 'Viento', 'numero': '16', 'unidades': 'N'}, {'Presión Influencia': 'en ascenso'}, {'Presión Estado': 'Muy bueno'}, {'Sensación': '8 °C'}, {'Punto Rocío': '10 °C'}, {'Hora': '19 h'}, {'Probabilidad de lluvia': '72% '}, {'Cantidad de agua': '0.5'}]\n",
            "\n",
            " Previsión en aguas abiertas \n",
            " MAR EN PUERTO MONTT \n",
            "\n",
            "[{'titulo': 'Presión', 'numero': '1018', 'unidades': ''}, {'titulo': 'Temp.', 'numero': '11°', 'unidades': ' °C'}, {'titulo': 'Humedad', 'numero': '87', 'unidades': ' %'}, {'titulo': 'Viento', 'numero': '14', 'unidades': 'N'}, {'Presión Influencia': 'en ascenso'}, {'Presión Estado': 'Muy bueno'}, {'Sensación': '8 °C'}, {'Punto Rocío': '10 °C'}, {'Hora': '20 h'}, {'Probabilidad de lluvia': '77% '}, {'Cantidad de agua': '2.1'}]\n",
            "\n",
            " Previsión en aguas abiertas \n",
            " MAR EN PUERTO MONTT \n",
            "\n",
            "[{'titulo': 'Presión', 'numero': '1018', 'unidades': ''}, {'titulo': 'Temp.', 'numero': '11°', 'unidades': ' °C'}, {'titulo': 'Humedad', 'numero': '87', 'unidades': ' %'}, {'titulo': 'Viento', 'numero': '14', 'unidades': 'N'}, {'Presión Influencia': 'en ascenso'}, {'Presión Estado': 'Muy bueno'}, {'Sensación': '8 °C'}, {'Punto Rocío': '10 °C'}, {'Hora': '21 h'}, {'Probabilidad de lluvia': None}, {'Cantidad de agua': None}]\n",
            "\n",
            " Previsión en aguas abiertas \n",
            " MAR EN PUERTO MONTT \n",
            "\n",
            "[{'titulo': 'Presión', 'numero': '1017', 'unidades': ''}, {'titulo': 'Temp.', 'numero': '11°', 'unidades': ' °C'}, {'titulo': 'Humedad', 'numero': '85', 'unidades': ' %'}, {'titulo': 'Viento', 'numero': '14', 'unidades': 'N'}, {'Presión Influencia': 'en ascenso'}, {'Presión Estado': 'Muy bueno'}, {'Sensación': '8 °C'}, {'Punto Rocío': '10 °C'}, {'Hora': '22 h'}, {'Probabilidad de lluvia': None}, {'Cantidad de agua': None}]\n",
            "\n",
            " Previsión en aguas abiertas \n",
            " MAR EN PUERTO MONTT \n",
            "\n",
            "[{'titulo': 'Presión', 'numero': '1016', 'unidades': ''}, {'titulo': 'Temp.', 'numero': '11°', 'unidades': ' °C'}, {'titulo': 'Humedad', 'numero': '84', 'unidades': ' %'}, {'titulo': 'Viento', 'numero': '16', 'unidades': 'N'}, {'Presión Influencia': 'en ascenso'}, {'Presión Estado': 'Muy bueno'}, {'Sensación': '8 °C'}, {'Punto Rocío': '10 °C'}, {'Hora': '23 h'}, {'Probabilidad de lluvia': None}, {'Cantidad de agua': None}]\n"
          ]
        }
      ]
    },
    {
      "cell_type": "markdown",
      "source": [
        "## INDICE ULTRAVIOLETA"
      ],
      "metadata": {
        "id": "HmC_UO9IbPfj"
      }
    },
    {
      "cell_type": "code",
      "source": [
        "def mensaje_de_seguridad(uv_maximo_img_num):\n",
        "   Mensaje = ['Puedes salir sin necesidad de tomar ninguna medida de protección solar.', 'Viste camiseta, gorra y gafas. \\n Usa protección solar 30+. \\n Mantente a la sombra en las horas centrales del día.', 'Viste camiseta, gorra y gafas. \\n Usa protección solar 50+. \\n Mantente a la sombra todo el tiempo posible y evita salir en las horas centrales del día.']\n",
        "   if uv_maximo_img_num <3:\n",
        "    resultado = Mensaje[0]\n",
        "   elif (uv_maximo_img_num >3) & (uv_maximo_img_num <8) :\n",
        "    resultado = Mensaje[1]\n",
        "   elif uv_maximo_img_num >=8:\n",
        "    resultado = Mensaje[2]\n",
        "   else:\n",
        "    resultado = \"Recomendacion para indice ultravioleta no encontrado\"\n",
        "\n",
        "   return resultado\n"
      ],
      "metadata": {
        "id": "Qb64OyvmebA_"
      },
      "execution_count": 57,
      "outputs": []
    },
    {
      "cell_type": "code",
      "source": [
        "uv_maximo_texto = soup.find('div', {'id': 'uv_maximo_texto'}).text\n",
        "\n",
        "# Obtener el número 2 del div con id=\"uv_maximo_img_num\"\n",
        "uv_maximo_img_num = soup.find('div', {'id': 'uv_maximo_img_num'}).text\n",
        "\n",
        "# Imprimir los resultados\n",
        "print('Indice ultravioleta:', uv_maximo_texto)\n",
        "print('Valor de indice ultravioleta:', uv_maximo_img_num)\n",
        "print('Mensaje respecto al indice ultravioleta:',mensaje_de_seguridad(int(uv_maximo_img_num)))\n"
      ],
      "metadata": {
        "colab": {
          "base_uri": "https://localhost:8080/"
        },
        "id": "mHWBu9hXdU9u",
        "outputId": "ef4cc0f5-1273-41a6-c2e2-f8778bdae479"
      },
      "execution_count": 58,
      "outputs": [
        {
          "output_type": "stream",
          "name": "stdout",
          "text": [
            "Indice ultravioleta: moderado\n",
            "Valor de indice ultravioleta: 3\n",
            "Mensaje respecto al indice ultravioleta: Recomendacion para indice ultravioleta no encontrado\n"
          ]
        }
      ]
    },
    {
      "cell_type": "markdown",
      "source": [
        "## TEMPERATURA DEL AGUA"
      ],
      "metadata": {
        "id": "qxSGzq9MM_Pw"
      }
    },
    {
      "cell_type": "code",
      "source": [
        "actual_element = soup.find('span', {'id': 'c_grafico_temp_agua_txt_grados_agua_actual'})\n",
        "\n",
        "# Extraer el valor del elemento actual\n",
        "temp_actual_agua = actual_element.text.strip()\n",
        "\n",
        "# Encontrar el elemento con id \"c_grafico_temp_agua_txt_grados_agua_media\"\n",
        "media_element = soup.find('span', {'id': 'c_grafico_temp_agua_txt_grados_agua_media'})\n",
        "\n",
        "# Extraer el valor del elemento de la media\n",
        "temp_media_agua = media_element.text.strip()\n",
        "\n",
        "# Imprimir los valores\n",
        "print(\"Temperatura actual del agua:\", temp_actual_agua)\n",
        "print(\"Temperatura media del agua:\", temp_media_agua)"
      ],
      "metadata": {
        "colab": {
          "base_uri": "https://localhost:8080/"
        },
        "id": "mDYc24GoOHg5",
        "outputId": "22ba8814-406f-4aca-c565-e5ac030eb05d"
      },
      "execution_count": 59,
      "outputs": [
        {
          "output_type": "stream",
          "name": "stdout",
          "text": [
            "Temperatura actual del agua: 11°C\n",
            "Temperatura media del agua: 10°C\n"
          ]
        }
      ]
    },
    {
      "cell_type": "code",
      "source": [
        "rafificacion_promedio=0\n",
        "valores_horarios_valor = []\n",
        "valores_horarios = []\n",
        "horas = soup.find_all('div', {'class': 'evolucion_temp_agua_hora'})\n",
        "for i, hora in zip(range(14),horas):\n",
        "  id_valor_relleno = f\"evolucion_temp_agua_relleno_cuadro_{i}\"\n",
        "  valor_incremental = soup.find('div', {'class': 'evolucion_temp_agua_relleno_cuadro', 'id': id_valor_relleno}).text.strip()\n",
        "  valor_horario = hora.text.strip()\n",
        "  valores_horarios.append(valor_horario)\n",
        "  valores_horarios_valor.append(valor_incremental)\n",
        "for valor, valor1 in zip(valores_horarios_valor,valores_horarios):\n",
        "  print(valor1, valor)\n",
        "  numero = ''.join(filter(str.isdigit, valor))\n",
        "  rafificacion_promedio=rafificacion_promedio+int(numero)\n",
        "print(rafificacion_promedio/13)"
      ],
      "metadata": {
        "colab": {
          "base_uri": "https://localhost:8080/"
        },
        "id": "88hPQuh9YDNd",
        "outputId": "61264067-0e51-4059-b589-046cbf9b15d1"
      },
      "execution_count": 60,
      "outputs": [
        {
          "output_type": "stream",
          "name": "stdout",
          "text": [
            "0 h 8°\n",
            "1 h 11°\n",
            "2 h 11°\n",
            "3 h 8°\n",
            "4 h 11°\n",
            "5 h 11°\n",
            "6 h 8°\n",
            "7 h 11°\n",
            "8 h 11°\n",
            "9 h 8°\n",
            "10 h 11°\n",
            "11 h 11°\n",
            "12 h 8°\n",
            "13 h 11°\n",
            "10.692307692307692\n"
          ]
        }
      ]
    },
    {
      "cell_type": "markdown",
      "source": [
        "## OLEAJE"
      ],
      "metadata": {
        "id": "7bI-Zv2Kme4Y"
      }
    },
    {
      "cell_type": "code",
      "source": [
        "valor_fecha = soup.find('div', class_='texto_grafico_estado_actual_fecha').text.strip()\n",
        "print(\"Valor de la fecha:\", valor_fecha)\n",
        "\n",
        "direccion_de_oleaje = soup.find('span', id='swellDir16Point').text\n",
        "print(\"Direccion de oleaje:\", direccion_de_oleaje)\n",
        "\n",
        "valor_de_oleaje = soup.find('span', id='swellDir').text\n",
        "print(\"Valor de oleaje:\", valor_de_oleaje)\n",
        "\n",
        "altura_significativa = soup.find('span', id='sigHeight_m').text\n",
        "print(\"Altura significativa de las olas:\", altura_significativa)\n",
        "\n",
        "periodo_olas = soup.find('span', id='swellPeriod_secs').text\n",
        "print(\"Periodo de las olas:\", periodo_olas)\n",
        "\n",
        "valor_costa = soup.find('span', class_='grafico_viento_oleaje_actual_titulo_txt_costa').text.strip()\n",
        "valor_direccion = soup.find('span', id='oleaje_viento_direccion_txt').text.strip()\n",
        "valor_grados = soup.find('span', id='oleaje_viento_direccion_grados').text.strip()\n",
        "valor_velocidad = soup.find('span', id='oleaje_viento_velocidad').text.strip()\n",
        "\n",
        "print(\"Valor de costa:\", valor_costa)\n",
        "print(\"Valor de dirección:\", valor_direccion)\n",
        "print(\"Valor de grados:\", valor_grados)\n",
        "print(\"Valor de velocidad:\", valor_velocidad)\n",
        "\n",
        "valor_aguas_abiertas = soup.find('span', class_='grafico_viento_oleaje_actual_titulo_txt_mar').text.strip()\n",
        "valor_direccion = soup.find('span', id='oleaje_viento_marine_direccion_txt').text.strip()\n",
        "valor_grados = soup.find('span', id='oleaje_viento_marine_direccion_grados').text.strip()\n",
        "valor_velocidad = soup.find('span', id='oleaje_viento_marine_velocidad').text.strip()\n",
        "\n",
        "print(\"Valor de aguas abiertas:\", valor_aguas_abiertas)\n",
        "print(\"Valor de dirección:\", valor_direccion)\n",
        "print(\"Valor de grados:\", valor_grados)\n",
        "print(\"Valor de velocidad:\", valor_velocidad)\n",
        "\n",
        "\n",
        "alturas_oleaje_actual = soup.find_all('div', class_='alturas_oleaje_actual')\n",
        "for elemento in alturas_oleaje_actual:\n",
        "    titulo = elemento.find('div', class_='alturas_oleaje_actual_titulo').text.strip()\n",
        "    texto = elemento.find('div', class_='alturas_oleaje_actual_texto').text.strip()\n",
        "    valor = elemento.find('div', class_='circulo_alturas_oleaje').text.strip()\n",
        "    print(\"Título:\", titulo)\n",
        "    print(\"Texto:\", texto)\n",
        "    print(\"Valor:\", valor)\n"
      ],
      "metadata": {
        "colab": {
          "base_uri": "https://localhost:8080/"
        },
        "id": "bs3YHUwjohaZ",
        "outputId": "8b694ab4-fedb-4cce-abdd-27c6c8c10311"
      },
      "execution_count": 61,
      "outputs": [
        {
          "output_type": "stream",
          "name": "stdout",
          "text": [
            "Valor de la fecha: 31 DE MAYO DE 2023, 14:11 h\n",
            "Direccion de oleaje: NE\n",
            "Valor de oleaje: 40\n",
            "Altura significativa de las olas: 0.3 m\n",
            "Periodo de las olas: 0.1 s\n",
            "Valor de costa: costa\n",
            "Valor de dirección: NNW\n",
            "Valor de grados: 340\n",
            "Valor de velocidad: 10 km/h\n",
            "Valor de aguas abiertas: aguas abiertas\n",
            "Valor de dirección: SE\n",
            "Valor de grados: 120\n",
            "Valor de velocidad: 22 km/h\n",
            "Título: Altura más frecuente\n",
            "Texto: La mayoría de las olas tendrán la mitad de la altura significativa.\n",
            "Valor: 0.1 m\n",
            "Título: Altura significativa\n",
            "Texto: Aprox. el 14% de las olas serán más grandes que la altura significativa (aprox. 1 de cada 7 olas).\n",
            "Valor: 0.3 m\n",
            "Título: Altura máxima\n",
            "Texto: Lo normal es esperar una ola del doble de la altura significativa 3 veces cada 24 horas.\n",
            "Valor: 0.6 m\n"
          ]
        }
      ]
    },
    {
      "cell_type": "code",
      "source": [
        "horas = [elemento.text for elemento in soup.find_all(class_='cuadro_datos_grafico_viento_hora')]\n",
        "direcciones = [elemento.text for elemento in soup.find_all(class_='cuadro_datos_grafico_viento_datos_direccion')]\n",
        "alturas = [elemento.text for elemento in soup.find_all(class_='cuadro_datos_grafico_oleaje_datos_altura')]\n",
        "periodos = [elemento.text for elemento in soup.find_all(class_='cuadro_datos_grafico_oleaje_datos_periodo')]\n",
        "\n",
        "# Imprimir los valores obtenidos\n",
        "print(\"Valores de las horas:\", horas)\n",
        "print(\"Valores de las direcciones:\", direcciones)\n",
        "print(\"Valores de las alturas:\", alturas)\n",
        "print(\"Valores de los periodos:\", periodos)\n",
        "\n",
        "# Encontrar los elementos deseados\n",
        "elemento_salida_sol = soup.find(class_='l_grafico_mareas_responsive_ico_salida_sol')\n",
        "elemento_puesta_sol = soup.find(class_='l_grafico_mareas_responsive_ico_puesta_sol')\n",
        "\n",
        "# Extraer los valores de las horas de salida y puesta del sol\n",
        "hora_salida_sol = elemento_salida_sol.find(class_='l_grafico_mareas_responsive_hora_salida_puesta_sol').text.strip()\n",
        "hora_puesta_sol = elemento_puesta_sol.find(class_='l_grafico_mareas_responsive_hora_salida_puesta_sol').text.strip()\n",
        "\n",
        "# Imprimir los valores obtenidos\n",
        "print(\"Hora de salida del sol:\", hora_salida_sol)\n",
        "print(\"Hora de puesta del sol:\", hora_puesta_sol)\n",
        "\n",
        "\n"
      ],
      "metadata": {
        "colab": {
          "base_uri": "https://localhost:8080/"
        },
        "id": "WVmKZYXFbXUY",
        "outputId": "6d88ae73-ed67-48f1-dc3c-26e57b8ff801"
      },
      "execution_count": 68,
      "outputs": [
        {
          "output_type": "stream",
          "name": "stdout",
          "text": [
            "Valores de las horas: ['0:00 h', '1:00 h', '2:00 h', '3:00 h', '4:00 h', '5:00 h', '6:00 h', '7:00 h', '8:00 h', '9:00 h', '10:00 h', '11:00 h', '12:00 h', '13:00 h', '14:00 h', '15:00 h', '16:00 h', '17:00 h', '18:00 h', '19:00 h', '20:00 h', '21:00 h', '22:00 h', '23:00 h']\n",
            "Valores de las direcciones: ['NE', 'NE', 'NE', 'NE', 'NE', 'NE', 'NE', 'NE', 'NE', 'NE', 'NE', 'NE', 'NE', 'NE', 'NE', 'NE', 'NE', 'NE', 'NE', 'NE', 'NE', 'NE', 'NE', 'NE']\n",
            "Valores de las alturas: ['0.8', '0.8', '0.8', '0.8', '0.8', '0.7', '0.7', '0.6', '0.6', '0.5', '0.5', '0.4', '0.4', '0.4', '0.3', '0.3', '0.3', '0.2', '0.2', '0.2', '0.1', '0.1', '0.1', '0.1']\n",
            "Valores de los periodos: ['0 s', '0 s', '0 s', '0 s', '0 s', '0 s', '0 s', '0 s', '0 s', '0 s', '0 s', '0 s', '0 s', '0 s', '0 s', '0 s', '0 s', '0 s', '0 s', '0 s', '0 s', '0 s', '0 s', '0 s']\n",
            "Hora de salida del sol: 8:07 h\n",
            "Hora de puesta del sol: 17:31 h\n"
          ]
        }
      ]
    },
    {
      "cell_type": "markdown",
      "source": [
        "## PLEAMARES Y BAJAMARES"
      ],
      "metadata": {
        "id": "nXWrt1hgd7qS"
      }
    },
    {
      "cell_type": "code",
      "source": [
        "# Buscar el div específico por el id y la clase\n",
        "elemento = soup.find('div', {'id': 'brujula_mareas_texto_movil', 'class': 'grafico_estado_actual_texto2'})\n",
        "\n",
        "# Verificar si se encontró el elemento\n",
        "if elemento is not None:\n",
        "    # Obtener el texto del elemento\n",
        "    texto = elemento.text.strip()\n",
        "\n",
        "    # Imprimir el resultado obtenido\n",
        "    print(texto)\n",
        "else:\n",
        "    print(\"No se encontró el elemento especificado.\")"
      ],
      "metadata": {
        "colab": {
          "base_uri": "https://localhost:8080/"
        },
        "id": "T0E-io21d7Hg",
        "outputId": "9d89cc99-f8ef-497b-c23d-9388a2e3e17b"
      },
      "execution_count": 67,
      "outputs": [
        {
          "output_type": "stream",
          "name": "stdout",
          "text": [
            "El nivel del agua está bajando en estos momentos. La bajamar será dentro de 3 horas y 11 minutos.\n"
          ]
        }
      ]
    },
    {
      "cell_type": "code",
      "source": [
        "# Buscar todos los div con la clase grafico_estado_actual_texto\n",
        "divs_estado_actual = soup.find_all('div', class_='grafico_estado_actual_texto')\n",
        "\n",
        "if divs_estado_actual:\n",
        "    for div_estado_actual in divs_estado_actual:\n",
        "        # Obtener el contenido de cada elemento div\n",
        "        contenido = div_estado_actual.text.strip()\n",
        "        \n",
        "        # Filtrar el texto específico\n",
        "        if 'Hasta la puesta de sol' in contenido:\n",
        "            print(contenido)\n",
        "else:\n",
        "    print(\"No se encontraron elementos div con la clase grafico_estado_actual_texto.\")\n"
      ],
      "metadata": {
        "colab": {
          "base_uri": "https://localhost:8080/"
        },
        "id": "UO9hJGoWW8ZY",
        "outputId": "51dbc46c-cc91-4396-e9ad-43b96d308ccf"
      },
      "execution_count": 88,
      "outputs": [
        {
          "output_type": "stream",
          "name": "stdout",
          "text": [
            "Hoy  miércoles, 31 de mayo de 2023, amaneció en Puerto Montt a las 8:07:47 h y la puesta de sol será a las 17:31:13 h. En el gráfico de pleamares y bajamares, podemos observar que la primera bajamar fue a las 4:52 h y la siguiente bajamar  será a las 17:23 h. La primera pleamar  fue a las 11:06 h y la siguiente pleamar  será a las 23:23 h.  \n",
            "\n",
            " El nivel del agua está bajando en estos momentos. La bajamar será dentro de 3 horas y 11 minutos. \n",
            "\n",
            " Hasta la puesta de sol de las 17:31:13 h, habremos tenido un total de 9 horas y 23 minutos de sol. El tránsito solar fue a las 12:49:30 h.\n"
          ]
        }
      ]
    },
    {
      "cell_type": "markdown",
      "source": [
        "## COEFICIENTE DE MAREAS"
      ],
      "metadata": {
        "id": "TxMZ3BP1dcUm"
      }
    },
    {
      "cell_type": "code",
      "source": [
        "valor_manana = soup.find('div', id='datos_grafico_triangulo_coeficiente_mañana').find('div', class_='datos_grafico_triangulo_coeficiente_numero').text.strip()\n",
        "texto_manana = soup.find('div', id='datos_grafico_triangulo_coeficiente_mañana').find('div', class_='datos_grafico_triangulo_coeficiente_texto').text.strip()\n",
        "\n",
        "# Obtener el valor de tarde\n",
        "valor_tarde = soup.find('div', id='datos_grafico_triangulo_coeficiente_tarde').find('div', class_='datos_grafico_triangulo_coeficiente_numero').text.strip()\n",
        "texto_tarde = soup.find('div', id='datos_grafico_triangulo_coeficiente_tarde').find('div', class_='datos_grafico_triangulo_coeficiente_texto').text.strip()\n",
        "\n",
        "# Obtener el coeficiente de mareas\n",
        "coeficiente_mareas = soup.find('div', class_='texto_grafico_estado_actual').find('strong').text.strip()\n",
        "\n",
        "# Obtener el texto de fecha\n",
        "texto_fecha = soup.find('div', class_='texto_grafico_estado_actual_fecha').text.strip()\n",
        "\n",
        "print(\"Valor de mañana:\", valor_manana)\n",
        "print(\"Texto de mañana:\", texto_manana)\n",
        "print(\"Valor de tarde:\", valor_tarde)\n",
        "print(\"Texto de tarde:\", texto_tarde)\n",
        "print(\"Coeficiente de mareas:\", coeficiente_mareas)\n",
        "print(\"Texto de fecha:\", texto_fecha)"
      ],
      "metadata": {
        "colab": {
          "base_uri": "https://localhost:8080/"
        },
        "id": "BBAUjNj5eED9",
        "outputId": "edc32647-94ae-40b9-989c-d7bbfb729547"
      },
      "execution_count": 91,
      "outputs": [
        {
          "output_type": "stream",
          "name": "stdout",
          "text": [
            "Valor de mañana: 68\n",
            "Texto de mañana: MAÑANA\n",
            "Valor de tarde: 73\n",
            "Texto de tarde: TARDE\n",
            "Coeficiente de mareas: Temperatura actual   aire /  agua\n",
            "Texto de fecha: 31 DE MAYO DE 2023, 14:11 h\n"
          ]
        }
      ]
    },
    {
      "cell_type": "code",
      "source": [
        "def filtrar_contenido(class_name, texto_buscar):\n",
        "    divs_estado_actual = soup.find_all('div', class_=class_name)\n",
        "\n",
        "    for div_estado_actual in divs_estado_actual:\n",
        "        contenido = div_estado_actual.text.strip()\n",
        "        if texto_buscar in contenido:\n",
        "            return contenido\n",
        "\n",
        "    return None"
      ],
      "metadata": {
        "id": "eEb5S11Hj5B7"
      },
      "execution_count": 118,
      "outputs": []
    },
    {
      "cell_type": "code",
      "source": [
        "texto1 = filtrar_contenido('grafico_estado_actual_texto1', 'Podemos comparar estos niveles con la')\n",
        "print(texto1)"
      ],
      "metadata": {
        "colab": {
          "base_uri": "https://localhost:8080/"
        },
        "id": "BY98aYi-kPdc",
        "outputId": "9353b7a1-4db8-4d51-f924-475721b20a44"
      },
      "execution_count": 115,
      "outputs": [
        {
          "output_type": "stream",
          "name": "stdout",
          "text": [
            "Podemos comparar estos niveles con la pleamar máxima registrada en las tablas de mareas de Puerto Montt que es de 7,4 m y la altura mínima -0,1 m.\n"
          ]
        }
      ]
    },
    {
      "cell_type": "code",
      "source": [
        "texto2 = filtrar_contenido('grafico_estado_actual_texto2', 'Tomando como referencia la')\n",
        "print(texto2)"
      ],
      "metadata": {
        "colab": {
          "base_uri": "https://localhost:8080/"
        },
        "id": "SswOJH5JkRsF",
        "outputId": "418bfd26-1c1f-4ab9-d65c-30535dac6491"
      },
      "execution_count": 116,
      "outputs": [
        {
          "output_type": "stream",
          "name": "stdout",
          "text": [
            "Tomando como referencia la bajamar media inferior (BMI), las alturas de las mareas de hoy son 1,7 m, 5,6 m, 1,7 m y 5,4 m.\n"
          ]
        }
      ]
    },
    {
      "cell_type": "code",
      "source": [
        "texto3 = filtrar_contenido('grafico_estado_actual_texto1', 'Hoy comenzamos el dia con un coeficiente de mareas')\n",
        "print(texto3)"
      ],
      "metadata": {
        "colab": {
          "base_uri": "https://localhost:8080/"
        },
        "id": "njPwTDzakTaM",
        "outputId": "831e8d71-51e4-4a2f-a68c-138c933a7287"
      },
      "execution_count": 117,
      "outputs": [
        {
          "output_type": "stream",
          "name": "stdout",
          "text": [
            "Hoy comenzamos el dia con un coeficiente de mareas de 68 (medio). A mediodía el valor del coeficiente de mareas crece hasta 73 para acabar el día con un coeficiente de mareas de 76.\n"
          ]
        }
      ]
    },
    {
      "cell_type": "code",
      "source": [
        "# Obtener los valores de coeficientes y horas\n",
        "divs_coef = soup.find_all('div', class_='l_grafico_alturas_responsive_coef_datos_coef')\n",
        "valores_coeficientes = [div.text.strip() for div in divs_coef]\n",
        "\n",
        "divs_hora = soup.find_all('div', class_='l_grafico_alturas_responsive_coef_datos_hora')\n",
        "valores_horas = [div.text.strip() for div in divs_hora]\n",
        "\n",
        "# Obtener el valor 'coef.'\n",
        "span_coef = soup.find_all('span', class_='coef_grafico_ocultar')\n",
        "valor_coef_ocultar = [span.text.strip() for span in span_coef]\n",
        "\n",
        "\n",
        "\n",
        "# Imprimir los valores obtenidos\n",
        "print(\"Valores de coeficientes:\", valores_coeficientes)\n",
        "print(\"Valores de horas:\", valores_horas)\n",
        "print(\"Valor coef:\", valor_coef_ocultar)\n"
      ],
      "metadata": {
        "colab": {
          "base_uri": "https://localhost:8080/"
        },
        "id": "XFblB7VGlZjT",
        "outputId": "d4163b47-ec84-4528-d1b2-b1fb96811ca6"
      },
      "execution_count": 122,
      "outputs": [
        {
          "output_type": "stream",
          "name": "stdout",
          "text": [
            "Valores de coeficientes: ['68', '73', '76']\n",
            "Valores de horas: ['coef.  0:00 h', 'coef.  12:00 h', 'coef.  0:00 h']\n",
            "Valor coef: ['coef.', 'coef.', 'coef.']\n"
          ]
        }
      ]
    },
    {
      "cell_type": "code",
      "source": [
        "# Obtener el valor de l_grafico_alturas_responsive_altura_max\n",
        "div_altura_max = soup.find('div', id='l_grafico_alturas_responsive_altura_max')\n",
        "valor_altura_max = div_altura_max.text.strip()\n",
        "\n",
        "# Obtener el valor de tabla_mareas_marea_altura_numero\n",
        "div_altura_min = soup.find('div', id='l_grafico_alturas_responsive_altura_min')\n",
        "valor_altura_min = div_altura_min.text.strip()\n",
        "\n",
        "# Imprimir los valores obtenidos\n",
        "print(\"Valor de l_grafico_alturas_responsive_altura_max:\", valor_altura_max)\n",
        "print(\"Valor de l_grafico_alturas_responsive_altura_min:\", valor_altura_min)"
      ],
      "metadata": {
        "colab": {
          "base_uri": "https://localhost:8080/"
        },
        "id": "kdlB4dLZnQNM",
        "outputId": "b081cdc6-4c15-441e-cbc2-45996d722c1c"
      },
      "execution_count": 126,
      "outputs": [
        {
          "output_type": "stream",
          "name": "stdout",
          "text": [
            "Valor de l_grafico_alturas_responsive_altura_max: altura máx 7,4 m\n",
            "Valor de l_grafico_alturas_responsive_altura_min: altura min -0,1 m\n"
          ]
        }
      ]
    },
    {
      "cell_type": "code",
      "source": [
        "divs_punto_azul = soup.find_all('div', class_='l_grafico_mareas_responsive_punto_azul')\n",
        "valores_punto_azul = []\n",
        "for div_azul in divs_punto_azul:\n",
        "    hora_azul_element = div_azul.find('div', class_='l_grafico_alturas_responsive_punto_azul_hora')\n",
        "    globo_azul_element = div_azul.find('div', class_='l_grafico_alturas_responsive_punto_azul_hora_globo')\n",
        "    if hora_azul_element and globo_azul_element:\n",
        "        hora_azul = hora_azul_element.text.strip()\n",
        "        globo_azul = globo_azul_element.text.strip()\n",
        "        valores_punto_azul.extend([globo_azul, hora_azul])\n",
        "\n",
        "# Obtener los valores de l_grafico_alturas_responsive_punto_rojo\n",
        "divs_punto_rojo = soup.find_all('div', class_='l_grafico_mareas_responsive_punto_rojo')\n",
        "valores_punto_rojo = []\n",
        "for div_rojo in divs_punto_rojo:\n",
        "    hora_rojo_element = div_rojo.find('div', class_='l_grafico_alturas_responsive_punto_rojo_hora')\n",
        "    globo_rojo_element = div_rojo.find('div', class_='l_grafico_alturas_responsive_punto_rojo_hora_globo')\n",
        "    if hora_rojo_element and globo_rojo_element:\n",
        "        hora_rojo = hora_rojo_element.text.strip()\n",
        "        globo_rojo = globo_rojo_element.text.strip()\n",
        "        valores_punto_rojo.extend([globo_rojo, hora_rojo])\n",
        "\n",
        "# Imprimir los valores obtenidos\n",
        "print(\"Valores de l_grafico_alturas_responsive_punto_azul:\", ', '.join(valores_punto_azul))\n",
        "print(\"Valores de l_grafico_alturas_responsive_punto_rojo:\", ', '.join(valores_punto_rojo))"
      ],
      "metadata": {
        "colab": {
          "base_uri": "https://localhost:8080/"
        },
        "id": "d-_77uy9pSP2",
        "outputId": "77d0b035-b534-48e5-dbc8-6bcfa4b830fa"
      },
      "execution_count": 128,
      "outputs": [
        {
          "output_type": "stream",
          "name": "stdout",
          "text": [
            "Valores de l_grafico_alturas_responsive_punto_azul: 5,6, 11:06 h, 5,4, 23:23 h\n",
            "Valores de l_grafico_alturas_responsive_punto_rojo: 1,7, 4:52 h, 1,7, 17:23 h\n"
          ]
        }
      ]
    },
    {
      "cell_type": "code",
      "source": [
        "divs = soup.find_all('div', class_='l_grafico_coef_globo_punto')\n",
        "\n",
        "valores = []\n",
        "for div in divs:\n",
        "    valor = div.find('span').text.strip()\n",
        "    valores.append(valor)\n",
        "\n",
        "print(\"Valores:\", ', '.join(valores))"
      ],
      "metadata": {
        "colab": {
          "base_uri": "https://localhost:8080/"
        },
        "id": "cF0kBa8Vrh-R",
        "outputId": "86d8a423-c17a-4fd4-97a3-ffa559f07275"
      },
      "execution_count": 129,
      "outputs": [
        {
          "output_type": "stream",
          "name": "stdout",
          "text": [
            "Valores: 63, 92, 50, 88, 37\n"
          ]
        }
      ]
    },
    {
      "cell_type": "markdown",
      "source": [
        "## TABLA DE MAREAS"
      ],
      "metadata": {
        "id": "9ifnZwIZsIUU"
      }
    },
    {
      "cell_type": "code",
      "source": [
        "# Encontrar todas las filas de la tabla\n",
        "filas = soup.select('tr.tabla_mareas_fila')\n",
        "\n",
        "# Iterar sobre las filas y extraer los valores\n",
        "valores = []\n",
        "for fila in filas:\n",
        "    celdas = fila.select('td')\n",
        "    if len(celdas) == 9:  # Filas con datos de mareas\n",
        "        primera_marea_elem = celdas[2].select_one('.tabla_mareas_marea_altura_numero')\n",
        "        segunda_marea_elem = celdas[3].select_one('.tabla_mareas_marea_altura_numero')\n",
        "        tercera_marea_elem = celdas[4].select_one('.tabla_mareas_marea_altura_numero')\n",
        "        cuarta_marea_elem = celdas[5].select_one('.tabla_mareas_marea_altura_numero')\n",
        "        \n",
        "        # Verificar si los elementos existen antes de acceder a su texto\n",
        "        if primera_marea_elem is not None:\n",
        "            primera_marea = primera_marea_elem.text.strip()\n",
        "            valores.append(primera_marea)\n",
        "        \n",
        "        if segunda_marea_elem is not None:\n",
        "            segunda_marea = segunda_marea_elem.text.strip()\n",
        "            valores.append(segunda_marea)\n",
        "        \n",
        "        if tercera_marea_elem is not None:\n",
        "            tercera_marea = tercera_marea_elem.text.strip()\n",
        "            valores.append(tercera_marea)\n",
        "        \n",
        "        if cuarta_marea_elem is not None:\n",
        "            cuarta_marea = cuarta_marea_elem.text.strip()\n",
        "            valores.append(cuarta_marea)\n",
        "\n",
        "# Imprimir los valores extraídos\n",
        "print(valores)"
      ],
      "metadata": {
        "colab": {
          "base_uri": "https://localhost:8080/"
        },
        "id": "i-klslj8tR6c",
        "outputId": "7fbce973-8223-471d-9c59-8623adfbaf88"
      },
      "execution_count": 133,
      "outputs": [
        {
          "output_type": "stream",
          "name": "stdout",
          "text": [
            "['1,7', '5,3', '1,9', '1,4', '5,7', '1,5', '5,8', '1,2', '6,1', '6,0', '1,1', '6,3', '6,0', '1,0', '6,4', '6,0', '1,1', '6,5', '5,8', '1,3', '6,4', '5,6', '1,5', '6,3', '5,3', '1,8', '6,0', '5,0', '2,1', '5,7', '4,7', '2,4', '5,4', '1,9', '4,6', '2,5', '1,8', '4,9', '2,3', '1,6', '5,3', '1,9', '1,3', '5,8', '1,4', '1,0', '6,2', '1,0', '0,8', '6,5', '0,7', '6,3', '0,8', '6,7', '6,2', '0,9', '6,7', '6,0', '1,1', '6,5', '5,7', '1,4', '6,3', '5,3', '1,8', '6,0', '4,9', '2,1', '5,6', '4,6', '2,5', '5,2', '4,4', '2,8', '4,9', '2,4', '4,2', '3,0', '2,5', '4,3', '3,0', '2,4', '4,5', '2,8', '2,2', '4,8', '2,5', '2,0', '5,2', '2,1', '1,7', '5,6', '1,7']\n"
          ]
        }
      ]
    },
    {
      "cell_type": "code",
      "source": [
        "filas = soup.select('tr.tabla_mareas_fila')\n",
        "\n",
        "# Iterar sobre las filas y extraer los valores\n",
        "valores = []\n",
        "for fila in filas:\n",
        "    celdas = fila.select('td')\n",
        "    if len(celdas) == 9:  # Filas con datos de mareas\n",
        "        primera_marea_elem = celdas[2].select_one('.tabla_mareas_marea_altura_numero')\n",
        "        segunda_marea_elem = celdas[3].select_one('.tabla_mareas_marea_altura_numero')\n",
        "        tercera_marea_elem = celdas[4].select_one('.tabla_mareas_marea_altura_numero')\n",
        "        cuarta_marea_elem = celdas[5].select_one('.tabla_mareas_marea_altura_numero')\n",
        "        primera_hora_elem = celdas[2].select_one('.tabla_mareas_marea_hora')\n",
        "        segunda_hora_elem = celdas[3].select_one('.tabla_mareas_marea_hora')\n",
        "        tercera_hora_elem = celdas[4].select_one('.tabla_mareas_marea_hora')\n",
        "        cuarta_hora_elem = celdas[5].select_one('.tabla_mareas_marea_hora')\n",
        "        primera_bajamar_elem = celdas[2].select_one('.tabla_mareas_hora_bajamar')\n",
        "        segunda_bajamar_elem = celdas[3].select_one('.tabla_mareas_hora_bajamar')\n",
        "        tercera_bajamar_elem = celdas[4].select_one('.tabla_mareas_hora_bajamar')\n",
        "        cuarta_bajamar_elem = celdas[5].select_one('.tabla_mareas_hora_bajamar')\n",
        "\n",
        "        # Verificar si los elementos existen antes de acceder a su texto\n",
        "        if primera_marea_elem is not None:\n",
        "            primera_marea = primera_marea_elem.text.strip()\n",
        "            valores.append(primera_marea)\n",
        "\n",
        "        if segunda_marea_elem is not None:\n",
        "            segunda_marea = segunda_marea_elem.text.strip()\n",
        "            valores.append(segunda_marea)\n",
        "\n",
        "        if tercera_marea_elem is not None:\n",
        "            tercera_marea = tercera_marea_elem.text.strip()\n",
        "            valores.append(tercera_marea)\n",
        "\n",
        "        if cuarta_marea_elem is not None:\n",
        "            cuarta_marea = cuarta_marea_elem.text.strip()\n",
        "            valores.append(cuarta_marea)\n",
        "\n",
        "        if primera_hora_elem is not None:\n",
        "            primera_hora = primera_hora_elem.text.strip()\n",
        "            valores.append(primera_hora)\n",
        "\n",
        "        if segunda_hora_elem is not None:\n",
        "            segunda_hora = segunda_hora_elem.text.strip()\n",
        "            valores.append(segunda_hora)\n",
        "\n",
        "        if tercera_hora_elem is not None:\n",
        "            tercera_hora = tercera_hora_elem.text.strip()\n",
        "            valores.append(tercera_hora)\n",
        "\n",
        "        if cuarta_hora_elem is not None:\n",
        "            cuarta_hora = cuarta_hora_elem.text.strip()\n",
        "            valores.append(cuarta_hora)\n",
        "\n",
        "        if primera_bajamar_elem is not None:\n",
        "            primera_bajamar = primera_bajamar_elem.text.strip()\n",
        "            valores.append(primera_bajamar)\n",
        "\n",
        "        if segunda_bajamar_elem is not None:\n",
        "            segunda_bajamar = segunda_bajamar_elem.text.strip()\n",
        "            valores.append(segunda_bajamar)\n",
        "\n",
        "        if tercera_bajamar_elem is not None:\n",
        "            tercera_bajamar = tercera_bajamar_elem.text.strip()\n",
        "            valores.append(tercera_bajamar)\n",
        "\n",
        "        if cuarta_bajamar_elem is not None:\n",
        "            cuarta_bajamar = cuarta_bajamar_elem.text.strip()\n",
        "            valores.append(cuarta_bajamar)\n",
        "\n",
        "# Imprimir los valores extraídos\n",
        "print(valores)"
      ],
      "metadata": {
        "colab": {
          "base_uri": "https://localhost:8080/"
        },
        "id": "CHkKON3wvA4b",
        "outputId": "894f417c-bbc2-493d-afa9-33ebe20c41fd"
      },
      "execution_count": 134,
      "outputs": [
        {
          "output_type": "stream",
          "name": "stdout",
          "text": [
            "['1,7', '5,3', '1,9', '5:13 h', '11:27 h', '17:31 h', '5:13 h', '17:31 h', '1,4', '5,7', '1,5', '5:46 h', '11:57 h', '18:05 h', '5:46 h', '18:05 h', '5,8', '1,2', '6,1', '0:08 h', '6:17 h', '12:26 h', '6:17 h', '6,0', '1,1', '6,3', '0:40 h', '6:47 h', '12:56 h', '6:47 h', '6,0', '1,0', '6,4', '1:13 h', '7:18 h', '13:27 h', '7:18 h', '6,0', '1,1', '6,5', '1:47 h', '7:49 h', '13:59 h', '7:49 h', '5,8', '1,3', '6,4', '2:23 h', '8:22 h', '14:34 h', '8:22 h', '5,6', '1,5', '6,3', '3:01 h', '8:58 h', '15:12 h', '8:58 h', '5,3', '1,8', '6,0', '3:45 h', '9:40 h', '15:57 h', '9:40 h', '5,0', '2,1', '5,7', '4:38 h', '10:31 h', '16:52 h', '10:31 h', '4,7', '2,4', '5,4', '5:47 h', '11:42 h', '18:05 h', '11:42 h', '1,9', '4,6', '2,5', '0:59 h', '7:16 h', '13:15 h', '0:59 h', '13:15 h', '1,8', '4,9', '2,3', '2:23 h', '8:46 h', '14:46 h', '2:23 h', '14:46 h', '1,6', '5,3', '1,9', '3:33 h', '9:53 h', '15:57 h', '3:33 h', '15:57 h', '1,3', '5,8', '1,4', '4:30 h', '10:46 h', '16:54 h', '4:30 h', '16:54 h', '1,0', '6,2', '1,0', '5:18 h', '11:31 h', '17:43 h', '5:18 h', '17:43 h', '0,8', '6,5', '0,7', '6:01 h', '12:13 h', '18:27 h', '6:01 h', '18:27 h', '6,3', '0,8', '6,7', '0:34 h', '6:41 h', '12:52 h', '6:41 h', '6,2', '0,9', '6,7', '1:16 h', '7:19 h', '13:30 h', '7:19 h', '6,0', '1,1', '6,5', '1:55 h', '7:55 h', '14:07 h', '7:55 h', '5,7', '1,4', '6,3', '2:33 h', '8:30 h', '14:42 h', '8:30 h', '5,3', '1,8', '6,0', '3:10 h', '9:05 h', '15:18 h', '9:05 h', '4,9', '2,1', '5,6', '3:48 h', '9:40 h', '15:54 h', '9:40 h', '4,6', '2,5', '5,2', '4:30 h', '10:18 h', '16:34 h', '10:18 h', '4,4', '2,8', '4,9', '5:20 h', '11:06 h', '17:22 h', '11:06 h', '2,4', '4,2', '3,0', '0:15 h', '6:25 h', '12:13 h', '0:15 h', '12:13 h', '2,5', '4,3', '3,0', '1:22 h', '7:43 h', '13:37 h', '1:22 h', '13:37 h', '2,4', '4,5', '2,8', '2:28 h', '8:52 h', '14:53 h', '2:28 h', '14:53 h', '2,2', '4,8', '2,5', '3:23 h', '9:44 h', '15:51 h', '3:23 h', '15:51 h', '2,0', '5,2', '2,1', '4:10 h', '10:27 h', '16:39 h', '4:10 h', '16:39 h', '1,7', '5,6', '1,7', '4:52 h', '11:06 h', '17:23 h', '4:52 h', '17:23 h']\n"
          ]
        }
      ]
    },
    {
      "cell_type": "code",
      "source": [
        "filas = soup.select('tr.tabla_mareas_fila')\n",
        "\n",
        "# Iterar sobre las filas y extraer los valores\n",
        "valores = []\n",
        "for fila in filas:\n",
        "    celdas = fila.select('td')\n",
        "    if len(celdas) == 9:  # Filas con datos de mareas\n",
        "        primera_marea_elem = celdas[2].select_one('.tabla_mareas_marea_altura_numero')\n",
        "        segunda_marea_elem = celdas[3].select_one('.tabla_mareas_marea_altura_numero')\n",
        "        tercera_marea_elem = celdas[4].select_one('.tabla_mareas_marea_altura_numero')\n",
        "        cuarta_marea_elem = celdas[5].select_one('.tabla_mareas_marea_altura_numero')\n",
        "        primera_hora_elem = celdas[2].select_one('.tabla_mareas_marea_hora')\n",
        "        segunda_hora_elem = celdas[3].select_one('.tabla_mareas_marea_hora')\n",
        "        tercera_hora_elem = celdas[4].select_one('.tabla_mareas_marea_hora')\n",
        "        cuarta_hora_elem = celdas[5].select_one('.tabla_mareas_marea_hora')\n",
        "        primera_bajamar_elem = celdas[2].select_one('.tabla_mareas_hora_bajamar')\n",
        "        segunda_bajamar_elem = celdas[3].select_one('.tabla_mareas_hora_bajamar')\n",
        "        tercera_bajamar_elem = celdas[4].select_one('.tabla_mareas_hora_bajamar')\n",
        "        cuarta_bajamar_elem = celdas[5].select_one('.tabla_mareas_hora_bajamar')\n",
        "        salida_sol_salida_elem = celdas[6].select_one('.tabla_mareas_salida_puesta_sol_salida')\n",
        "        salida_sol_puesta_elem = celdas[6].select_one('.tabla_mareas_salida_puesta_sol_puesta')\n",
        "        dia_elem = celdas[7].select_one('.tabla_mareas_dia')\n",
        "        dia_dia_elem = celdas[7].select_one('.tabla_mareas_dia_dia')\n",
        "\n",
        "        # Verificar si los elementos existen antes de acceder a su texto\n",
        "        if primera_marea_elem is not None:\n",
        "            primera_marea = primera_marea_elem.text.strip()\n",
        "            valores.append(primera_marea)\n",
        "\n",
        "        if segunda_marea_elem is not None:\n",
        "            segunda_marea = segunda_marea_elem.text.strip()\n",
        "            valores.append(segunda_marea)\n",
        "\n",
        "        if tercera_marea_elem is not None:\n",
        "            tercera_marea = tercera_marea_elem.text.strip()\n",
        "            valores.append(tercera_marea)\n",
        "\n",
        "        if cuarta_marea_elem is not None:\n",
        "            cuarta_marea = cuarta_marea_elem.text.strip()\n",
        "            valores.append(cuarta_marea)\n",
        "\n",
        "        if primera_hora_elem is not None:\n",
        "            primera_hora = primera_hora_elem.text.strip()\n",
        "            valores.append(primera_hora)\n",
        "\n",
        "        if segunda_hora_elem is not None:\n",
        "            segunda_hora = segunda_hora_elem.text.strip()\n",
        "            valores.append(segunda_hora)\n",
        "\n",
        "        if tercera_hora_elem is not None:\n",
        "            tercera_hora = tercera_hora_elem.text.strip()\n",
        "            valores.append(tercera_hora)\n",
        "\n",
        "        if cuarta_hora_elem is not None:\n",
        "            cuarta_hora = cuarta_hora_elem.text.strip()\n",
        "            valores.append(cuarta_hora)\n",
        "\n",
        "        if primera_bajamar_elem is not None:\n",
        "            primera_bajamar = primera_bajamar_elem.text.strip()\n",
        "            valores.append(primera_bajamar)\n",
        "\n",
        "        if segunda_bajamar_elem is not None:\n",
        "            segunda_bajamar = segunda_bajamar_elem.text.strip()\n",
        "            valores.append(segunda_bajamar)\n",
        "\n",
        "        if tercera_bajamar_elem is not None:\n",
        "            tercera_bajamar = tercera_bajamar_elem.text.strip()\n",
        "            valores.append(tercera_bajamar)\n",
        "\n",
        "        if cuarta_bajamar_elem is not None:\n",
        "            cuarta_bajamar = cuarta_bajamar_elem.text.strip()\n",
        "            valores.append(cuarta_bajamar)\n",
        "\n",
        "        if salida_sol_salida_elem is not None:\n",
        "            salida_sol_salida = salida_sol_salida_elem.text.strip()\n",
        "            valores.append(salida_sol_salida)\n",
        "\n",
        "        if salida_sol_puesta_elem is not None:\n",
        "            salida_sol_puesta = salida_sol_puesta_elem.text.strip()\n",
        "            valores.append(salida_sol_puesta)\n",
        "\n",
        "        if dia_elem is not None:\n",
        "            dia = dia_elem.text.strip()\n",
        "            valores.append(dia)\n",
        "\n",
        "        if dia_dia_elem is not None:\n",
        "            dia_dia = dia_dia_elem.text.strip()\n",
        "            valores.append(dia_dia)\n",
        "\n",
        "# Imprimir los valores extraídos\n",
        "print(valores)"
      ],
      "metadata": {
        "colab": {
          "base_uri": "https://localhost:8080/"
        },
        "id": "BSAFG_FDwL21",
        "outputId": "1d90209b-7615-4dcc-c778-5b79874237db"
      },
      "execution_count": 135,
      "outputs": [
        {
          "output_type": "stream",
          "name": "stdout",
          "text": [
            "['1,7', '5,3', '1,9', '5:13 h', '11:27 h', '17:31 h', '5:13 h', '17:31 h', '1,4', '5,7', '1,5', '5:46 h', '11:57 h', '18:05 h', '5:46 h', '18:05 h', '5,8', '1,2', '6,1', '0:08 h', '6:17 h', '12:26 h', '6:17 h', '6,0', '1,1', '6,3', '0:40 h', '6:47 h', '12:56 h', '6:47 h', '6,0', '1,0', '6,4', '1:13 h', '7:18 h', '13:27 h', '7:18 h', '6,0', '1,1', '6,5', '1:47 h', '7:49 h', '13:59 h', '7:49 h', '5,8', '1,3', '6,4', '2:23 h', '8:22 h', '14:34 h', '8:22 h', '5,6', '1,5', '6,3', '3:01 h', '8:58 h', '15:12 h', '8:58 h', '5,3', '1,8', '6,0', '3:45 h', '9:40 h', '15:57 h', '9:40 h', '5,0', '2,1', '5,7', '4:38 h', '10:31 h', '16:52 h', '10:31 h', '4,7', '2,4', '5,4', '5:47 h', '11:42 h', '18:05 h', '11:42 h', '1,9', '4,6', '2,5', '0:59 h', '7:16 h', '13:15 h', '0:59 h', '13:15 h', '1,8', '4,9', '2,3', '2:23 h', '8:46 h', '14:46 h', '2:23 h', '14:46 h', '1,6', '5,3', '1,9', '3:33 h', '9:53 h', '15:57 h', '3:33 h', '15:57 h', '1,3', '5,8', '1,4', '4:30 h', '10:46 h', '16:54 h', '4:30 h', '16:54 h', '1,0', '6,2', '1,0', '5:18 h', '11:31 h', '17:43 h', '5:18 h', '17:43 h', '0,8', '6,5', '0,7', '6:01 h', '12:13 h', '18:27 h', '6:01 h', '18:27 h', '6,3', '0,8', '6,7', '0:34 h', '6:41 h', '12:52 h', '6:41 h', '6,2', '0,9', '6,7', '1:16 h', '7:19 h', '13:30 h', '7:19 h', '6,0', '1,1', '6,5', '1:55 h', '7:55 h', '14:07 h', '7:55 h', '5,7', '1,4', '6,3', '2:33 h', '8:30 h', '14:42 h', '8:30 h', '5,3', '1,8', '6,0', '3:10 h', '9:05 h', '15:18 h', '9:05 h', '4,9', '2,1', '5,6', '3:48 h', '9:40 h', '15:54 h', '9:40 h', '4,6', '2,5', '5,2', '4:30 h', '10:18 h', '16:34 h', '10:18 h', '4,4', '2,8', '4,9', '5:20 h', '11:06 h', '17:22 h', '11:06 h', '2,4', '4,2', '3,0', '0:15 h', '6:25 h', '12:13 h', '0:15 h', '12:13 h', '2,5', '4,3', '3,0', '1:22 h', '7:43 h', '13:37 h', '1:22 h', '13:37 h', '2,4', '4,5', '2,8', '2:28 h', '8:52 h', '14:53 h', '2:28 h', '14:53 h', '2,2', '4,8', '2,5', '3:23 h', '9:44 h', '15:51 h', '3:23 h', '15:51 h', '2,0', '5,2', '2,1', '4:10 h', '10:27 h', '16:39 h', '4:10 h', '16:39 h', '1,7', '5,6', '1,7', '4:52 h', '11:06 h', '17:23 h', '4:52 h', '17:23 h']\n"
          ]
        }
      ]
    },
    {
      "cell_type": "code",
      "source": [
        "filas = soup.select('tr.tabla_mareas_fila')\n",
        "\n",
        "# Iterar sobre las filas y extraer los valores\n",
        "valores = []\n",
        "contador_filas = 0\n",
        "for fila in filas:\n",
        "    celdas = fila.select('td')\n",
        "    if len(celdas) == 9:  # Filas con datos de mareas\n",
        "        salida_sol_salida_elem = celdas[6].select_one('.tabla_mareas_salida_puesta_sol_salida')\n",
        "        salida_sol_puesta_elem = celdas[6].select_one('.tabla_mareas_salida_puesta_sol_puesta')\n",
        "        primera_hora_elem = celdas[2].select_one('.tabla_mareas_marea_hora')\n",
        "        primera_marea_elem = celdas[2].select_one('.tabla_mareas_marea_altura_numero')\n",
        "        segunda_hora_elem = celdas[3].select_one('.tabla_mareas_marea_hora')\n",
        "        segunda_marea_elem = celdas[3].select_one('.tabla_mareas_marea_altura_numero')\n",
        "\n",
        "        # Verificar si los elementos existen antes de acceder a su texto\n",
        "        if salida_sol_salida_elem is not None:\n",
        "            salida_sol_salida = salida_sol_salida_elem.text.strip()\n",
        "            valores.append(salida_sol_salida)\n",
        "\n",
        "        if salida_sol_puesta_elem is not None:\n",
        "            salida_sol_puesta = salida_sol_puesta_elem.text.strip()\n",
        "            valores.append(salida_sol_puesta)\n",
        "\n",
        "        if primera_hora_elem is not None:\n",
        "            primera_hora = primera_hora_elem.text.strip()\n",
        "            valores.append(primera_hora)\n",
        "\n",
        "        if primera_marea_elem is not None:\n",
        "            primera_marea = primera_marea_elem.text.strip()\n",
        "            valores.append(primera_marea)\n",
        "\n",
        "        if segunda_hora_elem is not None:\n",
        "            segunda_hora = segunda_hora_elem.text.strip()\n",
        "            valores.append(segunda_hora)\n",
        "\n",
        "        if segunda_marea_elem is not None:\n",
        "            segunda_marea = segunda_marea_elem.text.strip()\n",
        "            valores.append(segunda_marea)\n",
        "\n",
        "        contador_filas += 1\n",
        "        if contador_filas == 31:\n",
        "            break\n",
        "\n",
        "# Formatear los valores según el patrón requerido\n",
        "valores_formateados = []\n",
        "for i in range(0, len(valores), 6):\n",
        "    if i + 5 < len(valores):  # Verificar si hay suficientes elementos en la lista\n",
        "        salida_sol_salida = valores[i]\n",
        "        salida_sol_puesta = valores[i + 1]\n",
        "        primera_hora = valores[i + 2]\n",
        "        primera_marea = valores[i + 3]\n",
        "        segunda_hora = valores[i + 4]\n",
        "        segunda_marea = valores[i + 5]\n",
        "        valor_formateado = f\"{salida_sol_salida}, {salida_sol_puesta}, {primera_hora}, {primera_marea}, {segunda_hora}, {segunda_marea}\"\n",
        "        valores_formateados.append(valor_formateado)\n",
        "\n",
        "# Concatenar los valores formateados con saltos de línea\n",
        "resultado = '\\n'.join(valores_formateados)\n",
        "\n",
        "# Imprimir el resultado\n",
        "print(resultado)"
      ],
      "metadata": {
        "colab": {
          "base_uri": "https://localhost:8080/"
        },
        "id": "3BvVwg6UxGyv",
        "outputId": "64abbb47-dee7-4137-c3ec-3d4008121792"
      },
      "execution_count": 140,
      "outputs": [
        {
          "output_type": "stream",
          "name": "stdout",
          "text": [
            "5:13 h, 1,7, 5:46 h, 1,4, 0:08 h, 5,8\n",
            "0:40 h, 6,0, 1:13 h, 6,0, 1:47 h, 6,0\n",
            "2:23 h, 5,8, 3:01 h, 5,6, 3:45 h, 5,3\n",
            "4:38 h, 5,0, 5:47 h, 4,7, 0:59 h, 1,9\n",
            "2:23 h, 1,8, 3:33 h, 1,6, 4:30 h, 1,3\n",
            "5:18 h, 1,0, 6:01 h, 0,8, 0:34 h, 6,3\n",
            "1:16 h, 6,2, 1:55 h, 6,0, 2:33 h, 5,7\n",
            "3:10 h, 5,3, 3:48 h, 4,9, 4:30 h, 4,6\n",
            "5:20 h, 4,4, 0:15 h, 2,4, 1:22 h, 2,5\n",
            "2:28 h, 2,4, 3:23 h, 2,2, 4:10 h, 2,0\n"
          ]
        }
      ]
    },
    {
      "cell_type": "markdown",
      "source": [
        "## CABALLO DE BATALLA"
      ],
      "metadata": {
        "id": "mTvpZckCdNY1"
      }
    },
    {
      "cell_type": "code",
      "source": [
        "# Buscar todos los div con la clase grafico_estado_actual_texto\n",
        "divs_estado_actual = soup.find_all('div', class_='grafico_estado_actual_texto')\n",
        "\n",
        "if divs_estado_actual:\n",
        "    for div_estado_actual in divs_estado_actual:\n",
        "        # Obtener el contenido de cada elemento div\n",
        "        contenido = div_estado_actual.text.strip()\n",
        "        \n",
        "        # Imprimir el resultado obtenido\n",
        "        print(contenido)\n",
        "else:\n",
        "    print(\"No se encontraron elementos div con la clase grafico_estado_actual_texto.\")"
      ],
      "metadata": {
        "colab": {
          "base_uri": "https://localhost:8080/"
        },
        "id": "fhiPCsbRdPc5",
        "outputId": "32721124-0f7c-48b0-85b4-f6a75fd421cf"
      },
      "execution_count": 92,
      "outputs": [
        {
          "output_type": "stream",
          "name": "stdout",
          "text": [
            "En este momento la temperatura actual del agua en Puerto Montt es de 11°C. La temperatura media del agua en Puerto Montt en el dia de hoy es de 10°C.                    \n",
            "\n",
            "  La temperatura del agua juega un papel determinante en la conducta de los peces. Cuando el agua está fría los peces se muestran aletargados e inactivos, y lo mismo ocurre si el agua está demasiado caliente.\n",
            "Hoy  miércoles, 31 de mayo de 2023, amaneció en Puerto Montt a las 8:07:47 h y la puesta de sol será a las 17:31:13 h. En el gráfico de pleamares y bajamares, podemos observar que la primera bajamar fue a las 4:52 h y la siguiente bajamar  será a las 17:23 h. La primera pleamar  fue a las 11:06 h y la siguiente pleamar  será a las 23:23 h.  \n",
            "\n",
            " El nivel del agua está bajando en estos momentos. La bajamar será dentro de 3 horas y 11 minutos. \n",
            "\n",
            " Hasta la puesta de sol de las 17:31:13 h, habremos tenido un total de 9 horas y 23 minutos de sol. El tránsito solar fue a las 12:49:30 h.\n",
            "Hoy comenzamos el dia con un coeficiente de mareas de 68 (medio). A mediodía el valor del coeficiente de mareas crece hasta 73 para acabar el día con un coeficiente de mareas de 76. \n",
            "\n",
            " Tomando como referencia la bajamar media inferior (BMI), las alturas de las mareas de hoy son 1,7 m, 5,6 m, 1,7 m y 5,4 m.  \n",
            "\n",
            " Podemos comparar estos niveles con la pleamar máxima registrada en las tablas de mareas de Puerto Montt que es de 7,4 m y la altura mínima -0,1 m.\n",
            "En el siguiente gráfico se muestra la progresión del coeficiente de mareas durante el mes de mayo de 2023. Estos valores nos dan una visión aproximada de la amplitud de las mareas previstas en Puerto Montt en mayo. Grandes coeficientes conllevan grandes pleamares y bajamares; se suelen producir grandes corrientes y movimientos de fondos marinos. Pero recuerda que esta amplitud de las mareas puede verse muy afectada por los efectos meteorológicos y que siempre debes consultar el estado del tiempo en Puerto Montt, el pronóstico del viento en Puerto Montt y la predicción del oleaje en Puerto Montt antes de salir de pesca.\n"
          ]
        }
      ]
    }
  ]
}
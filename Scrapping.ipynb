{
  "nbformat": 4,
  "nbformat_minor": 0,
  "metadata": {
    "colab": {
      "provenance": []
    },
    "kernelspec": {
      "name": "python3",
      "display_name": "Python 3"
    },
    "language_info": {
      "name": "python"
    }
  },
  "cells": [
    {
      "cell_type": "markdown",
      "source": [
        "##ENTORNO"
      ],
      "metadata": {
        "id": "OAiKZlgzXg9c"
      }
    },
    {
      "cell_type": "code",
      "source": [
        "#Instalar dependencias para instalar Google-Chrome\n",
        "!sudo apt-get update\n",
        "!sudo apt-get install -y libu2f-udev\n",
        "!pip install selenium"
      ],
      "metadata": {
        "colab": {
          "base_uri": "https://localhost:8080/"
        },
        "id": "Uw55GGtYCSOB",
        "outputId": "22749eec-057d-4d39-aff0-4a4eac010e5d"
      },
      "execution_count": 1,
      "outputs": [
        {
          "output_type": "stream",
          "name": "stdout",
          "text": [
            "\r0% [Working]\r            \rHit:1 http://ppa.launchpad.net/c2d4u.team/c2d4u4.0+/ubuntu focal InRelease\n",
            "\r0% [Waiting for headers] [Connecting to security.ubuntu.com (91.189.91.39)] [Co\r                                                                               \rHit:2 http://archive.ubuntu.com/ubuntu focal InRelease\n",
            "\r                                                                               \rHit:3 http://ppa.launchpad.net/cran/libgit2/ubuntu focal InRelease\n",
            "\r0% [Waiting for headers] [Connecting to security.ubuntu.com (91.189.91.39)] [Wa\r                                                                               \rGet:4 http://archive.ubuntu.com/ubuntu focal-updates InRelease [114 kB]\n",
            "\r                                                                               \rGet:5 https://cloud.r-project.org/bin/linux/ubuntu focal-cran40/ InRelease [3,622 B]\n",
            "\r0% [4 InRelease 24.3 kB/114 kB 21%] [Connecting to security.ubuntu.com (91.189.\r0% [4 InRelease 24.3 kB/114 kB 21%] [Connecting to security.ubuntu.com (91.189.\r                                                                               \rHit:6 http://ppa.launchpad.net/deadsnakes/ppa/ubuntu focal InRelease\n",
            "\r0% [4 InRelease 50.4 kB/114 kB 44%] [Connecting to security.ubuntu.com (91.189.\r0% [Waiting for headers] [Waiting for headers] [Waiting for headers] [Waiting f\r                                                                               \rHit:7 http://ppa.launchpad.net/graphics-drivers/ppa/ubuntu focal InRelease\n",
            "\r0% [Waiting for headers] [Waiting for headers] [Connecting to ppa.launchpad.net\r                                                                               \rHit:8 https://developer.download.nvidia.com/compute/cuda/repos/ubuntu2004/x86_64  InRelease\n",
            "\r0% [Waiting for headers] [Waiting for headers] [Connecting to ppa.launchpad.net\r                                                                               \rGet:9 http://archive.ubuntu.com/ubuntu focal-backports InRelease [108 kB]\n",
            "\r0% [9 InRelease 6,945 B/108 kB 6%] [Waiting for headers] [Connecting to ppa.lau\r                                                                               \r0% [Waiting for headers] [Waiting for headers]\r                                              \rHit:10 http://ppa.launchpad.net/ubuntugis/ppa/ubuntu focal InRelease\n",
            "Get:11 http://security.ubuntu.com/ubuntu focal-security InRelease [114 kB]\n",
            "Get:12 http://archive.ubuntu.com/ubuntu focal-updates/main amd64 Packages [3,252 kB]\n",
            "Get:13 http://archive.ubuntu.com/ubuntu focal-updates/universe amd64 Packages [1,351 kB]\n",
            "Get:14 http://security.ubuntu.com/ubuntu focal-security/main amd64 Packages [2,772 kB]\n",
            "Get:15 http://security.ubuntu.com/ubuntu focal-security/restricted amd64 Packages [2,345 kB]\n",
            "Get:16 http://security.ubuntu.com/ubuntu focal-security/universe amd64 Packages [1,056 kB]\n",
            "Fetched 11.1 MB in 2s (4,554 kB/s)\n",
            "Reading package lists... Done\n",
            "Reading package lists... Done\n",
            "Building dependency tree       \n",
            "Reading state information... Done\n",
            "The following additional packages will be installed:\n",
            "  libudev1 udev\n",
            "The following NEW packages will be installed:\n",
            "  libu2f-udev udev\n",
            "The following packages will be upgraded:\n",
            "  libudev1\n",
            "1 upgraded, 2 newly installed, 0 to remove and 37 not upgraded.\n",
            "Need to get 1,448 kB of archives.\n",
            "After this operation, 9,440 kB of additional disk space will be used.\n",
            "Get:1 http://archive.ubuntu.com/ubuntu focal-updates/main amd64 libudev1 amd64 245.4-4ubuntu3.21 [75.9 kB]\n",
            "Get:2 http://archive.ubuntu.com/ubuntu focal-updates/main amd64 udev amd64 245.4-4ubuntu3.21 [1,366 kB]\n",
            "Get:3 http://archive.ubuntu.com/ubuntu focal/main amd64 libu2f-udev all 1.1.10-1 [6,108 B]\n",
            "Fetched 1,448 kB in 0s (12.2 MB/s)\n",
            "debconf: unable to initialize frontend: Dialog\n",
            "debconf: (No usable dialog-like program is installed, so the dialog based frontend cannot be used. at /usr/share/perl5/Debconf/FrontEnd/Dialog.pm line 76, <> line 3.)\n",
            "debconf: falling back to frontend: Readline\n",
            "debconf: unable to initialize frontend: Readline\n",
            "debconf: (This frontend requires a controlling tty.)\n",
            "debconf: falling back to frontend: Teletype\n",
            "dpkg-preconfigure: unable to re-open stdin: \n",
            "(Reading database ... 122542 files and directories currently installed.)\n",
            "Preparing to unpack .../libudev1_245.4-4ubuntu3.21_amd64.deb ...\n",
            "Unpacking libudev1:amd64 (245.4-4ubuntu3.21) over (245.4-4ubuntu3.19) ...\n",
            "Setting up libudev1:amd64 (245.4-4ubuntu3.21) ...\n",
            "Selecting previously unselected package udev.\n",
            "(Reading database ... 122542 files and directories currently installed.)\n",
            "Preparing to unpack .../udev_245.4-4ubuntu3.21_amd64.deb ...\n",
            "Unpacking udev (245.4-4ubuntu3.21) ...\n",
            "Selecting previously unselected package libu2f-udev.\n",
            "Preparing to unpack .../libu2f-udev_1.1.10-1_all.deb ...\n",
            "Unpacking libu2f-udev (1.1.10-1) ...\n",
            "Setting up udev (245.4-4ubuntu3.21) ...\n",
            "invoke-rc.d: could not determine current runlevel\n",
            "invoke-rc.d: policy-rc.d denied execution of start.\n",
            "Setting up libu2f-udev (1.1.10-1) ...\n",
            "Failed to send reload request: No such file or directory\n",
            "Processing triggers for systemd (245.4-4ubuntu3.21) ...\n",
            "Processing triggers for man-db (2.9.1-1) ...\n",
            "Processing triggers for libc-bin (2.31-0ubuntu9.9) ...\n",
            "Looking in indexes: https://pypi.org/simple, https://us-python.pkg.dev/colab-wheels/public/simple/\n",
            "Collecting selenium\n",
            "  Downloading selenium-4.9.1-py3-none-any.whl (6.6 MB)\n",
            "\u001b[2K     \u001b[90m━━━━━━━━━━━━━━━━━━━━━━━━━━━━━━━━━━━━━━━━\u001b[0m \u001b[32m6.6/6.6 MB\u001b[0m \u001b[31m71.2 MB/s\u001b[0m eta \u001b[36m0:00:00\u001b[0m\n",
            "\u001b[?25hRequirement already satisfied: urllib3[socks]<3,>=1.26 in /usr/local/lib/python3.10/dist-packages (from selenium) (1.26.15)\n",
            "Collecting trio~=0.17 (from selenium)\n",
            "  Downloading trio-0.22.0-py3-none-any.whl (384 kB)\n",
            "\u001b[2K     \u001b[90m━━━━━━━━━━━━━━━━━━━━━━━━━━━━━━━━━━━━━━\u001b[0m \u001b[32m384.9/384.9 kB\u001b[0m \u001b[31m35.7 MB/s\u001b[0m eta \u001b[36m0:00:00\u001b[0m\n",
            "\u001b[?25hCollecting trio-websocket~=0.9 (from selenium)\n",
            "  Downloading trio_websocket-0.10.2-py3-none-any.whl (17 kB)\n",
            "Requirement already satisfied: certifi>=2021.10.8 in /usr/local/lib/python3.10/dist-packages (from selenium) (2022.12.7)\n",
            "Requirement already satisfied: attrs>=19.2.0 in /usr/local/lib/python3.10/dist-packages (from trio~=0.17->selenium) (23.1.0)\n",
            "Requirement already satisfied: sortedcontainers in /usr/local/lib/python3.10/dist-packages (from trio~=0.17->selenium) (2.4.0)\n",
            "Collecting async-generator>=1.9 (from trio~=0.17->selenium)\n",
            "  Downloading async_generator-1.10-py3-none-any.whl (18 kB)\n",
            "Requirement already satisfied: idna in /usr/local/lib/python3.10/dist-packages (from trio~=0.17->selenium) (3.4)\n",
            "Collecting outcome (from trio~=0.17->selenium)\n",
            "  Downloading outcome-1.2.0-py2.py3-none-any.whl (9.7 kB)\n",
            "Requirement already satisfied: sniffio in /usr/local/lib/python3.10/dist-packages (from trio~=0.17->selenium) (1.3.0)\n",
            "Requirement already satisfied: exceptiongroup>=1.0.0rc9 in /usr/local/lib/python3.10/dist-packages (from trio~=0.17->selenium) (1.1.1)\n",
            "Collecting wsproto>=0.14 (from trio-websocket~=0.9->selenium)\n",
            "  Downloading wsproto-1.2.0-py3-none-any.whl (24 kB)\n",
            "Requirement already satisfied: PySocks!=1.5.7,<2.0,>=1.5.6 in /usr/local/lib/python3.10/dist-packages (from urllib3[socks]<3,>=1.26->selenium) (1.7.1)\n",
            "Collecting h11<1,>=0.9.0 (from wsproto>=0.14->trio-websocket~=0.9->selenium)\n",
            "  Downloading h11-0.14.0-py3-none-any.whl (58 kB)\n",
            "\u001b[2K     \u001b[90m━━━━━━━━━━━━━━━━━━━━━━━━━━━━━━━━━━━━━━━━\u001b[0m \u001b[32m58.3/58.3 kB\u001b[0m \u001b[31m6.7 MB/s\u001b[0m eta \u001b[36m0:00:00\u001b[0m\n",
            "\u001b[?25hInstalling collected packages: outcome, h11, async-generator, wsproto, trio, trio-websocket, selenium\n",
            "Successfully installed async-generator-1.10 h11-0.14.0 outcome-1.2.0 selenium-4.9.1 trio-0.22.0 trio-websocket-0.10.2 wsproto-1.2.0\n"
          ]
        }
      ]
    },
    {
      "cell_type": "code",
      "source": [
        "#Instalar Google Chrome\n",
        "!wget https://dl.google.com/linux/direct/google-chrome-stable_current_amd64.deb\n",
        "!dpkg -i google-chrome-stable_current_amd64.deb\n",
        "!apt-get install -f\n",
        "!rm -rf google-chrome-stable_current_amd64.deb"
      ],
      "metadata": {
        "colab": {
          "base_uri": "https://localhost:8080/"
        },
        "id": "a39M8737CViN",
        "outputId": "87f017e2-55b4-4e3c-dc23-81a34135bec3"
      },
      "execution_count": 2,
      "outputs": [
        {
          "output_type": "stream",
          "name": "stdout",
          "text": [
            "--2023-06-01 18:33:20--  https://dl.google.com/linux/direct/google-chrome-stable_current_amd64.deb\n",
            "Resolving dl.google.com (dl.google.com)... 108.177.119.136, 108.177.119.190, 108.177.119.91, ...\n",
            "Connecting to dl.google.com (dl.google.com)|108.177.119.136|:443... connected.\n",
            "HTTP request sent, awaiting response... 200 OK\n",
            "Length: 93841272 (89M) [application/x-debian-package]\n",
            "Saving to: ‘google-chrome-stable_current_amd64.deb’\n",
            "\n",
            "google-chrome-stabl 100%[===================>]  89.49M   237MB/s    in 0.4s    \n",
            "\n",
            "2023-06-01 18:33:20 (237 MB/s) - ‘google-chrome-stable_current_amd64.deb’ saved [93841272/93841272]\n",
            "\n",
            "Selecting previously unselected package google-chrome-stable.\n",
            "(Reading database ... 122659 files and directories currently installed.)\n",
            "Preparing to unpack google-chrome-stable_current_amd64.deb ...\n",
            "Unpacking google-chrome-stable (114.0.5735.90-1) ...\n",
            "Setting up google-chrome-stable (114.0.5735.90-1) ...\n",
            "update-alternatives: using /usr/bin/google-chrome-stable to provide /usr/bin/x-www-browser (x-www-browser) in auto mode\n",
            "update-alternatives: using /usr/bin/google-chrome-stable to provide /usr/bin/gnome-www-browser (gnome-www-browser) in auto mode\n",
            "update-alternatives: using /usr/bin/google-chrome-stable to provide /usr/bin/google-chrome (google-chrome) in auto mode\n",
            "Processing triggers for mime-support (3.64ubuntu1) ...\n",
            "Processing triggers for man-db (2.9.1-1) ...\n",
            "Reading package lists... Done\n",
            "Building dependency tree       \n",
            "Reading state information... Done\n",
            "0 upgraded, 0 newly installed, 0 to remove and 37 not upgraded.\n"
          ]
        }
      ]
    },
    {
      "cell_type": "code",
      "source": [
        "# Descargar WebDriver\n",
        "!wget https://chromedriver.storage.googleapis.com/113.0.5672.24/chromedriver_linux64.zip\n",
        "!unzip chromedriver_linux64\n",
        "!rm -rf chromedriver_linux64.zip\n",
        "!rm -rf LICENSE.chromedriver"
      ],
      "metadata": {
        "colab": {
          "base_uri": "https://localhost:8080/"
        },
        "id": "tdWNYccGCYSM",
        "outputId": "dca3cf47-2421-43bc-f0b0-cf1fbc70936b"
      },
      "execution_count": 3,
      "outputs": [
        {
          "output_type": "stream",
          "name": "stdout",
          "text": [
            "--2023-06-01 18:33:38--  https://chromedriver.storage.googleapis.com/113.0.5672.24/chromedriver_linux64.zip\n",
            "Resolving chromedriver.storage.googleapis.com (chromedriver.storage.googleapis.com)... 108.177.126.128, 2a00:1450:4013:c01::80\n",
            "Connecting to chromedriver.storage.googleapis.com (chromedriver.storage.googleapis.com)|108.177.126.128|:443... connected.\n",
            "HTTP request sent, awaiting response... 200 OK\n",
            "Length: 7172785 (6.8M) [application/zip]\n",
            "Saving to: ‘chromedriver_linux64.zip’\n",
            "\n",
            "chromedriver_linux6 100%[===================>]   6.84M  9.05MB/s    in 0.8s    \n",
            "\n",
            "2023-06-01 18:33:39 (9.05 MB/s) - ‘chromedriver_linux64.zip’ saved [7172785/7172785]\n",
            "\n",
            "Archive:  chromedriver_linux64.zip\n",
            "  inflating: chromedriver            \n",
            "  inflating: LICENSE.chromedriver    \n"
          ]
        }
      ]
    },
    {
      "cell_type": "markdown",
      "source": [
        "##PAGINA A INSPECCIONAR"
      ],
      "metadata": {
        "id": "b88YmrwDXp1j"
      }
    },
    {
      "cell_type": "code",
      "source": [
        "from selenium import webdriver\n",
        "from selenium.webdriver.chrome.service import Service\n",
        "from selenium.webdriver.chrome.options import Options\n",
        "from bs4 import BeautifulSoup\n",
        "from selenium.webdriver.common.by import By\n",
        "from selenium.webdriver.support.ui import WebDriverWait\n",
        "from selenium.webdriver.support import expected_conditions as EC\n",
        "\n",
        "# Opciones de Chrome\n",
        "chrome_options = Options()\n",
        "chrome_options.add_argument('--headless')\n",
        "chrome_options.add_argument('--no-sandbox')\n",
        "\n",
        "# Ruta del controlador de Chrome\n",
        "chrome_driver_path = '/content/chromedriver'\n",
        "\n",
        "# Crear un objeto Service para especificar la ruta del controlador\n",
        "service = Service(chrome_driver_path)\n",
        "\n",
        "# Crear una instancia del navegador Chrome\n",
        "driver = webdriver.Chrome(service=service, options=chrome_options)\n",
        "\n",
        "# Navegar a una página web\n",
        "driver.get('https://tablademareas.com/cl/los-lagos/puerto-montt')\n",
        "#driver.get('https://tablademareas.com/cl/magallanes/punta-arenas')\n",
        "\n",
        "# Obtener el HTML de la página después de activar el evento onclick\n",
        "html = driver.page_source\n",
        "\n",
        "# Crear un objeto BeautifulSoup para analizar el HTML\n",
        "soup = BeautifulSoup(html, 'html.parser')\n",
        "\n",
        "# Navegar a una página web\n",
        "driver.get('https://tablademareas.com/cl/los-lagos/puerto-montt')\n",
        "#driver.get('https://tablademareas.com/cl/magallanes/punta-arenas')\n",
        "\n",
        "wait = WebDriverWait(driver, 10)\n",
        "element = wait.until(EC.presence_of_element_located((By.ID, 'selector_api_marine')))\n",
        "\n",
        "# Activar el evento onclick del elemento\n",
        "driver.execute_script(\"arguments[0].click();\", element)\n",
        "\n",
        "# Obtener el HTML de la página después de activar el evento onclick\n",
        "html1 = driver.page_source\n",
        "\n",
        "# Crear un objeto BeautifulSoup para analizar el HTML\n",
        "soup1 = BeautifulSoup(html1, 'html.parser')"
      ],
      "metadata": {
        "id": "u1Icy7gYXuCb"
      },
      "execution_count": 4,
      "outputs": []
    },
    {
      "cell_type": "markdown",
      "source": [
        "##DATOS CLIMATOLOGICOS"
      ],
      "metadata": {
        "id": "P8Rwnw9BXxrJ"
      }
    },
    {
      "cell_type": "code",
      "source": [
        "def buscar_elemento(soup, tag, identificador):\n",
        "    elemento = soup.find(tag, id=identificador) or soup.find(tag, class_=identificador)\n",
        "    if elemento:\n",
        "        return elemento.text.strip()\n",
        "    else:\n",
        "        return f'{tag.capitalize()} no encontrado'"
      ],
      "metadata": {
        "id": "rG_46nOeX24H"
      },
      "execution_count": 5,
      "outputs": []
    },
    {
      "cell_type": "code",
      "source": [
        "## Función para buscar color en Descenso /Estable/ En Ascenso\n",
        "def buscar_elemento_v(soup, tag, identificador):\n",
        "    elemento = soup.find(tag, id=identificador) or soup.find(tag, class_=identificador)\n",
        "    if elemento:\n",
        "        return elemento\n",
        "    else:\n",
        "        return None"
      ],
      "metadata": {
        "id": "9fGxMs2vX6zk"
      },
      "execution_count": 6,
      "outputs": []
    },
    {
      "cell_type": "code",
      "source": [
        "## Retorno de estado_color hacia estado\n",
        "def obtener_estado(Presion_Actividad_Pesca, ascenso_color, estable_color, descenso_color):\n",
        "    if Presion_Actividad_Pesca == 'ascenso_color':\n",
        "        resultado = 'en ascenso'\n",
        "    elif Presion_Actividad_Pesca == 'estable_color':\n",
        "        resultado = 'estable'\n",
        "    elif Presion_Actividad_Pesca == 'descenso_color':\n",
        "        resultado = 'en descenso'\n",
        "    else:\n",
        "        resultado = \"Presión de actividad de pesca desconocida\"\n",
        "\n",
        "    return resultado"
      ],
      "metadata": {
        "id": "Inx8PH9EYEUl"
      },
      "execution_count": 7,
      "outputs": []
    },
    {
      "cell_type": "code",
      "source": [
        "## Retorno mensaje de pesca\n",
        "def obtener_mensaje(Presion_Actividad_Pesca, ascenso_color, estable_color, descenso_color):\n",
        "    Mensaje = [\n",
        "        'Muy buena señal. Actividad alta prevista',\n",
        "        'Actividad normal de los peces',\n",
        "        'Buena pesca al principio, pero pronto dejarán de alimentarse'\n",
        "    ]\n",
        "\n",
        "    if Presion_Actividad_Pesca == 'ascenso_color':\n",
        "        resultado = Mensaje[0]\n",
        "    elif Presion_Actividad_Pesca == 'estable_color':\n",
        "        resultado = Mensaje[1]\n",
        "    elif Presion_Actividad_Pesca == 'descenso_color':\n",
        "        resultado = Mensaje[2]\n",
        "    else:\n",
        "        resultado = \"Presión de actividad de pesca desconocida\"\n",
        "\n",
        "    return resultado"
      ],
      "metadata": {
        "id": "WQSGfMdCYIFE"
      },
      "execution_count": 8,
      "outputs": []
    },
    {
      "cell_type": "code",
      "source": [
        "## Retorno del valor activo Descenso /Estable/ En Ascenso\n",
        "def encontrar_activa_v2(x, y, z):\n",
        "    variables = {'ascenso_color': ascenso_color, 'estable_color': estable_color, 'descenso_color': descenso_color}\n",
        "    activas = [variable for variable, valor in variables.items() if valor != '#ffffff']\n",
        "    if len(activas) == 1:\n",
        "        return activas[0]\n",
        "    else:\n",
        "        return \"Ninguna o multiples variables activas\""
      ],
      "metadata": {
        "id": "hqDfpfBlX7hc"
      },
      "execution_count": 9,
      "outputs": []
    },
    {
      "cell_type": "code",
      "source": [
        "## Estado para la pesca\n",
        "def obtener_estado_activo_pesca(soup):\n",
        "    elementos = soup.find_all('div', class_='circulo_estado_grafico_barometro1')\n",
        "    \n",
        "    for elemento in elementos:\n",
        "        if 'circulo_estado_grafico_barometro1_activo' in elemento['class']:\n",
        "            return elemento.next_sibling.strip()\n",
        "    \n",
        "    return \"Estado pesca actual no encontrado\""
      ],
      "metadata": {
        "id": "IGgwnGb2YL7i"
      },
      "execution_count": 10,
      "outputs": []
    },
    {
      "cell_type": "code",
      "source": [
        "#Viento\n",
        "Viento = buscar_elemento(soup, 'span', 'velocidad_grafico_viento')\n",
        "Viento_unidades = buscar_elemento(soup, 'span', 'unidades_grafico_viento')\n",
        "Rachas = buscar_elemento(soup, 'span', 'rafagas_datos_grafico_tiempo_valor')\n",
        "print('Viento:',Viento)\n",
        "print('Unidades de viento:',Viento_unidades,)\n",
        "print('Procedencia_Viento:',Rachas)\n",
        "print('\\n')\n",
        "\n",
        "#Section Temperatura\n",
        "Temperatura = buscar_elemento(soup, 'span', 'temperatura_grafico_termometro')\n",
        "Temperatura_Unidad = '°C'\n",
        "Temperatura_Max = buscar_elemento(soup, 'span', 'temperatura_grafico_termometro_max')\n",
        "Temperatura_Unidad_Max = '°C'\n",
        "Temperatura_Min = buscar_elemento(soup, 'span', 'temperatura_grafico_termometro_min')\n",
        "Temperatura_Unidad_Min = '°C'\n",
        "Temperatura_Sensacion = buscar_elemento(soup, 'span', 'temperatura_grafico_termometro_sensacion')\n",
        "Temperatura_Unidad_Sensacion = '°C'\n",
        "\n",
        "print('Temperatura:',Temperatura)\n",
        "print('Unidad de Temperatura:',Temperatura_Unidad)\n",
        "print('Temperatura Max:',Temperatura_Max)\n",
        "print('Unidad de Temperatura Max:',Temperatura_Unidad_Max)\n",
        "print('Temperatura Min:',Temperatura_Min)\n",
        "print('Unidad de Temperatura Min:',Temperatura_Unidad_Min)\n",
        "print('Temperatura Sensacion:',Temperatura_Sensacion)\n",
        "print('Unidad de Temperatura Sensacion:',Temperatura_Unidad_Sensacion)\n",
        "\n",
        "\n",
        "print('\\n')\n",
        "\n",
        "# Humedad\n",
        "Humedad = buscar_elemento(soup, 'span', 'humedad_grafico_humedad')\n",
        "Unidad_humedad = '%'\n",
        "Pto_Rocio = buscar_elemento(soup, 'span', 'rocio_datos_grafico_tiempo_valor')\n",
        "Unidad_Pto_Rocio = '°C'\n",
        "\n",
        "print('Humedad:',Humedad)\n",
        "print('Unidad Humedad:',Unidad_humedad)\n",
        "print('Punto de Rocio:',Pto_Rocio)\n",
        "print('Unidad Punto de Rocio:',Unidad_Pto_Rocio)\n",
        "print('\\n')\n",
        "\n",
        "#Tiempo\n",
        "Visibilidad = buscar_elemento(soup, 'span', 'numero_visibilidad_grafico_visibilidad')\n",
        "Visibilidad_Unidad = buscar_elemento(soup, 'span', 'unidades_grafico_viento')\n",
        "\n",
        "print('Visibilidad:',Visibilidad)\n",
        "print('Visibilidad Unidad:',Visibilidad_Unidad)\n",
        "print('\\n')\n",
        "\n",
        "#Presion\n",
        "Presion = buscar_elemento(soup, 'span', 'numeros_presion_grafico_barometro')\n",
        "Unidad_Presion = buscar_elemento(soup, 'span', 'unidades_presion_grafico_barometro')\n",
        "\n",
        "print('Presion:',Presion)\n",
        "print('Unidad Presion:',Unidad_Presion)\n",
        "print('\\n')\n",
        "\n",
        "## Presión en la actividad pesquera\n",
        "\n",
        "# Obtener el color de fondo\n",
        "ascenso_elemento = buscar_elemento_v(soup, 'div', 'leyenda_influencia_grafico_barometro_ascenso')\n",
        "estable_elemento = buscar_elemento_v(soup, 'div', 'leyenda_influencia_grafico_barometro_estable')\n",
        "descenso_elemento = buscar_elemento_v(soup, 'div', 'leyenda_influencia_grafico_barometro_descenso')\n",
        "\n",
        "# Obtener el color de fondo\n",
        "ascenso_color = ascenso_elemento['style'].split(':')[1].strip()\n",
        "estable_color = estable_elemento['style'].split(':')[1].strip()\n",
        "descenso_color = descenso_elemento['style'].split(':')[1].strip()\n",
        "\n",
        "Color_Presion_Actividad_Pesca=encontrar_activa_v2(ascenso_color,estable_color,descenso_color)     \n",
        "Presion_Actividad_Pesca=obtener_estado(Color_Presion_Actividad_Pesca, ascenso_color, estable_color, descenso_color)\n",
        "Mensaje_Presion_Actividad_Pesca = obtener_mensaje(Color_Presion_Actividad_Pesca, ascenso_color, estable_color, descenso_color)\n",
        "Estado_activo_pesca=obtener_estado_activo_pesca(soup)\n",
        "\n",
        "print('Color Actividad Pesca:',Color_Presion_Actividad_Pesca)\n",
        "print('Presion Actividad Pesca:',Presion_Actividad_Pesca)\n",
        "print('Mensaje Presion Actividad Pesca:',Mensaje_Presion_Actividad_Pesca)\n",
        "print('Estado activo pesca:',Estado_activo_pesca)\n",
        "\n",
        "print('\\n')\n"
      ],
      "metadata": {
        "colab": {
          "base_uri": "https://localhost:8080/"
        },
        "id": "WDlnxjvZYQhq",
        "outputId": "0f3a6861-c06c-4a02-d6c6-cb76020f8a3a"
      },
      "execution_count": 11,
      "outputs": [
        {
          "output_type": "stream",
          "name": "stdout",
          "text": [
            "Viento: 24\n",
            "Unidades de viento: km/h\n",
            "Procedencia_Viento: 32 km/h\n",
            "\n",
            "\n",
            "Temperatura: 13\n",
            "Unidad de Temperatura: °C\n",
            "Temperatura Max: 14\n",
            "Unidad de Temperatura Max: °C\n",
            "Temperatura Min: 7\n",
            "Unidad de Temperatura Min: °C\n",
            "Temperatura Sensacion: 12\n",
            "Unidad de Temperatura Sensacion: °C\n",
            "\n",
            "\n",
            "Humedad: 70\n",
            "Unidad Humedad: %\n",
            "Punto de Rocio: 8\n",
            "Unidad Punto de Rocio: °C\n",
            "\n",
            "\n",
            "Visibilidad: 15\n",
            "Visibilidad Unidad: km/h\n",
            "\n",
            "\n",
            "Presion: 1003\n",
            "Unidad Presion: hPa\n",
            "\n",
            "\n",
            "Color Actividad Pesca: descenso_color\n",
            "Presion Actividad Pesca: en descenso\n",
            "Mensaje Presion Actividad Pesca: Buena pesca al principio, pero pronto dejarán de alimentarse\n",
            "Estado activo pesca: Estado pesca actual no encontrado\n",
            "\n",
            "\n"
          ]
        }
      ]
    },
    {
      "cell_type": "markdown",
      "source": [
        "## TABLAS MAREAS"
      ],
      "metadata": {
        "id": "yIS-zCG_YWK-"
      }
    },
    {
      "cell_type": "code",
      "source": [
        "def tabla_zona_costa_captura_datos(soup, id_fila):\n",
        "    tabla = soup.find('div', id=f'tabla_datos_tiempo_datos_datos_cuadro_pie_{id_fila}')\n",
        "    numero_lluvia = None\n",
        "    cantidad_lluvia = None\n",
        "    \n",
        "    if tabla is not None:\n",
        "        numero_lluvia_element = tabla.find('span', class_='tabla_datos_tiempo_datos_datos_cuadro_pie_color_lila')\n",
        "        cantidad_lluvia_element = tabla.find('span', class_='tabla_datos_tiempo_datos_datos_cuadro_pie_color_celeste')\n",
        "        \n",
        "        if numero_lluvia_element is not None:\n",
        "            numero_lluvia = numero_lluvia_element.text\n",
        "        \n",
        "        if cantidad_lluvia_element is not None:\n",
        "            cantidad_lluvia = cantidad_lluvia_element.text\n",
        "\n",
        "    return numero_lluvia, cantidad_lluvia"
      ],
      "metadata": {
        "id": "IFSLNHm0YfmY"
      },
      "execution_count": 12,
      "outputs": []
    },
    {
      "cell_type": "code",
      "source": [
        "def tabla_zona_api_marine(soup1, id_fila):\n",
        "  # Buscar el elemento padre por su ID\n",
        "  etiqueta_padre_marine = soup.find('div', id='selector_api')\n",
        "\n",
        "  # Activar estado de zona de costa\n",
        "  etiqueta_zona_costa_marine = etiqueta_padre_marine.find('div', id='selector_api_marine')\n",
        "\n",
        "  # Asignar el nuevo valor al atributo onclick\n",
        "  etiqueta_zona_costa_marine['onclick'] = \"CambiarAPI('marine', 1);\"\n",
        "\n",
        "  # Obtener el contenido principal de zona costera\n",
        "  contenido_zona_costa_marine = etiqueta_zona_costa_marine.find('div', class_='selector_api_texto').text\n",
        "\n",
        "  # Imprimir el resultado\n",
        "  print(contenido_zona_costa_marine)\n",
        "\n",
        "  contenedor_principal = soup1.find('div', id='tabla_datos_tiempo_datos')\n",
        "  fila_datos = contenedor_principal.find('div', id=f'tabla_datos_tiempo_datos_{id_fila}')\n",
        "  tiempo = fila_datos.find('div', class_='tabla_datos_tiempo_datos_tiempo').text\n",
        "  datos_tiempo = fila_datos.find('div', class_='tabla_datos_tiempo_datos_datos')\n",
        "  cuadros = datos_tiempo.find_all('div', class_='tabla_datos_tiempo_datos_datos_cuadro')\n",
        "  resultados = []\n",
        "\n",
        "  humedad_encontrada = False  # Variable para verificar si se ha encontrado una entrada de humedad válida\n",
        "\n",
        "  for cuadro in cuadros:\n",
        "      titulo_element = cuadro.find('div', class_='tabla_datos_tiempo_datos_datos_cuadro_titulo')\n",
        "      numero_element = cuadro.find('div', class_='tabla_datos_tiempo_datos_datos_cuadro_num')\n",
        "      unidades_element = cuadro.find('span', class_='tabla_datos_tiempo_datos_datos_cuadro_num_unidades')\n",
        "\n",
        "      titulo = titulo_element.text if titulo_element else ''\n",
        "      numero = numero_element.text if numero_element else ''\n",
        "      unidades = unidades_element.text if unidades_element else ''\n",
        "\n",
        "      # Omitir los resultados con título vacío\n",
        "      if not titulo:\n",
        "          continue\n",
        "\n",
        "      # Solución para capturar el valor de temperatura correctamente\n",
        "      if titulo == 'Temp.':\n",
        "          numero_element = cuadro.find('span', class_='tabla_datos_tiempo_datos_datos_cuadro_num_grande_color')\n",
        "          numero = numero_element.text if numero_element else ''\n",
        "\n",
        "      # Solución para capturar el valor de viento correctamente\n",
        "      if titulo == 'Viento':\n",
        "          viento_valor_element = cuadro.find('div', class_='tabla_datos_tiempo_datos_datos_cuadro_flecha_numero')\n",
        "          viento_valor = viento_valor_element.text if viento_valor_element else ''\n",
        "          resultado = {\n",
        "              'titulo': titulo,\n",
        "              'numero': viento_valor,\n",
        "              'unidades': ''\n",
        "          }\n",
        "          resultados.append(resultado)\n",
        "          continue\n",
        "\n",
        "      resultado = {\n",
        "          'titulo': titulo,\n",
        "          'numero': numero,\n",
        "          'unidades': unidades\n",
        "      }\n",
        "      \n",
        "      if titulo == 'Humedad' and not humedad_encontrada:\n",
        "          humedad_numero_element = cuadro.find('div', class_='tabla_datos_tiempo_datos_datos_cuadro_num_grande')\n",
        "          humedad_numero = humedad_numero_element.find('span', class_='tabla_datos_tiempo_datos_datos_cuadro_num_numero').text\n",
        "          humedad_unidades_element = cuadro.find('span', class_='tabla_datos_tiempo_datos_datos_cuadro_num_unidades')\n",
        "          humedad_unidades = humedad_unidades_element.text if humedad_unidades_element else ''\n",
        "          if humedad_numero and humedad_unidades:\n",
        "              resultado_humedad = {\n",
        "                  'titulo': titulo,\n",
        "                  'numero': humedad_numero,\n",
        "                  'unidades': humedad_unidades\n",
        "              }\n",
        "              resultados.append(resultado_humedad)\n",
        "              humedad_encontrada = True  # Marcar la humedad como encontrada\n",
        "      else:\n",
        "          resultados.append(resultado)\n",
        "\n",
        "  presion_influencia_element = contenedor_principal.find('div', class_='tabla_datos_tiempo_datos_datos_presion_influencia')\n",
        "  if presion_influencia_element is not None:\n",
        "      presion_influencia = presion_influencia_element.text.strip()\n",
        "      resultados.append({'Presión Influencia': presion_influencia})\n",
        "\n",
        "  presion_estado_element = contenedor_principal.find('div', class_='tabla_datos_tiempo_datos_datos_presion_estado')\n",
        "  if presion_estado_element is not None:\n",
        "      presion_estado = presion_estado_element.text.strip()\n",
        "      resultados.append({'Presión Estado': presion_estado})\n",
        "\n",
        "  sensacion_element = contenedor_principal.find('div', class_='tabla_datos_tiempo_datos_datos_cuadro_subtitulo')\n",
        "  if sensacion_element is not None:\n",
        "      sensacion_valor_element = sensacion_element.find_next_sibling('div', class_='tabla_datos_tiempo_datos_datos_cuadro_num_chico')\n",
        "      if sensacion_valor_element is not None:\n",
        "          sensacion_valor = sensacion_valor_element.text.strip()\n",
        "          resultados.append({'Sensación': sensacion_valor})\n",
        "\n",
        "  punto_rocio_element = contenedor_principal.find('div', class_='tabla_datos_tiempo_datos_datos_cuadro_subtitulo', string='punto rocío')\n",
        "  if punto_rocio_element is not None:\n",
        "      punto_rocio_valor_element = punto_rocio_element.find_next_sibling('div', class_='tabla_datos_tiempo_datos_datos_cuadro_num_chico')\n",
        "      if punto_rocio_valor_element is not None:\n",
        "          punto_rocio_valor = punto_rocio_valor_element.text.strip()\n",
        "          resultados.append({'Punto Rocío': punto_rocio_valor})\n",
        "\n",
        "  viento_element = contenedor_principal.find('div', class_='tabla_datos_tiempo_datos_datos_cuadro_num_grande', title='Velocidad del viento (km/h)\\ny procedencia del viento')\n",
        "  if viento_element is not None:\n",
        "      viento_valor_element = viento_element.find_next_sibling('div', class_='tabla_datos_tiempo_datos_datos_cuadro_flecha_numero')\n",
        "      if viento_valor_element is not None:\n",
        "          viento_valor = viento_valor_element.text.strip()\n",
        "          resultados.append({'Viento': viento_valor})\n",
        "\n",
        "  direccion_element = contenedor_principal.find('div', class_='tabla_datos_tiempo_datos_datos_cuadro_num_direccion')\n",
        "  if direccion_element is not None:\n",
        "      direccion_texto = direccion_element.text.strip()\n",
        "      viento_resultado = next((r for r in resultados if r['titulo'] == 'Viento'), None)\n",
        "      if viento_resultado:\n",
        "          viento_resultado['unidades'] = direccion_texto\n",
        "\n",
        "  resultados = [r for r in resultados if r.get('titulo') != 'Humidity']\n",
        "  \n",
        "  hora_element = fila_datos.find('div', class_='tabla_datos_tiempo_datos_tiempo_hora')\n",
        "  numero_hora = hora_element.find('span', class_='tabla_datos_tiempo_datos_tiempo_hora_num').text\n",
        "  letra_hora = hora_element.text.strip()[-1]\n",
        "  \n",
        "  numero_lluvia, cantidad_lluvia = tabla_zona_costa_captura_datos(soup, id_fila)\n",
        "  \n",
        "  resultados.append({'Hora': f'{numero_hora} {letra_hora}'})\n",
        "  resultados.append({'Probabilidad de lluvia': numero_lluvia})\n",
        "  resultados.append({'Cantidad de agua': cantidad_lluvia})\n",
        "  \n",
        "  return resultados"
      ],
      "metadata": {
        "id": "BbS_rnyxYlq0"
      },
      "execution_count": 13,
      "outputs": []
    },
    {
      "cell_type": "code",
      "source": [
        "def tabla_zona_api_weather(soup, id_fila):\n",
        "# Buscar el elemento padre por su ID\n",
        "  etiqueta_padre_marine = soup.find('div', id='selector_api')\n",
        "\n",
        "  # Activar estado de zona de costa\n",
        "  etiqueta_zona_costa_marine = etiqueta_padre_marine.find('div', id='selector_api_weather')\n",
        "\n",
        "  # Asignar el nuevo valor al atributo onclick\n",
        "  etiqueta_zona_costa_marine['onclick'] = \"CambiarAPI('weather', 1);\"\n",
        "\n",
        "  # Obtener el contenido principal de zona costera\n",
        "  contenido_zona_costa_marine = etiqueta_zona_costa_marine.find('div', class_='selector_api_texto').text\n",
        "\n",
        "  # Imprimir el resultado\n",
        "  print(contenido_zona_costa_marine)\n",
        "\n",
        "  contenedor_principal = soup.find('div', id='tabla_datos_tiempo_datos')\n",
        "  fila_datos = contenedor_principal.find('div', id=f'tabla_datos_tiempo_datos_{id_fila}')\n",
        "  tiempo = fila_datos.find('div', class_='tabla_datos_tiempo_datos_tiempo').text\n",
        "  datos_tiempo = fila_datos.find('div', class_='tabla_datos_tiempo_datos_datos')\n",
        "  cuadros = datos_tiempo.find_all('div', class_='tabla_datos_tiempo_datos_datos_cuadro')\n",
        "  resultados = []\n",
        "\n",
        "  humedad_encontrada = False  # Variable para verificar si se ha encontrado una entrada de humedad válida\n",
        "\n",
        "  for cuadro in cuadros:\n",
        "      titulo_element = cuadro.find('div', class_='tabla_datos_tiempo_datos_datos_cuadro_titulo')\n",
        "      numero_element = cuadro.find('div', class_='tabla_datos_tiempo_datos_datos_cuadro_num')\n",
        "      unidades_element = cuadro.find('span', class_='tabla_datos_tiempo_datos_datos_cuadro_num_unidades')\n",
        "\n",
        "      titulo = titulo_element.text if titulo_element else ''\n",
        "      numero = numero_element.text if numero_element else ''\n",
        "      unidades = unidades_element.text if unidades_element else ''\n",
        "\n",
        "      # Omitir los resultados con título vacío\n",
        "      if not titulo:\n",
        "          continue\n",
        "\n",
        "      # Solución para capturar el valor de temperatura correctamente\n",
        "      if titulo == 'Temp.':\n",
        "          numero_element = cuadro.find('span', class_='tabla_datos_tiempo_datos_datos_cuadro_num_grande_color')\n",
        "          numero = numero_element.text if numero_element else ''\n",
        "\n",
        "      # Solución para capturar el valor de viento correctamente\n",
        "      if titulo == 'Viento':\n",
        "          viento_valor_element = cuadro.find('div', class_='tabla_datos_tiempo_datos_datos_cuadro_flecha_numero')\n",
        "          viento_valor = viento_valor_element.text if viento_valor_element else ''\n",
        "          resultado = {\n",
        "              'titulo': titulo,\n",
        "              'numero': viento_valor,\n",
        "              'unidades': ''\n",
        "          }\n",
        "          resultados.append(resultado)\n",
        "          continue\n",
        "\n",
        "      resultado = {\n",
        "          'titulo': titulo,\n",
        "          'numero': numero,\n",
        "          'unidades': unidades\n",
        "      }\n",
        "      \n",
        "      if titulo == 'Humedad' and not humedad_encontrada:\n",
        "          humedad_numero_element = cuadro.find('div', class_='tabla_datos_tiempo_datos_datos_cuadro_num_grande')\n",
        "          humedad_numero = humedad_numero_element.find('span', class_='tabla_datos_tiempo_datos_datos_cuadro_num_numero').text\n",
        "          humedad_unidades_element = cuadro.find('span', class_='tabla_datos_tiempo_datos_datos_cuadro_num_unidades')\n",
        "          humedad_unidades = humedad_unidades_element.text if humedad_unidades_element else ''\n",
        "          if humedad_numero and humedad_unidades:\n",
        "              resultado_humedad = {\n",
        "                  'titulo': titulo,\n",
        "                  'numero': humedad_numero,\n",
        "                  'unidades': humedad_unidades\n",
        "              }\n",
        "              resultados.append(resultado_humedad)\n",
        "              humedad_encontrada = True  # Marcar la humedad como encontrada\n",
        "      else:\n",
        "          resultados.append(resultado)\n",
        "\n",
        "  presion_influencia_element = contenedor_principal.find('div', class_='tabla_datos_tiempo_datos_datos_presion_influencia')\n",
        "  if presion_influencia_element is not None:\n",
        "      presion_influencia = presion_influencia_element.text.strip()\n",
        "      resultados.append({'Presión Influencia': presion_influencia})\n",
        "\n",
        "  presion_estado_element = contenedor_principal.find('div', class_='tabla_datos_tiempo_datos_datos_presion_estado')\n",
        "  if presion_estado_element is not None:\n",
        "      presion_estado = presion_estado_element.text.strip()\n",
        "      resultados.append({'Presión Estado': presion_estado})\n",
        "\n",
        "  sensacion_element = contenedor_principal.find('div', class_='tabla_datos_tiempo_datos_datos_cuadro_subtitulo')\n",
        "  if sensacion_element is not None:\n",
        "      sensacion_valor_element = sensacion_element.find_next_sibling('div', class_='tabla_datos_tiempo_datos_datos_cuadro_num_chico')\n",
        "      if sensacion_valor_element is not None:\n",
        "          sensacion_valor = sensacion_valor_element.text.strip()\n",
        "          resultados.append({'Sensación': sensacion_valor})\n",
        "\n",
        "  punto_rocio_element = contenedor_principal.find('div', class_='tabla_datos_tiempo_datos_datos_cuadro_subtitulo', string='punto rocío')\n",
        "  if punto_rocio_element is not None:\n",
        "      punto_rocio_valor_element = punto_rocio_element.find_next_sibling('div', class_='tabla_datos_tiempo_datos_datos_cuadro_num_chico')\n",
        "      if punto_rocio_valor_element is not None:\n",
        "          punto_rocio_valor = punto_rocio_valor_element.text.strip()\n",
        "          resultados.append({'Punto Rocío': punto_rocio_valor})\n",
        "\n",
        "  viento_element = contenedor_principal.find('div', class_='tabla_datos_tiempo_datos_datos_cuadro_num_grande', title='Velocidad del viento (km/h)\\ny procedencia del viento')\n",
        "  if viento_element is not None:\n",
        "      viento_valor_element = viento_element.find_next_sibling('div', class_='tabla_datos_tiempo_datos_datos_cuadro_flecha_numero')\n",
        "      if viento_valor_element is not None:\n",
        "          viento_valor = viento_valor_element.text.strip()\n",
        "          resultados.append({'Viento': viento_valor})\n",
        "\n",
        "  direccion_element = contenedor_principal.find('div', class_='tabla_datos_tiempo_datos_datos_cuadro_num_direccion')\n",
        "  if direccion_element is not None:\n",
        "      direccion_texto = direccion_element.text.strip()\n",
        "      viento_resultado = next((r for r in resultados if r['titulo'] == 'Viento'), None)\n",
        "      if viento_resultado:\n",
        "          viento_resultado['unidades'] = direccion_texto\n",
        "\n",
        "  resultados = [r for r in resultados if r.get('titulo') != 'Humidity']\n",
        "  \n",
        "  hora_element = fila_datos.find('div', class_='tabla_datos_tiempo_datos_tiempo_hora')\n",
        "  numero_hora = hora_element.find('span', class_='tabla_datos_tiempo_datos_tiempo_hora_num').text\n",
        "  letra_hora = hora_element.text.strip()[-1]\n",
        "  \n",
        "  numero_lluvia, cantidad_lluvia = tabla_zona_costa_captura_datos(soup, id_fila)\n",
        "  \n",
        "  resultados.append({'Hora': f'{numero_hora} {letra_hora}'})\n",
        "  resultados.append({'Probabilidad de lluvia': numero_lluvia})\n",
        "  resultados.append({'Cantidad de agua': cantidad_lluvia})\n",
        "  \n",
        "  return resultados"
      ],
      "metadata": {
        "id": "OwvU5pUoYqVb"
      },
      "execution_count": 14,
      "outputs": []
    },
    {
      "cell_type": "code",
      "source": [
        "def imprimir_tablas(soup):\n",
        "  for id_fila in range(24):\n",
        "    if (soup is globals().get('soup')):\n",
        "      resultados = tabla_zona_api_weather(soup, id_fila)\n",
        "      print(resultados)\n",
        "    elif (soup is globals().get('soup1')):\n",
        "      resultados = tabla_zona_api_marine(soup, id_fila)\n",
        "      print(resultados)"
      ],
      "metadata": {
        "id": "4SDPeqGkYtrf"
      },
      "execution_count": 15,
      "outputs": []
    },
    {
      "cell_type": "code",
      "source": [
        "imprimir_tablas(soup)"
      ],
      "metadata": {
        "colab": {
          "base_uri": "https://localhost:8080/"
        },
        "id": "__OuPEjqZfmx",
        "outputId": "052778d1-552d-4f55-f2b3-d4f41fe871e3"
      },
      "execution_count": 16,
      "outputs": [
        {
          "output_type": "stream",
          "name": "stdout",
          "text": [
            "\n",
            " Previsión en zona costera \n",
            " COSTA DE PUERTO MONTT \n",
            "\n",
            "[{'titulo': 'Presión', 'numero': '1017', 'unidades': ''}, {'titulo': 'Temp.', 'numero': '8°', 'unidades': ' °C'}, {'titulo': 'Humedad', 'numero': '93', 'unidades': ' %'}, {'titulo': 'Viento', 'numero': '8', 'unidades': 'NNE'}, {'Presión Influencia': 'en descenso'}, {'Presión Estado': 'Muy bueno'}, {'Sensación': '6 °C'}, {'Punto Rocío': '7 °C'}, {'Hora': '0 h'}, {'Probabilidad de lluvia': None}, {'Cantidad de agua': None}]\n",
            "\n",
            " Previsión en zona costera \n",
            " COSTA DE PUERTO MONTT \n",
            "\n",
            "[{'titulo': 'Presión', 'numero': '1016', 'unidades': ''}, {'titulo': 'Temp.', 'numero': '8°', 'unidades': ' °C'}, {'titulo': 'Humedad', 'numero': '93', 'unidades': ' %'}, {'titulo': 'Viento', 'numero': '8', 'unidades': 'NNE'}, {'Presión Influencia': 'en descenso'}, {'Presión Estado': 'Muy bueno'}, {'Sensación': '6 °C'}, {'Punto Rocío': '7 °C'}, {'Hora': '1 h'}, {'Probabilidad de lluvia': None}, {'Cantidad de agua': None}]\n",
            "\n",
            " Previsión en zona costera \n",
            " COSTA DE PUERTO MONTT \n",
            "\n",
            "[{'titulo': 'Presión', 'numero': '1015', 'unidades': ''}, {'titulo': 'Temp.', 'numero': '7°', 'unidades': ' °C'}, {'titulo': 'Humedad', 'numero': '92', 'unidades': ' %'}, {'titulo': 'Viento', 'numero': '8', 'unidades': 'NNE'}, {'Presión Influencia': 'en descenso'}, {'Presión Estado': 'Muy bueno'}, {'Sensación': '6 °C'}, {'Punto Rocío': '7 °C'}, {'Hora': '2 h'}, {'Probabilidad de lluvia': None}, {'Cantidad de agua': None}]\n",
            "\n",
            " Previsión en zona costera \n",
            " COSTA DE PUERTO MONTT \n",
            "\n",
            "[{'titulo': 'Presión', 'numero': '1014', 'unidades': ''}, {'titulo': 'Temp.', 'numero': '7°', 'unidades': ' °C'}, {'titulo': 'Humedad', 'numero': '92', 'unidades': ' %'}, {'titulo': 'Viento', 'numero': '6', 'unidades': 'NNE'}, {'Presión Influencia': 'en descenso'}, {'Presión Estado': 'Muy bueno'}, {'Sensación': '6 °C'}, {'Punto Rocío': '7 °C'}, {'Hora': '3 h'}, {'Probabilidad de lluvia': None}, {'Cantidad de agua': None}]\n",
            "\n",
            " Previsión en zona costera \n",
            " COSTA DE PUERTO MONTT \n",
            "\n",
            "[{'titulo': 'Presión', 'numero': '1013', 'unidades': ''}, {'titulo': 'Temp.', 'numero': '8°', 'unidades': ' °C'}, {'titulo': 'Humedad', 'numero': '91', 'unidades': ' %'}, {'titulo': 'Viento', 'numero': '6', 'unidades': 'NNE'}, {'Presión Influencia': 'en descenso'}, {'Presión Estado': 'Muy bueno'}, {'Sensación': '6 °C'}, {'Punto Rocío': '7 °C'}, {'Hora': '4 h'}, {'Probabilidad de lluvia': None}, {'Cantidad de agua': None}]\n",
            "\n",
            " Previsión en zona costera \n",
            " COSTA DE PUERTO MONTT \n",
            "\n",
            "[{'titulo': 'Presión', 'numero': '1011', 'unidades': ''}, {'titulo': 'Temp.', 'numero': '8°', 'unidades': ' °C'}, {'titulo': 'Humedad', 'numero': '90', 'unidades': ' %'}, {'titulo': 'Viento', 'numero': '6', 'unidades': 'NNE'}, {'Presión Influencia': 'en descenso'}, {'Presión Estado': 'Muy bueno'}, {'Sensación': '6 °C'}, {'Punto Rocío': '7 °C'}, {'Hora': '5 h'}, {'Probabilidad de lluvia': None}, {'Cantidad de agua': None}]\n",
            "\n",
            " Previsión en zona costera \n",
            " COSTA DE PUERTO MONTT \n",
            "\n",
            "[{'titulo': 'Presión', 'numero': '1010', 'unidades': ''}, {'titulo': 'Temp.', 'numero': '7°', 'unidades': ' °C'}, {'titulo': 'Humedad', 'numero': '89', 'unidades': ' %'}, {'titulo': 'Viento', 'numero': '6', 'unidades': 'NNE'}, {'Presión Influencia': 'en descenso'}, {'Presión Estado': 'Muy bueno'}, {'Sensación': '6 °C'}, {'Punto Rocío': '7 °C'}, {'Hora': '6 h'}, {'Probabilidad de lluvia': None}, {'Cantidad de agua': None}]\n",
            "\n",
            " Previsión en zona costera \n",
            " COSTA DE PUERTO MONTT \n",
            "\n",
            "[{'titulo': 'Presión', 'numero': '1009', 'unidades': ''}, {'titulo': 'Temp.', 'numero': '7°', 'unidades': ' °C'}, {'titulo': 'Humedad', 'numero': '89', 'unidades': ' %'}, {'titulo': 'Viento', 'numero': '6', 'unidades': 'NNE'}, {'Presión Influencia': 'en descenso'}, {'Presión Estado': 'Muy bueno'}, {'Sensación': '6 °C'}, {'Punto Rocío': '7 °C'}, {'Hora': '7 h'}, {'Probabilidad de lluvia': None}, {'Cantidad de agua': None}]\n",
            "\n",
            " Previsión en zona costera \n",
            " COSTA DE PUERTO MONTT \n",
            "\n",
            "[{'titulo': 'Presión', 'numero': '1008', 'unidades': ''}, {'titulo': 'Temp.', 'numero': '7°', 'unidades': ' °C'}, {'titulo': 'Humedad', 'numero': '89', 'unidades': ' %'}, {'titulo': 'Viento', 'numero': '8', 'unidades': 'NNE'}, {'Presión Influencia': 'en descenso'}, {'Presión Estado': 'Muy bueno'}, {'Sensación': '6 °C'}, {'Punto Rocío': '7 °C'}, {'Hora': '8 h'}, {'Probabilidad de lluvia': None}, {'Cantidad de agua': None}]\n",
            "\n",
            " Previsión en zona costera \n",
            " COSTA DE PUERTO MONTT \n",
            "\n",
            "[{'titulo': 'Presión', 'numero': '1007', 'unidades': ''}, {'titulo': 'Temp.', 'numero': '8°', 'unidades': ' °C'}, {'titulo': 'Humedad', 'numero': '86', 'unidades': ' %'}, {'titulo': 'Viento', 'numero': '10', 'unidades': 'NNE'}, {'Presión Influencia': 'en descenso'}, {'Presión Estado': 'Muy bueno'}, {'Sensación': '6 °C'}, {'Punto Rocío': '7 °C'}, {'Hora': '9 h'}, {'Probabilidad de lluvia': None}, {'Cantidad de agua': None}]\n",
            "\n",
            " Previsión en zona costera \n",
            " COSTA DE PUERTO MONTT \n",
            "\n",
            "[{'titulo': 'Presión', 'numero': '1006', 'unidades': ''}, {'titulo': 'Temp.', 'numero': '9°', 'unidades': ' °C'}, {'titulo': 'Humedad', 'numero': '84', 'unidades': ' %'}, {'titulo': 'Viento', 'numero': '11', 'unidades': 'NNE'}, {'Presión Influencia': 'en descenso'}, {'Presión Estado': 'Muy bueno'}, {'Sensación': '6 °C'}, {'Punto Rocío': '7 °C'}, {'Hora': '10 h'}, {'Probabilidad de lluvia': None}, {'Cantidad de agua': None}]\n",
            "\n",
            " Previsión en zona costera \n",
            " COSTA DE PUERTO MONTT \n",
            "\n",
            "[{'titulo': 'Presión', 'numero': '1006', 'unidades': ''}, {'titulo': 'Temp.', 'numero': '10°', 'unidades': ' °C'}, {'titulo': 'Humedad', 'numero': '80', 'unidades': ' %'}, {'titulo': 'Viento', 'numero': '14', 'unidades': 'NNE'}, {'Presión Influencia': 'en descenso'}, {'Presión Estado': 'Muy bueno'}, {'Sensación': '6 °C'}, {'Punto Rocío': '7 °C'}, {'Hora': '11 h'}, {'Probabilidad de lluvia': None}, {'Cantidad de agua': None}]\n",
            "\n",
            " Previsión en zona costera \n",
            " COSTA DE PUERTO MONTT \n",
            "\n",
            "[{'titulo': 'Presión', 'numero': '1005', 'unidades': ''}, {'titulo': 'Temp.', 'numero': '12°', 'unidades': ' °C'}, {'titulo': 'Humedad', 'numero': '76', 'unidades': ' %'}, {'titulo': 'Viento', 'numero': '18', 'unidades': 'NNE'}, {'Presión Influencia': 'en descenso'}, {'Presión Estado': 'Muy bueno'}, {'Sensación': '6 °C'}, {'Punto Rocío': '7 °C'}, {'Hora': '12 h'}, {'Probabilidad de lluvia': None}, {'Cantidad de agua': None}]\n",
            "\n",
            " Previsión en zona costera \n",
            " COSTA DE PUERTO MONTT \n",
            "\n",
            "[{'titulo': 'Presión', 'numero': '1004', 'unidades': ''}, {'titulo': 'Temp.', 'numero': '13°', 'unidades': ' °C'}, {'titulo': 'Humedad', 'numero': '72', 'unidades': ' %'}, {'titulo': 'Viento', 'numero': '21', 'unidades': 'NNE'}, {'Presión Influencia': 'en descenso'}, {'Presión Estado': 'Muy bueno'}, {'Sensación': '6 °C'}, {'Punto Rocío': '7 °C'}, {'Hora': '13 h'}, {'Probabilidad de lluvia': None}, {'Cantidad de agua': None}]\n",
            "\n",
            " Previsión en zona costera \n",
            " COSTA DE PUERTO MONTT \n",
            "\n",
            "[{'titulo': 'Presión', 'numero': '1003', 'unidades': ''}, {'titulo': 'Temp.', 'numero': '13°', 'unidades': ' °C'}, {'titulo': 'Humedad', 'numero': '70', 'unidades': ' %'}, {'titulo': 'Viento', 'numero': '24', 'unidades': 'NNE'}, {'Presión Influencia': 'en descenso'}, {'Presión Estado': 'Muy bueno'}, {'Sensación': '6 °C'}, {'Punto Rocío': '7 °C'}, {'Hora': '14 h'}, {'Probabilidad de lluvia': None}, {'Cantidad de agua': None}]\n",
            "\n",
            " Previsión en zona costera \n",
            " COSTA DE PUERTO MONTT \n",
            "\n",
            "[{'titulo': 'Presión', 'numero': '1002', 'unidades': ''}, {'titulo': 'Temp.', 'numero': '14°', 'unidades': ' °C'}, {'titulo': 'Humedad', 'numero': '70', 'unidades': ' %'}, {'titulo': 'Viento', 'numero': '29', 'unidades': 'NNE'}, {'Presión Influencia': 'en descenso'}, {'Presión Estado': 'Muy bueno'}, {'Sensación': '6 °C'}, {'Punto Rocío': '7 °C'}, {'Hora': '15 h'}, {'Probabilidad de lluvia': None}, {'Cantidad de agua': None}]\n",
            "\n",
            " Previsión en zona costera \n",
            " COSTA DE PUERTO MONTT \n",
            "\n",
            "[{'titulo': 'Presión', 'numero': '1000', 'unidades': ''}, {'titulo': 'Temp.', 'numero': '13°', 'unidades': ' °C'}, {'titulo': 'Humedad', 'numero': '76', 'unidades': ' %'}, {'titulo': 'Viento', 'numero': '32', 'unidades': 'NNE'}, {'Presión Influencia': 'en descenso'}, {'Presión Estado': 'Muy bueno'}, {'Sensación': '6 °C'}, {'Punto Rocío': '7 °C'}, {'Hora': '16 h'}, {'Probabilidad de lluvia': None}, {'Cantidad de agua': None}]\n",
            "\n",
            " Previsión en zona costera \n",
            " COSTA DE PUERTO MONTT \n",
            "\n",
            "[{'titulo': 'Presión', 'numero': '998', 'unidades': ''}, {'titulo': 'Temp.', 'numero': '12°', 'unidades': ' °C'}, {'titulo': 'Humedad', 'numero': '84', 'unidades': ' %'}, {'titulo': 'Viento', 'numero': '31', 'unidades': 'NNE'}, {'Presión Influencia': 'en descenso'}, {'Presión Estado': 'Muy bueno'}, {'Sensación': '6 °C'}, {'Punto Rocío': '7 °C'}, {'Hora': '17 h'}, {'Probabilidad de lluvia': '61% '}, {'Cantidad de agua': '1.4'}]\n",
            "\n",
            " Previsión en zona costera \n",
            " COSTA DE PUERTO MONTT \n",
            "\n",
            "[{'titulo': 'Presión', 'numero': '998', 'unidades': ''}, {'titulo': 'Temp.', 'numero': '12°', 'unidades': ' °C'}, {'titulo': 'Humedad', 'numero': '90', 'unidades': ' %'}, {'titulo': 'Viento', 'numero': '32', 'unidades': 'NNE'}, {'Presión Influencia': 'en descenso'}, {'Presión Estado': 'Muy bueno'}, {'Sensación': '6 °C'}, {'Punto Rocío': '7 °C'}, {'Hora': '18 h'}, {'Probabilidad de lluvia': None}, {'Cantidad de agua': None}]\n",
            "\n",
            " Previsión en zona costera \n",
            " COSTA DE PUERTO MONTT \n",
            "\n",
            "[{'titulo': 'Presión', 'numero': '1001', 'unidades': ''}, {'titulo': 'Temp.', 'numero': '12°', 'unidades': ' °C'}, {'titulo': 'Humedad', 'numero': '93', 'unidades': ' %'}, {'titulo': 'Viento', 'numero': '24', 'unidades': 'NNE'}, {'Presión Influencia': 'en descenso'}, {'Presión Estado': 'Muy bueno'}, {'Sensación': '6 °C'}, {'Punto Rocío': '7 °C'}, {'Hora': '19 h'}, {'Probabilidad de lluvia': '78% '}, {'Cantidad de agua': '2.3'}]\n",
            "\n",
            " Previsión en zona costera \n",
            " COSTA DE PUERTO MONTT \n",
            "\n",
            "[{'titulo': 'Presión', 'numero': '1002', 'unidades': ''}, {'titulo': 'Temp.', 'numero': '11°', 'unidades': ' °C'}, {'titulo': 'Humedad', 'numero': '92', 'unidades': ' %'}, {'titulo': 'Viento', 'numero': '16', 'unidades': 'NNE'}, {'Presión Influencia': 'en descenso'}, {'Presión Estado': 'Muy bueno'}, {'Sensación': '6 °C'}, {'Punto Rocío': '7 °C'}, {'Hora': '20 h'}, {'Probabilidad de lluvia': None}, {'Cantidad de agua': None}]\n",
            "\n",
            " Previsión en zona costera \n",
            " COSTA DE PUERTO MONTT \n",
            "\n",
            "[{'titulo': 'Presión', 'numero': '1003', 'unidades': ''}, {'titulo': 'Temp.', 'numero': '11°', 'unidades': ' °C'}, {'titulo': 'Humedad', 'numero': '86', 'unidades': ' %'}, {'titulo': 'Viento', 'numero': '16', 'unidades': 'NNE'}, {'Presión Influencia': 'en descenso'}, {'Presión Estado': 'Muy bueno'}, {'Sensación': '6 °C'}, {'Punto Rocío': '7 °C'}, {'Hora': '21 h'}, {'Probabilidad de lluvia': '79% '}, {'Cantidad de agua': '0.8'}]\n",
            "\n",
            " Previsión en zona costera \n",
            " COSTA DE PUERTO MONTT \n",
            "\n",
            "[{'titulo': 'Presión', 'numero': '1004', 'unidades': ''}, {'titulo': 'Temp.', 'numero': '10°', 'unidades': ' °C'}, {'titulo': 'Humedad', 'numero': '87', 'unidades': ' %'}, {'titulo': 'Viento', 'numero': '18', 'unidades': 'NNE'}, {'Presión Influencia': 'en descenso'}, {'Presión Estado': 'Muy bueno'}, {'Sensación': '6 °C'}, {'Punto Rocío': '7 °C'}, {'Hora': '22 h'}, {'Probabilidad de lluvia': '72% '}, {'Cantidad de agua': '0.6'}]\n",
            "\n",
            " Previsión en zona costera \n",
            " COSTA DE PUERTO MONTT \n",
            "\n",
            "[{'titulo': 'Presión', 'numero': '1004', 'unidades': ''}, {'titulo': 'Temp.', 'numero': '9°', 'unidades': ' °C'}, {'titulo': 'Humedad', 'numero': '87', 'unidades': ' %'}, {'titulo': 'Viento', 'numero': '16', 'unidades': 'NNE'}, {'Presión Influencia': 'en descenso'}, {'Presión Estado': 'Muy bueno'}, {'Sensación': '6 °C'}, {'Punto Rocío': '7 °C'}, {'Hora': '23 h'}, {'Probabilidad de lluvia': '89% '}, {'Cantidad de agua': '1.7'}]\n"
          ]
        }
      ]
    },
    {
      "cell_type": "code",
      "source": [
        "imprimir_tablas(soup1)"
      ],
      "metadata": {
        "colab": {
          "base_uri": "https://localhost:8080/"
        },
        "id": "wHGkJTYxZhfP",
        "outputId": "2bfb8e3e-94ad-497d-c94f-154ef58b8c0b"
      },
      "execution_count": 17,
      "outputs": [
        {
          "output_type": "stream",
          "name": "stdout",
          "text": [
            "\n",
            " Previsión en aguas abiertas \n",
            " MAR EN PUERTO MONTT \n",
            "\n",
            "[{'titulo': 'Presión', 'numero': '1015', 'unidades': ''}, {'titulo': 'Temp.', 'numero': '10°', 'unidades': ' °C'}, {'titulo': 'Humedad', 'numero': '84', 'unidades': ' %'}, {'titulo': 'Viento', 'numero': '13', 'unidades': 'NNE'}, {'Presión Influencia': 'en descenso'}, {'Presión Estado': 'Muy bueno'}, {'Sensación': '8 °C'}, {'Punto Rocío': '8 °C'}, {'Hora': '0 h'}, {'Probabilidad de lluvia': None}, {'Cantidad de agua': None}]\n",
            "\n",
            " Previsión en aguas abiertas \n",
            " MAR EN PUERTO MONTT \n",
            "\n",
            "[{'titulo': 'Presión', 'numero': '1014', 'unidades': ''}, {'titulo': 'Temp.', 'numero': '10°', 'unidades': ' °C'}, {'titulo': 'Humedad', 'numero': '83', 'unidades': ' %'}, {'titulo': 'Viento', 'numero': '14', 'unidades': 'NNE'}, {'Presión Influencia': 'en descenso'}, {'Presión Estado': 'Muy bueno'}, {'Sensación': '8 °C'}, {'Punto Rocío': '8 °C'}, {'Hora': '1 h'}, {'Probabilidad de lluvia': None}, {'Cantidad de agua': None}]\n",
            "\n",
            " Previsión en aguas abiertas \n",
            " MAR EN PUERTO MONTT \n",
            "\n",
            "[{'titulo': 'Presión', 'numero': '1013', 'unidades': ''}, {'titulo': 'Temp.', 'numero': '10°', 'unidades': ' °C'}, {'titulo': 'Humedad', 'numero': '82', 'unidades': ' %'}, {'titulo': 'Viento', 'numero': '16', 'unidades': 'NNE'}, {'Presión Influencia': 'en descenso'}, {'Presión Estado': 'Muy bueno'}, {'Sensación': '8 °C'}, {'Punto Rocío': '8 °C'}, {'Hora': '2 h'}, {'Probabilidad de lluvia': None}, {'Cantidad de agua': None}]\n",
            "\n",
            " Previsión en aguas abiertas \n",
            " MAR EN PUERTO MONTT \n",
            "\n",
            "[{'titulo': 'Presión', 'numero': '1011', 'unidades': ''}, {'titulo': 'Temp.', 'numero': '10°', 'unidades': ' °C'}, {'titulo': 'Humedad', 'numero': '81', 'unidades': ' %'}, {'titulo': 'Viento', 'numero': '18', 'unidades': 'NNE'}, {'Presión Influencia': 'en descenso'}, {'Presión Estado': 'Muy bueno'}, {'Sensación': '8 °C'}, {'Punto Rocío': '8 °C'}, {'Hora': '3 h'}, {'Probabilidad de lluvia': None}, {'Cantidad de agua': None}]\n",
            "\n",
            " Previsión en aguas abiertas \n",
            " MAR EN PUERTO MONTT \n",
            "\n",
            "[{'titulo': 'Presión', 'numero': '1010', 'unidades': ''}, {'titulo': 'Temp.', 'numero': '10°', 'unidades': ' °C'}, {'titulo': 'Humedad', 'numero': '80', 'unidades': ' %'}, {'titulo': 'Viento', 'numero': '18', 'unidades': 'NNE'}, {'Presión Influencia': 'en descenso'}, {'Presión Estado': 'Muy bueno'}, {'Sensación': '8 °C'}, {'Punto Rocío': '8 °C'}, {'Hora': '4 h'}, {'Probabilidad de lluvia': None}, {'Cantidad de agua': None}]\n",
            "\n",
            " Previsión en aguas abiertas \n",
            " MAR EN PUERTO MONTT \n",
            "\n",
            "[{'titulo': 'Presión', 'numero': '1009', 'unidades': ''}, {'titulo': 'Temp.', 'numero': '10°', 'unidades': ' °C'}, {'titulo': 'Humedad', 'numero': '80', 'unidades': ' %'}, {'titulo': 'Viento', 'numero': '16', 'unidades': 'NNE'}, {'Presión Influencia': 'en descenso'}, {'Presión Estado': 'Muy bueno'}, {'Sensación': '8 °C'}, {'Punto Rocío': '8 °C'}, {'Hora': '5 h'}, {'Probabilidad de lluvia': None}, {'Cantidad de agua': None}]\n",
            "\n",
            " Previsión en aguas abiertas \n",
            " MAR EN PUERTO MONTT \n",
            "\n",
            "[{'titulo': 'Presión', 'numero': '1008', 'unidades': ''}, {'titulo': 'Temp.', 'numero': '10°', 'unidades': ' °C'}, {'titulo': 'Humedad', 'numero': '79', 'unidades': ' %'}, {'titulo': 'Viento', 'numero': '16', 'unidades': 'NNE'}, {'Presión Influencia': 'en descenso'}, {'Presión Estado': 'Muy bueno'}, {'Sensación': '8 °C'}, {'Punto Rocío': '8 °C'}, {'Hora': '6 h'}, {'Probabilidad de lluvia': None}, {'Cantidad de agua': None}]\n",
            "\n",
            " Previsión en aguas abiertas \n",
            " MAR EN PUERTO MONTT \n",
            "\n",
            "[{'titulo': 'Presión', 'numero': '1007', 'unidades': ''}, {'titulo': 'Temp.', 'numero': '10°', 'unidades': ' °C'}, {'titulo': 'Humedad', 'numero': '79', 'unidades': ' %'}, {'titulo': 'Viento', 'numero': '16', 'unidades': 'NNE'}, {'Presión Influencia': 'en descenso'}, {'Presión Estado': 'Muy bueno'}, {'Sensación': '8 °C'}, {'Punto Rocío': '8 °C'}, {'Hora': '7 h'}, {'Probabilidad de lluvia': None}, {'Cantidad de agua': None}]\n",
            "\n",
            " Previsión en aguas abiertas \n",
            " MAR EN PUERTO MONTT \n",
            "\n",
            "[{'titulo': 'Presión', 'numero': '1006', 'unidades': ''}, {'titulo': 'Temp.', 'numero': '9°', 'unidades': ' °C'}, {'titulo': 'Humedad', 'numero': '79', 'unidades': ' %'}, {'titulo': 'Viento', 'numero': '16', 'unidades': 'NNE'}, {'Presión Influencia': 'en descenso'}, {'Presión Estado': 'Muy bueno'}, {'Sensación': '8 °C'}, {'Punto Rocío': '8 °C'}, {'Hora': '8 h'}, {'Probabilidad de lluvia': None}, {'Cantidad de agua': None}]\n",
            "\n",
            " Previsión en aguas abiertas \n",
            " MAR EN PUERTO MONTT \n",
            "\n",
            "[{'titulo': 'Presión', 'numero': '1006', 'unidades': ''}, {'titulo': 'Temp.', 'numero': '9°', 'unidades': ' °C'}, {'titulo': 'Humedad', 'numero': '78', 'unidades': ' %'}, {'titulo': 'Viento', 'numero': '16', 'unidades': 'NNE'}, {'Presión Influencia': 'en descenso'}, {'Presión Estado': 'Muy bueno'}, {'Sensación': '8 °C'}, {'Punto Rocío': '8 °C'}, {'Hora': '9 h'}, {'Probabilidad de lluvia': None}, {'Cantidad de agua': None}]\n",
            "\n",
            " Previsión en aguas abiertas \n",
            " MAR EN PUERTO MONTT \n",
            "\n",
            "[{'titulo': 'Presión', 'numero': '1004', 'unidades': ''}, {'titulo': 'Temp.', 'numero': '11°', 'unidades': ' °C'}, {'titulo': 'Humedad', 'numero': '76', 'unidades': ' %'}, {'titulo': 'Viento', 'numero': '14', 'unidades': 'NNE'}, {'Presión Influencia': 'en descenso'}, {'Presión Estado': 'Muy bueno'}, {'Sensación': '8 °C'}, {'Punto Rocío': '8 °C'}, {'Hora': '10 h'}, {'Probabilidad de lluvia': None}, {'Cantidad de agua': None}]\n",
            "\n",
            " Previsión en aguas abiertas \n",
            " MAR EN PUERTO MONTT \n",
            "\n",
            "[{'titulo': 'Presión', 'numero': '1003', 'unidades': ''}, {'titulo': 'Temp.', 'numero': '11°', 'unidades': ' °C'}, {'titulo': 'Humedad', 'numero': '74', 'unidades': ' %'}, {'titulo': 'Viento', 'numero': '14', 'unidades': 'NNE'}, {'Presión Influencia': 'en descenso'}, {'Presión Estado': 'Muy bueno'}, {'Sensación': '8 °C'}, {'Punto Rocío': '8 °C'}, {'Hora': '11 h'}, {'Probabilidad de lluvia': None}, {'Cantidad de agua': None}]\n",
            "\n",
            " Previsión en aguas abiertas \n",
            " MAR EN PUERTO MONTT \n",
            "\n",
            "[{'titulo': 'Presión', 'numero': '1002', 'unidades': ''}, {'titulo': 'Temp.', 'numero': '12°', 'unidades': ' °C'}, {'titulo': 'Humedad', 'numero': '72', 'unidades': ' %'}, {'titulo': 'Viento', 'numero': '14', 'unidades': 'NNE'}, {'Presión Influencia': 'en descenso'}, {'Presión Estado': 'Muy bueno'}, {'Sensación': '8 °C'}, {'Punto Rocío': '8 °C'}, {'Hora': '12 h'}, {'Probabilidad de lluvia': None}, {'Cantidad de agua': None}]\n",
            "\n",
            " Previsión en aguas abiertas \n",
            " MAR EN PUERTO MONTT \n",
            "\n",
            "[{'titulo': 'Presión', 'numero': '1001', 'unidades': ''}, {'titulo': 'Temp.', 'numero': '12°', 'unidades': ' °C'}, {'titulo': 'Humedad', 'numero': '74', 'unidades': ' %'}, {'titulo': 'Viento', 'numero': '18', 'unidades': 'NNE'}, {'Presión Influencia': 'en descenso'}, {'Presión Estado': 'Muy bueno'}, {'Sensación': '8 °C'}, {'Punto Rocío': '8 °C'}, {'Hora': '13 h'}, {'Probabilidad de lluvia': None}, {'Cantidad de agua': None}]\n",
            "\n",
            " Previsión en aguas abiertas \n",
            " MAR EN PUERTO MONTT \n",
            "\n",
            "[{'titulo': 'Presión', 'numero': '999', 'unidades': ''}, {'titulo': 'Temp.', 'numero': '12°', 'unidades': ' °C'}, {'titulo': 'Humedad', 'numero': '76', 'unidades': ' %'}, {'titulo': 'Viento', 'numero': '21', 'unidades': 'NNE'}, {'Presión Influencia': 'en descenso'}, {'Presión Estado': 'Muy bueno'}, {'Sensación': '8 °C'}, {'Punto Rocío': '8 °C'}, {'Hora': '14 h'}, {'Probabilidad de lluvia': None}, {'Cantidad de agua': None}]\n",
            "\n",
            " Previsión en aguas abiertas \n",
            " MAR EN PUERTO MONTT \n",
            "\n",
            "[{'titulo': 'Presión', 'numero': '998', 'unidades': ''}, {'titulo': 'Temp.', 'numero': '12°', 'unidades': ' °C'}, {'titulo': 'Humedad', 'numero': '78', 'unidades': ' %'}, {'titulo': 'Viento', 'numero': '24', 'unidades': 'NNE'}, {'Presión Influencia': 'en descenso'}, {'Presión Estado': 'Muy bueno'}, {'Sensación': '8 °C'}, {'Punto Rocío': '8 °C'}, {'Hora': '15 h'}, {'Probabilidad de lluvia': None}, {'Cantidad de agua': None}]\n",
            "\n",
            " Previsión en aguas abiertas \n",
            " MAR EN PUERTO MONTT \n",
            "\n",
            "[{'titulo': 'Presión', 'numero': '999', 'unidades': ''}, {'titulo': 'Temp.', 'numero': '12°', 'unidades': ' °C'}, {'titulo': 'Humedad', 'numero': '80', 'unidades': ' %'}, {'titulo': 'Viento', 'numero': '29', 'unidades': 'NNE'}, {'Presión Influencia': 'en descenso'}, {'Presión Estado': 'Muy bueno'}, {'Sensación': '8 °C'}, {'Punto Rocío': '8 °C'}, {'Hora': '16 h'}, {'Probabilidad de lluvia': None}, {'Cantidad de agua': None}]\n",
            "\n",
            " Previsión en aguas abiertas \n",
            " MAR EN PUERTO MONTT \n",
            "\n",
            "[{'titulo': 'Presión', 'numero': '1000', 'unidades': ''}, {'titulo': 'Temp.', 'numero': '12°', 'unidades': ' °C'}, {'titulo': 'Humedad', 'numero': '82', 'unidades': ' %'}, {'titulo': 'Viento', 'numero': '34', 'unidades': 'NNE'}, {'Presión Influencia': 'en descenso'}, {'Presión Estado': 'Muy bueno'}, {'Sensación': '8 °C'}, {'Punto Rocío': '8 °C'}, {'Hora': '17 h'}, {'Probabilidad de lluvia': '61% '}, {'Cantidad de agua': '1.4'}]\n",
            "\n",
            " Previsión en aguas abiertas \n",
            " MAR EN PUERTO MONTT \n",
            "\n",
            "[{'titulo': 'Presión', 'numero': '1001', 'unidades': ''}, {'titulo': 'Temp.', 'numero': '12°', 'unidades': ' °C'}, {'titulo': 'Humedad', 'numero': '85', 'unidades': ' %'}, {'titulo': 'Viento', 'numero': '39', 'unidades': 'NNE'}, {'Presión Influencia': 'en descenso'}, {'Presión Estado': 'Muy bueno'}, {'Sensación': '8 °C'}, {'Punto Rocío': '8 °C'}, {'Hora': '18 h'}, {'Probabilidad de lluvia': None}, {'Cantidad de agua': None}]\n",
            "\n",
            " Previsión en aguas abiertas \n",
            " MAR EN PUERTO MONTT \n",
            "\n",
            "[{'titulo': 'Presión', 'numero': '1002', 'unidades': ''}, {'titulo': 'Temp.', 'numero': '12°', 'unidades': ' °C'}, {'titulo': 'Humedad', 'numero': '83', 'unidades': ' %'}, {'titulo': 'Viento', 'numero': '39', 'unidades': 'NNE'}, {'Presión Influencia': 'en descenso'}, {'Presión Estado': 'Muy bueno'}, {'Sensación': '8 °C'}, {'Punto Rocío': '8 °C'}, {'Hora': '19 h'}, {'Probabilidad de lluvia': '78% '}, {'Cantidad de agua': '2.3'}]\n",
            "\n",
            " Previsión en aguas abiertas \n",
            " MAR EN PUERTO MONTT \n",
            "\n",
            "[{'titulo': 'Presión', 'numero': '1003', 'unidades': ''}, {'titulo': 'Temp.', 'numero': '12°', 'unidades': ' °C'}, {'titulo': 'Humedad', 'numero': '81', 'unidades': ' %'}, {'titulo': 'Viento', 'numero': '40', 'unidades': 'NNE'}, {'Presión Influencia': 'en descenso'}, {'Presión Estado': 'Muy bueno'}, {'Sensación': '8 °C'}, {'Punto Rocío': '8 °C'}, {'Hora': '20 h'}, {'Probabilidad de lluvia': None}, {'Cantidad de agua': None}]\n",
            "\n",
            " Previsión en aguas abiertas \n",
            " MAR EN PUERTO MONTT \n",
            "\n",
            "[{'titulo': 'Presión', 'numero': '1003', 'unidades': ''}, {'titulo': 'Temp.', 'numero': '11°', 'unidades': ' °C'}, {'titulo': 'Humedad', 'numero': '80', 'unidades': ' %'}, {'titulo': 'Viento', 'numero': '42', 'unidades': 'NNE'}, {'Presión Influencia': 'en descenso'}, {'Presión Estado': 'Muy bueno'}, {'Sensación': '8 °C'}, {'Punto Rocío': '8 °C'}, {'Hora': '21 h'}, {'Probabilidad de lluvia': '79% '}, {'Cantidad de agua': '0.8'}]\n",
            "\n",
            " Previsión en aguas abiertas \n",
            " MAR EN PUERTO MONTT \n",
            "\n",
            "[{'titulo': 'Presión', 'numero': '1004', 'unidades': ''}, {'titulo': 'Temp.', 'numero': '11°', 'unidades': ' °C'}, {'titulo': 'Humedad', 'numero': '78', 'unidades': ' %'}, {'titulo': 'Viento', 'numero': '37', 'unidades': 'NNE'}, {'Presión Influencia': 'en descenso'}, {'Presión Estado': 'Muy bueno'}, {'Sensación': '8 °C'}, {'Punto Rocío': '8 °C'}, {'Hora': '22 h'}, {'Probabilidad de lluvia': '72% '}, {'Cantidad de agua': '0.6'}]\n",
            "\n",
            " Previsión en aguas abiertas \n",
            " MAR EN PUERTO MONTT \n",
            "\n",
            "[{'titulo': 'Presión', 'numero': '1005', 'unidades': ''}, {'titulo': 'Temp.', 'numero': '11°', 'unidades': ' °C'}, {'titulo': 'Humedad', 'numero': '77', 'unidades': ' %'}, {'titulo': 'Viento', 'numero': '34', 'unidades': 'NNE'}, {'Presión Influencia': 'en descenso'}, {'Presión Estado': 'Muy bueno'}, {'Sensación': '8 °C'}, {'Punto Rocío': '8 °C'}, {'Hora': '23 h'}, {'Probabilidad de lluvia': '89% '}, {'Cantidad de agua': '1.7'}]\n"
          ]
        }
      ]
    },
    {
      "cell_type": "markdown",
      "source": [
        "## INDICE ULTRAVIOLETA"
      ],
      "metadata": {
        "id": "HmC_UO9IbPfj"
      }
    },
    {
      "cell_type": "code",
      "source": [
        "def mensaje_de_seguridad(uv_maximo_img_num):\n",
        "   Mensaje = ['Puedes salir sin necesidad de tomar ninguna medida de protección solar.', 'Viste camiseta, gorra y gafas. \\n Usa protección solar 30+. \\n Mantente a la sombra en las horas centrales del día.', 'Viste camiseta, gorra y gafas. \\n Usa protección solar 50+. \\n Mantente a la sombra todo el tiempo posible y evita salir en las horas centrales del día.']\n",
        "   if uv_maximo_img_num <3:\n",
        "    resultado = Mensaje[0]\n",
        "   elif (uv_maximo_img_num >3) & (uv_maximo_img_num <8) :\n",
        "    resultado = Mensaje[1]\n",
        "   elif uv_maximo_img_num >=8:\n",
        "    resultado = Mensaje[2]\n",
        "   else:\n",
        "    resultado = \"Recomendacion para indice ultravioleta no encontrado\"\n",
        "\n",
        "   return resultado\n"
      ],
      "metadata": {
        "id": "Qb64OyvmebA_"
      },
      "execution_count": 18,
      "outputs": []
    },
    {
      "cell_type": "code",
      "source": [
        "uv_maximo_texto = soup.find('div', {'id': 'uv_maximo_texto'}).text\n",
        "\n",
        "# Obtener el número 2 del div con id=\"uv_maximo_img_num\"\n",
        "uv_maximo_img_num = soup.find('div', {'id': 'uv_maximo_img_num'}).text\n",
        "\n",
        "# Imprimir los resultados\n",
        "print('Indice ultravioleta:', uv_maximo_texto)\n",
        "print('Valor de indice ultravioleta:', uv_maximo_img_num)\n",
        "print('Mensaje respecto al indice ultravioleta:',mensaje_de_seguridad(int(uv_maximo_img_num)))\n"
      ],
      "metadata": {
        "colab": {
          "base_uri": "https://localhost:8080/"
        },
        "id": "mHWBu9hXdU9u",
        "outputId": "65745280-7d18-442e-9b86-216ad24ebfa1"
      },
      "execution_count": 19,
      "outputs": [
        {
          "output_type": "stream",
          "name": "stdout",
          "text": [
            "Indice ultravioleta: bajo\n",
            "Valor de indice ultravioleta: 2\n",
            "Mensaje respecto al indice ultravioleta: Puedes salir sin necesidad de tomar ninguna medida de protección solar.\n"
          ]
        }
      ]
    },
    {
      "cell_type": "markdown",
      "source": [
        "## TEMPERATURA DEL AGUA"
      ],
      "metadata": {
        "id": "qxSGzq9MM_Pw"
      }
    },
    {
      "cell_type": "code",
      "source": [
        "actual_element = soup.find('span', {'id': 'c_grafico_temp_agua_txt_grados_agua_actual'})\n",
        "\n",
        "# Extraer el valor del elemento actual\n",
        "temp_actual_agua = actual_element.text.strip()\n",
        "\n",
        "# Encontrar el elemento con id \"c_grafico_temp_agua_txt_grados_agua_media\"\n",
        "media_element = soup.find('span', {'id': 'c_grafico_temp_agua_txt_grados_agua_media'})\n",
        "\n",
        "# Extraer el valor del elemento de la media\n",
        "temp_media_agua = media_element.text.strip()\n",
        "\n",
        "# Imprimir los valores\n",
        "print(\"Temperatura actual del agua:\", temp_actual_agua)\n",
        "print(\"Temperatura media del agua:\", temp_media_agua)"
      ],
      "metadata": {
        "colab": {
          "base_uri": "https://localhost:8080/"
        },
        "id": "mDYc24GoOHg5",
        "outputId": "6d464d49-d192-4f4f-bd94-277c9f2163ac"
      },
      "execution_count": 20,
      "outputs": [
        {
          "output_type": "stream",
          "name": "stdout",
          "text": [
            "Temperatura actual del agua: 11°C\n",
            "Temperatura media del agua: 10°C\n"
          ]
        }
      ]
    },
    {
      "cell_type": "code",
      "source": [
        "rafificacion_promedio=0\n",
        "valores_horarios_valor = []\n",
        "valores_horarios = []\n",
        "horas = soup.find_all('div', {'class': 'evolucion_temp_agua_hora'})\n",
        "for i, hora in zip(range(14),horas):\n",
        "  id_valor_relleno = f\"evolucion_temp_agua_relleno_cuadro_{i}\"\n",
        "  valor_incremental = soup.find('div', {'class': 'evolucion_temp_agua_relleno_cuadro', 'id': id_valor_relleno}).text.strip()\n",
        "  valor_horario = hora.text.strip()\n",
        "  valores_horarios.append(valor_horario)\n",
        "  valores_horarios_valor.append(valor_incremental)\n",
        "for valor, valor1 in zip(valores_horarios_valor,valores_horarios):\n",
        "  print(valor1, valor)\n",
        "  numero = ''.join(filter(str.isdigit, valor))\n",
        "  rafificacion_promedio=rafificacion_promedio+int(numero)\n",
        "print(rafificacion_promedio/13)"
      ],
      "metadata": {
        "colab": {
          "base_uri": "https://localhost:8080/"
        },
        "id": "88hPQuh9YDNd",
        "outputId": "29183254-cdac-4126-d70f-2642aebeb86a"
      },
      "execution_count": 21,
      "outputs": [
        {
          "output_type": "stream",
          "name": "stdout",
          "text": [
            "0 h 8°\n",
            "1 h 11°\n",
            "2 h 11°\n",
            "3 h 8°\n",
            "4 h 11°\n",
            "5 h 11°\n",
            "6 h 8°\n",
            "7 h 11°\n",
            "8 h 11°\n",
            "9 h 8°\n",
            "10 h 11°\n",
            "11 h 11°\n",
            "12 h 8°\n",
            "13 h 11°\n",
            "10.692307692307692\n"
          ]
        }
      ]
    },
    {
      "cell_type": "markdown",
      "source": [
        "## OLEAJE"
      ],
      "metadata": {
        "id": "7bI-Zv2Kme4Y"
      }
    },
    {
      "cell_type": "code",
      "source": [
        "valor_fecha = soup.find('div', class_='texto_grafico_estado_actual_fecha').text.strip()\n",
        "print(\"Valor de la fecha:\", valor_fecha)\n",
        "\n",
        "direccion_de_oleaje = soup.find('span', id='swellDir16Point').text\n",
        "print(\"Direccion de oleaje:\", direccion_de_oleaje)\n",
        "\n",
        "valor_de_oleaje = soup.find('span', id='swellDir').text\n",
        "print(\"Valor de oleaje:\", valor_de_oleaje)\n",
        "\n",
        "altura_significativa = soup.find('span', id='sigHeight_m').text\n",
        "print(\"Altura significativa de las olas:\", altura_significativa)\n",
        "\n",
        "periodo_olas = soup.find('span', id='swellPeriod_secs').text\n",
        "print(\"Periodo de las olas:\", periodo_olas)\n",
        "\n",
        "valor_costa = soup.find('span', class_='grafico_viento_oleaje_actual_titulo_txt_costa').text.strip()\n",
        "valor_direccion = soup.find('span', id='oleaje_viento_direccion_txt').text.strip()\n",
        "valor_grados = soup.find('span', id='oleaje_viento_direccion_grados').text.strip()\n",
        "valor_velocidad = soup.find('span', id='oleaje_viento_velocidad').text.strip()\n",
        "\n",
        "print(\"Valor de costa:\", valor_costa)\n",
        "print(\"Valor de dirección:\", valor_direccion)\n",
        "print(\"Valor de grados:\", valor_grados)\n",
        "print(\"Valor de velocidad:\", valor_velocidad)\n",
        "\n",
        "valor_aguas_abiertas = soup.find('span', class_='grafico_viento_oleaje_actual_titulo_txt_mar').text.strip()\n",
        "valor_direccion = soup.find('span', id='oleaje_viento_marine_direccion_txt').text.strip()\n",
        "valor_grados = soup.find('span', id='oleaje_viento_marine_direccion_grados').text.strip()\n",
        "valor_velocidad = soup.find('span', id='oleaje_viento_marine_velocidad').text.strip()\n",
        "\n",
        "print(\"Valor de aguas abiertas:\", valor_aguas_abiertas)\n",
        "print(\"Valor de dirección:\", valor_direccion)\n",
        "print(\"Valor de grados:\", valor_grados)\n",
        "print(\"Valor de velocidad:\", valor_velocidad)\n",
        "\n",
        "\n",
        "alturas_oleaje_actual = soup.find_all('div', class_='alturas_oleaje_actual')\n",
        "for elemento in alturas_oleaje_actual:\n",
        "    titulo = elemento.find('div', class_='alturas_oleaje_actual_titulo').text.strip()\n",
        "    texto = elemento.find('div', class_='alturas_oleaje_actual_texto').text.strip()\n",
        "    valor = elemento.find('div', class_='circulo_alturas_oleaje').text.strip()\n",
        "    print(\"Título:\", titulo)\n",
        "    print(\"Texto:\", texto)\n",
        "    print(\"Valor:\", valor)\n"
      ],
      "metadata": {
        "colab": {
          "base_uri": "https://localhost:8080/"
        },
        "id": "bs3YHUwjohaZ",
        "outputId": "58d3333b-e6aa-4a68-85a2-90be0133d071"
      },
      "execution_count": 22,
      "outputs": [
        {
          "output_type": "stream",
          "name": "stdout",
          "text": [
            "Valor de la fecha: 1 DE JUNIO DE 2023, 14:33 h\n",
            "Direccion de oleaje: NE\n",
            "Valor de oleaje: 50\n",
            "Altura significativa de las olas: 0.3 m\n",
            "Periodo de las olas: 0.1 s\n",
            "Valor de costa: costa\n",
            "Valor de dirección: NNE\n",
            "Valor de grados: 15\n",
            "Valor de velocidad: 24 km/h\n",
            "Valor de aguas abiertas: aguas abiertas\n",
            "Valor de dirección: NNE\n",
            "Valor de grados: 25\n",
            "Valor de velocidad: 21 km/h\n",
            "Título: Altura más frecuente\n",
            "Texto: La mayoría de las olas tendrán la mitad de la altura significativa.\n",
            "Valor: 0.1 m\n",
            "Título: Altura significativa\n",
            "Texto: Aprox. el 14% de las olas serán más grandes que la altura significativa (aprox. 1 de cada 7 olas).\n",
            "Valor: 0.3 m\n",
            "Título: Altura máxima\n",
            "Texto: Lo normal es esperar una ola del doble de la altura significativa 3 veces cada 24 horas.\n",
            "Valor: 0.6 m\n"
          ]
        }
      ]
    },
    {
      "cell_type": "code",
      "source": [
        "horas = [elemento.text for elemento in soup.find_all(class_='cuadro_datos_grafico_viento_hora')]\n",
        "direcciones = [elemento.text for elemento in soup.find_all(class_='cuadro_datos_grafico_viento_datos_direccion')]\n",
        "alturas = [elemento.text for elemento in soup.find_all(class_='cuadro_datos_grafico_oleaje_datos_altura')]\n",
        "periodos = [elemento.text for elemento in soup.find_all(class_='cuadro_datos_grafico_oleaje_datos_periodo')]\n",
        "\n",
        "# Imprimir los valores obtenidos\n",
        "print(\"Valores de las horas:\", horas)\n",
        "print(\"Valores de las direcciones:\", direcciones)\n",
        "print(\"Valores de las alturas:\", alturas)\n",
        "print(\"Valores de los periodos:\", periodos)\n",
        "\n",
        "# Encontrar los elementos deseados\n",
        "elemento_salida_sol = soup.find(class_='l_grafico_mareas_responsive_ico_salida_sol')\n",
        "elemento_puesta_sol = soup.find(class_='l_grafico_mareas_responsive_ico_puesta_sol')\n",
        "\n",
        "# Extraer los valores de las horas de salida y puesta del sol\n",
        "hora_salida_sol = elemento_salida_sol.find(class_='l_grafico_mareas_responsive_hora_salida_puesta_sol').text.strip()\n",
        "hora_puesta_sol = elemento_puesta_sol.find(class_='l_grafico_mareas_responsive_hora_salida_puesta_sol').text.strip()\n",
        "\n",
        "# Imprimir los valores obtenidos\n",
        "print(\"Hora de salida del sol:\", hora_salida_sol)\n",
        "print(\"Hora de puesta del sol:\", hora_puesta_sol)\n",
        "\n",
        "\n"
      ],
      "metadata": {
        "colab": {
          "base_uri": "https://localhost:8080/"
        },
        "id": "WVmKZYXFbXUY",
        "outputId": "930f03b9-a35c-4a7f-91a1-cbc4c1887e4f"
      },
      "execution_count": 23,
      "outputs": [
        {
          "output_type": "stream",
          "name": "stdout",
          "text": [
            "Valores de las horas: ['0:00 h', '1:00 h', '2:00 h', '3:00 h', '4:00 h', '5:00 h', '6:00 h', '7:00 h', '8:00 h', '9:00 h', '10:00 h', '11:00 h', '12:00 h', '13:00 h', '14:00 h', '15:00 h', '16:00 h', '17:00 h', '18:00 h', '19:00 h', '20:00 h', '21:00 h', '22:00 h', '23:00 h']\n",
            "Valores de las direcciones: ['NE', 'NE', 'NE', 'NE', 'NE', 'NE', 'NE', 'NE', 'NE', 'NE', 'NE', 'NE', 'NE', 'NE', 'NE', 'NE', 'NE', 'NE', 'NE', 'NE', 'NE', 'NE', 'NE', 'NE']\n",
            "Valores de las alturas: ['0.1', '0.1', '0.1', '0.1', '0.1', '0.2', '0.2', '0.2', '0.2', '0.2', '0.2', '0.2', '0.2', '0.2', '0.3', '0.3', '0.4', '0.4', '0.5', '0.6', '0.6', '0.7', '0.7', '0.7']\n",
            "Valores de los periodos: ['0 s', '0 s', '0 s', '0 s', '0 s', '0 s', '0 s', '0 s', '0 s', '0 s', '0 s', '0 s', '0 s', '0 s', '0 s', '0 s', '0 s', '0 s', '0 s', '0 s', '0 s', '0 s', '0 s', '0 s']\n",
            "Hora de salida del sol: 8:08 h\n",
            "Hora de puesta del sol: 17:30 h\n"
          ]
        }
      ]
    },
    {
      "cell_type": "markdown",
      "source": [
        "## PLEAMARES Y BAJAMARES"
      ],
      "metadata": {
        "id": "nXWrt1hgd7qS"
      }
    },
    {
      "cell_type": "code",
      "source": [
        "# Buscar el div específico por el id y la clase\n",
        "elemento = soup.find('div', {'id': 'brujula_mareas_texto_movil', 'class': 'grafico_estado_actual_texto2'})\n",
        "\n",
        "# Verificar si se encontró el elemento\n",
        "if elemento is not None:\n",
        "    # Obtener el texto del elemento\n",
        "    texto = elemento.text.strip()\n",
        "\n",
        "    # Imprimir el resultado obtenido\n",
        "    print(texto)\n",
        "else:\n",
        "    print(\"No se encontró el elemento especificado.\")"
      ],
      "metadata": {
        "colab": {
          "base_uri": "https://localhost:8080/"
        },
        "id": "T0E-io21d7Hg",
        "outputId": "6f765725-291a-4106-920e-7f6afa58549e"
      },
      "execution_count": 24,
      "outputs": [
        {
          "output_type": "stream",
          "name": "stdout",
          "text": [
            "El nivel del agua está bajando en estos momentos. La bajamar será dentro de 3 horas y 30 minutos.\n"
          ]
        }
      ]
    },
    {
      "cell_type": "code",
      "source": [
        "# Buscar todos los div con la clase grafico_estado_actual_texto\n",
        "divs_estado_actual = soup.find_all('div', class_='grafico_estado_actual_texto')\n",
        "\n",
        "if divs_estado_actual:\n",
        "    for div_estado_actual in divs_estado_actual:\n",
        "        # Obtener el contenido de cada elemento div\n",
        "        contenido = div_estado_actual.text.strip()\n",
        "        \n",
        "        # Filtrar el texto específico\n",
        "        if 'Hasta la puesta de sol' in contenido:\n",
        "            print(contenido)\n",
        "else:\n",
        "    print(\"No se encontraron elementos div con la clase grafico_estado_actual_texto.\")\n"
      ],
      "metadata": {
        "colab": {
          "base_uri": "https://localhost:8080/"
        },
        "id": "UO9hJGoWW8ZY",
        "outputId": "59daac9d-9542-4f7d-f683-99b7f7612fd4"
      },
      "execution_count": 25,
      "outputs": [
        {
          "output_type": "stream",
          "name": "stdout",
          "text": [
            "Hoy  jueves, 1 de junio de 2023, amaneció en Puerto Montt a las 8:08:32 h y la puesta de sol será a las 17:30:46 h. En el gráfico de pleamares y bajamares, podemos observar que la primera bajamar fue a las 5:31 h y la siguiente bajamar  será a las 18:04 h. La única pleamar de hoy  fue a las 11:44 h.  \n",
            "\n",
            " El nivel del agua está bajando en estos momentos. La bajamar será dentro de 3 horas y 30 minutos. \n",
            "\n",
            " Hasta la puesta de sol de las 17:30:46 h, habremos tenido un total de 9 horas y 22 minutos de sol. El tránsito solar fue a las 12:49:39 h.\n"
          ]
        }
      ]
    },
    {
      "cell_type": "markdown",
      "source": [
        "## COEFICIENTE DE MAREAS"
      ],
      "metadata": {
        "id": "TxMZ3BP1dcUm"
      }
    },
    {
      "cell_type": "code",
      "source": [
        "valor_manana = soup.find('div', id='datos_grafico_triangulo_coeficiente_mañana').find('div', class_='datos_grafico_triangulo_coeficiente_numero').text.strip()\n",
        "texto_manana = soup.find('div', id='datos_grafico_triangulo_coeficiente_mañana').find('div', class_='datos_grafico_triangulo_coeficiente_texto').text.strip()\n",
        "\n",
        "# Obtener el valor de tarde\n",
        "valor_tarde = soup.find('div', id='datos_grafico_triangulo_coeficiente_tarde').find('div', class_='datos_grafico_triangulo_coeficiente_numero').text.strip()\n",
        "texto_tarde = soup.find('div', id='datos_grafico_triangulo_coeficiente_tarde').find('div', class_='datos_grafico_triangulo_coeficiente_texto').text.strip()\n",
        "\n",
        "# Obtener el coeficiente de mareas\n",
        "coeficiente_mareas = soup.find('div', class_='texto_grafico_estado_actual').find('strong').text.strip()\n",
        "\n",
        "# Obtener el texto de fecha\n",
        "texto_fecha = soup.find('div', class_='texto_grafico_estado_actual_fecha').text.strip()\n",
        "\n",
        "print(\"Valor de mañana:\", valor_manana)\n",
        "print(\"Texto de mañana:\", texto_manana)\n",
        "print(\"Valor de tarde:\", valor_tarde)\n",
        "print(\"Texto de tarde:\", texto_tarde)\n",
        "print(\"Coeficiente de mareas:\", coeficiente_mareas)\n",
        "print(\"Texto de fecha:\", texto_fecha)"
      ],
      "metadata": {
        "colab": {
          "base_uri": "https://localhost:8080/"
        },
        "id": "BBAUjNj5eED9",
        "outputId": "73a00d71-71d1-4bfa-d2f5-ce86fc853ac4"
      },
      "execution_count": 26,
      "outputs": [
        {
          "output_type": "stream",
          "name": "stdout",
          "text": [
            "Valor de mañana: 76\n",
            "Texto de mañana: MAÑANA\n",
            "Valor de tarde: 80\n",
            "Texto de tarde: TARDE\n",
            "Coeficiente de mareas: Temperatura actual   aire /  agua\n",
            "Texto de fecha: 1 DE JUNIO DE 2023, 14:33 h\n"
          ]
        }
      ]
    },
    {
      "cell_type": "code",
      "source": [
        "def filtrar_contenido(class_name, texto_buscar):\n",
        "    divs_estado_actual = soup.find_all('div', class_=class_name)\n",
        "\n",
        "    for div_estado_actual in divs_estado_actual:\n",
        "        contenido = div_estado_actual.text.strip()\n",
        "        if texto_buscar in contenido:\n",
        "            return contenido\n",
        "\n",
        "    return None"
      ],
      "metadata": {
        "id": "eEb5S11Hj5B7"
      },
      "execution_count": 27,
      "outputs": []
    },
    {
      "cell_type": "code",
      "source": [
        "texto1 = filtrar_contenido('grafico_estado_actual_texto1', 'Podemos comparar estos niveles con la')\n",
        "print(texto1)"
      ],
      "metadata": {
        "colab": {
          "base_uri": "https://localhost:8080/"
        },
        "id": "BY98aYi-kPdc",
        "outputId": "c9136d48-7900-4693-f533-66c364b93311"
      },
      "execution_count": 28,
      "outputs": [
        {
          "output_type": "stream",
          "name": "stdout",
          "text": [
            "Podemos comparar estos niveles con la pleamar máxima registrada en las tablas de mareas de Puerto Montt que es de 7,4 m y la altura mínima -0,1 m.\n"
          ]
        }
      ]
    },
    {
      "cell_type": "code",
      "source": [
        "texto2 = filtrar_contenido('grafico_estado_actual_texto2', 'Tomando como referencia la')\n",
        "print(texto2)"
      ],
      "metadata": {
        "colab": {
          "base_uri": "https://localhost:8080/"
        },
        "id": "SswOJH5JkRsF",
        "outputId": "809b041d-442c-4a72-ee29-b42ce3a03b7f"
      },
      "execution_count": 29,
      "outputs": [
        {
          "output_type": "stream",
          "name": "stdout",
          "text": [
            "Tomando como referencia la bajamar media inferior (BMI), las alturas de las mareas de hoy son 1,5 m, 5,9 m y 1,4 m.\n"
          ]
        }
      ]
    },
    {
      "cell_type": "code",
      "source": [
        "texto3 = filtrar_contenido('grafico_estado_actual_texto1', 'Hoy comenzamos el dia con un coeficiente de mareas')\n",
        "print(texto3)"
      ],
      "metadata": {
        "colab": {
          "base_uri": "https://localhost:8080/"
        },
        "id": "njPwTDzakTaM",
        "outputId": "691cf609-3561-42a4-8abe-a387d96a599d"
      },
      "execution_count": 30,
      "outputs": [
        {
          "output_type": "stream",
          "name": "stdout",
          "text": [
            "Hoy comenzamos el dia con un coeficiente de mareas de 76, un valor alto y por tanto la amplitud de la marea y las corrientes también serán altas. A mediodía el valor del coeficiente de mareas crece hasta 80 para acabar el día con un coeficiente de mareas de 83.\n"
          ]
        }
      ]
    },
    {
      "cell_type": "code",
      "source": [
        "# Obtener los valores de coeficientes y horas\n",
        "divs_coef = soup.find_all('div', class_='l_grafico_alturas_responsive_coef_datos_coef')\n",
        "valores_coeficientes = [div.text.strip() for div in divs_coef]\n",
        "\n",
        "divs_hora = soup.find_all('div', class_='l_grafico_alturas_responsive_coef_datos_hora')\n",
        "valores_horas = [div.text.strip() for div in divs_hora]\n",
        "\n",
        "# Obtener el valor 'coef.'\n",
        "span_coef = soup.find_all('span', class_='coef_grafico_ocultar')\n",
        "valor_coef_ocultar = [span.text.strip() for span in span_coef]\n",
        "\n",
        "\n",
        "\n",
        "# Imprimir los valores obtenidos\n",
        "print(\"Valores de coeficientes:\", valores_coeficientes)\n",
        "print(\"Valores de horas:\", valores_horas)\n",
        "print(\"Valor coef:\", valor_coef_ocultar)\n"
      ],
      "metadata": {
        "colab": {
          "base_uri": "https://localhost:8080/"
        },
        "id": "XFblB7VGlZjT",
        "outputId": "a488bca2-41f3-4866-da07-67199224c008"
      },
      "execution_count": 31,
      "outputs": [
        {
          "output_type": "stream",
          "name": "stdout",
          "text": [
            "Valores de coeficientes: ['76', '80', '83']\n",
            "Valores de horas: ['coef.  0:00 h', 'coef.  12:00 h', 'coef.  0:00 h']\n",
            "Valor coef: ['coef.', 'coef.', 'coef.']\n"
          ]
        }
      ]
    },
    {
      "cell_type": "code",
      "source": [
        "# Obtener el valor de l_grafico_alturas_responsive_altura_max\n",
        "div_altura_max = soup.find('div', id='l_grafico_alturas_responsive_altura_max')\n",
        "valor_altura_max = div_altura_max.text.strip()\n",
        "\n",
        "# Obtener el valor de tabla_mareas_marea_altura_numero\n",
        "div_altura_min = soup.find('div', id='l_grafico_alturas_responsive_altura_min')\n",
        "valor_altura_min = div_altura_min.text.strip()\n",
        "\n",
        "# Imprimir los valores obtenidos\n",
        "print(\"Valor de l_grafico_alturas_responsive_altura_max:\", valor_altura_max)\n",
        "print(\"Valor de l_grafico_alturas_responsive_altura_min:\", valor_altura_min)"
      ],
      "metadata": {
        "colab": {
          "base_uri": "https://localhost:8080/"
        },
        "id": "kdlB4dLZnQNM",
        "outputId": "c5a1a71a-e4de-4918-d0e9-a9c40070e365"
      },
      "execution_count": 32,
      "outputs": [
        {
          "output_type": "stream",
          "name": "stdout",
          "text": [
            "Valor de l_grafico_alturas_responsive_altura_max: altura máx 7,4 m\n",
            "Valor de l_grafico_alturas_responsive_altura_min: altura min -0,1 m\n"
          ]
        }
      ]
    },
    {
      "cell_type": "code",
      "source": [
        "divs_punto_azul = soup.find_all('div', class_='l_grafico_mareas_responsive_punto_azul')\n",
        "valores_punto_azul = []\n",
        "for div_azul in divs_punto_azul:\n",
        "    hora_azul_element = div_azul.find('div', class_='l_grafico_alturas_responsive_punto_azul_hora')\n",
        "    globo_azul_element = div_azul.find('div', class_='l_grafico_alturas_responsive_punto_azul_hora_globo')\n",
        "    if hora_azul_element and globo_azul_element:\n",
        "        hora_azul = hora_azul_element.text.strip()\n",
        "        globo_azul = globo_azul_element.text.strip()\n",
        "        valores_punto_azul.extend([globo_azul, hora_azul])\n",
        "\n",
        "# Obtener los valores de l_grafico_alturas_responsive_punto_rojo\n",
        "divs_punto_rojo = soup.find_all('div', class_='l_grafico_mareas_responsive_punto_rojo')\n",
        "valores_punto_rojo = []\n",
        "for div_rojo in divs_punto_rojo:\n",
        "    hora_rojo_element = div_rojo.find('div', class_='l_grafico_alturas_responsive_punto_rojo_hora')\n",
        "    globo_rojo_element = div_rojo.find('div', class_='l_grafico_alturas_responsive_punto_rojo_hora_globo')\n",
        "    if hora_rojo_element and globo_rojo_element:\n",
        "        hora_rojo = hora_rojo_element.text.strip()\n",
        "        globo_rojo = globo_rojo_element.text.strip()\n",
        "        valores_punto_rojo.extend([globo_rojo, hora_rojo])\n",
        "\n",
        "# Imprimir los valores obtenidos\n",
        "print(\"Valores de l_grafico_alturas_responsive_punto_azul:\", ', '.join(valores_punto_azul))\n",
        "print(\"Valores de l_grafico_alturas_responsive_punto_rojo:\", ', '.join(valores_punto_rojo))"
      ],
      "metadata": {
        "colab": {
          "base_uri": "https://localhost:8080/"
        },
        "id": "d-_77uy9pSP2",
        "outputId": "814ef5c7-b2e7-4478-f4d8-af74df03d4a2"
      },
      "execution_count": 33,
      "outputs": [
        {
          "output_type": "stream",
          "name": "stdout",
          "text": [
            "Valores de l_grafico_alturas_responsive_punto_azul: 5,9, 11:44 h\n",
            "Valores de l_grafico_alturas_responsive_punto_rojo: 1,5, 5:31 h, 1,4, 18:04 h\n"
          ]
        }
      ]
    },
    {
      "cell_type": "code",
      "source": [
        "divs = soup.find_all('div', class_='l_grafico_coef_globo_punto')\n",
        "\n",
        "valores = []\n",
        "for div in divs:\n",
        "    valor = div.find('span').text.strip()\n",
        "    valores.append(valor)\n",
        "\n",
        "print(\"Valores:\", ', '.join(valores))"
      ],
      "metadata": {
        "colab": {
          "base_uri": "https://localhost:8080/"
        },
        "id": "cF0kBa8Vrh-R",
        "outputId": "5298fbf5-3f94-4c57-c455-d5f2b54c797d"
      },
      "execution_count": 34,
      "outputs": [
        {
          "output_type": "stream",
          "name": "stdout",
          "text": [
            "Valores: 76, 87, 60, 74, 46\n"
          ]
        }
      ]
    },
    {
      "cell_type": "markdown",
      "source": [
        "## TABLA DE MAREAS"
      ],
      "metadata": {
        "id": "9ifnZwIZsIUU"
      }
    },
    {
      "cell_type": "code",
      "source": [
        "tabla_mareas_dia_values = []\n",
        "\n",
        "# Encuentra todos los elementos con la clase \"tabla_mareas_dia_numero\"\n",
        "elementos_dia = soup.find_all(class_=\"tabla_mareas_dia_numero\")\n",
        "\n",
        "# Extrae el texto de cada elemento y agrega los valores a la lista tabla_mareas_dia_values\n",
        "for elemento in elementos_dia:\n",
        "    valor = elemento.get_text(strip=True)\n",
        "    tabla_mareas_dia_values.append(valor.strip())\n",
        "\n",
        "max_dia = max(map(int, tabla_mareas_dia_values))\n",
        "num_bucles = len(tabla_mareas_dia_values) // max_dia\n",
        "\n",
        "tabla_mareas_marea_values = [[], [], [], []]\n",
        "tabla_mareas_coeficiente_values = []\n",
        "tabla_mareas_actividad_values = []\n",
        "\n",
        "# Encuentra todos los elementos con la clase \"tabla_mareas_marea\"\n",
        "elementos_marea = soup.find_all(class_=\"tabla_mareas_marea\")\n",
        "\n",
        "# Itera sobre los elementos de la lista\n",
        "for i, elemento in enumerate(elementos_marea):\n",
        "    # Extrae el texto del elemento\n",
        "    valor = elemento.get_text(strip=True)\n",
        "    # Determina a qué columna pertenece el elemento y agrega el valor a la lista correspondiente\n",
        "    columna = i % 4\n",
        "    tabla_mareas_marea_values[columna].append(valor)\n",
        "\n",
        "# Encuentra todos los elementos con la clase \"tabla_mareas_coeficiente_numero\"\n",
        "elementos_coeficiente = soup.find_all(class_=\"tabla_mareas_coeficiente_numero\")\n",
        "\n",
        "# Extrae el texto de cada elemento y agrega los valores a la lista tabla_mareas_coeficiente_values\n",
        "for elemento in elementos_coeficiente:\n",
        "    valor = elemento.get_text(strip=True)\n",
        "    tabla_mareas_coeficiente_values.append(valor)\n",
        "\n",
        "# Encuentra todos los elementos con la clase \"tabla_mareas_actividad\"\n",
        "elementos_actividad = soup.find_all(class_=\"tabla_mareas_actividad\")\n",
        "\n",
        "# Itera sobre los elementos de la lista\n",
        "for elemento in elementos_actividad:\n",
        "    # Encuentra todos los elementos hijos con la clase \"icon-ic_pez_leyenda2 noprint\"\n",
        "    elementos_icon = elemento.find_all(class_=\"icon-ic_pez_leyenda2 noprint\")\n",
        "    # Cuenta la cantidad de elementos encontrados y agrega el valor a la lista\n",
        "    cantidad = len(elementos_icon)\n",
        "    tabla_mareas_actividad_values.append(3 - cantidad)\n",
        "\n",
        "# Obtén el máximo número de elementos en las columnas de marea\n",
        "max_marea_length = max(len(tabla_mareas_marea_values[0]), len(tabla_mareas_marea_values[1]), len(tabla_mareas_marea_values[2]), len(tabla_mareas_marea_values[3]))\n",
        "\n",
        "\n",
        "# Imprime los valores de las mareas de 4 en 4\n",
        "for i in range(max_dia):\n",
        "    print(f\"DÍA: {tabla_mareas_dia_values[i]}\")\n",
        "    print(f\"1ª MAREA: {tabla_mareas_marea_values[0][i]}\")\n",
        "    print(f\"2ª MAREA: {tabla_mareas_marea_values[1][i]}\")\n",
        "    print(f\"3ª MAREA: {tabla_mareas_marea_values[2][i]}\")\n",
        "    print(f\"4ª MAREA: {tabla_mareas_marea_values[3][i]}\")\n",
        "    print(f\"COEFICIENTE: {tabla_mareas_coeficiente_values[i]}\")\n",
        "    print(f\"ACTIVIDAD MEDIA: {tabla_mareas_actividad_values[i]}\")\n",
        "    print(\"-----\")\n"
      ],
      "metadata": {
        "colab": {
          "base_uri": "https://localhost:8080/"
        },
        "id": "85gepyV2AeEM",
        "outputId": "097bd799-7457-43c4-9301-dea67150ffbb"
      },
      "execution_count": 111,
      "outputs": [
        {
          "output_type": "stream",
          "name": "stdout",
          "text": [
            "DÍA: 1\n",
            "1ª MAREA: 5:31h1,5m\n",
            "2ª MAREA: 11:44h5,9m\n",
            "3ª MAREA: 18:04h1,4m\n",
            "4ª MAREA: \n",
            "COEFICIENTE: 76alto\n",
            "ACTIVIDAD MEDIA: 1\n",
            "-----\n",
            "DÍA: 2\n",
            "1ª MAREA: 0:05h5,6m\n",
            "2ª MAREA: 6:10h1,4m\n",
            "3ª MAREA: 12:22h6,2m\n",
            "4ª MAREA: 18:45h1,1m\n",
            "COEFICIENTE: 83alto\n",
            "ACTIVIDAD MEDIA: 2\n",
            "-----\n",
            "DÍA: 3\n",
            "1ª MAREA: 0:47h5,7m\n",
            "2ª MAREA: 6:49h1,3m\n",
            "3ª MAREA: 13:01h6,5m\n",
            "4ª MAREA: 19:26h0,9m\n",
            "COEFICIENTE: 86alto\n",
            "ACTIVIDAD MEDIA: 3\n",
            "-----\n",
            "DÍA: 4\n",
            "1ª MAREA: 1:30h5,7m\n",
            "2ª MAREA: 7:29h1,3m\n",
            "3ª MAREA: 13:42h6,6m\n",
            "4ª MAREA: 20:10h0,8m\n",
            "COEFICIENTE: 87alto\n",
            "ACTIVIDAD MEDIA: 3\n",
            "-----\n",
            "DÍA: 5\n",
            "1ª MAREA: 2:13h5,7m\n",
            "2ª MAREA: 8:11h1,3m\n",
            "3ª MAREA: 14:25h6,6m\n",
            "4ª MAREA: 20:55h0,9m\n",
            "COEFICIENTE: 85alto\n",
            "ACTIVIDAD MEDIA: 2\n",
            "-----\n",
            "DÍA: 6\n",
            "1ª MAREA: 3:00h5,6m\n",
            "2ª MAREA: 8:56h1,5m\n",
            "3ª MAREA: 15:11h6,5m\n",
            "4ª MAREA: 21:44h1,0m\n",
            "COEFICIENTE: 80alto\n",
            "ACTIVIDAD MEDIA: 1\n",
            "-----\n",
            "DÍA: 7\n",
            "1ª MAREA: 3:50h5,4m\n",
            "2ª MAREA: 9:45h1,6m\n",
            "3ª MAREA: 16:01h6,3m\n",
            "4ª MAREA: 22:38h1,2m\n",
            "COEFICIENTE: 74alto\n",
            "ACTIVIDAD MEDIA: 0\n",
            "-----\n",
            "DÍA: 8\n",
            "1ª MAREA: 4:46h5,3m\n",
            "2ª MAREA: 10:41h1,9m\n",
            "3ª MAREA: 16:58h6,0m\n",
            "4ª MAREA: 23:37h1,3m\n",
            "COEFICIENTE: 67medio\n",
            "ACTIVIDAD MEDIA: 1\n",
            "-----\n",
            "DÍA: 9\n",
            "1ª MAREA: 5:48h5,1m\n",
            "2ª MAREA: 11:46h2,0m\n",
            "3ª MAREA: 18:02h5,8m\n",
            "4ª MAREA: \n",
            "COEFICIENTE: 62medio\n",
            "ACTIVIDAD MEDIA: 2\n",
            "-----\n",
            "DÍA: 10\n",
            "1ª MAREA: 0:42h1,5m\n",
            "2ª MAREA: 6:58h5,1m\n",
            "3ª MAREA: 13:00h2,1m\n",
            "4ª MAREA: 19:13h5,6m\n",
            "COEFICIENTE: 60medio\n",
            "ACTIVIDAD MEDIA: 2\n",
            "-----\n",
            "DÍA: 11\n",
            "1ª MAREA: 1:49h1,6m\n",
            "2ª MAREA: 8:09h5,2m\n",
            "3ª MAREA: 14:15h2,0m\n",
            "4ª MAREA: 20:26h5,5m\n",
            "COEFICIENTE: 61medio\n",
            "ACTIVIDAD MEDIA: 1\n",
            "-----\n",
            "DÍA: 12\n",
            "1ª MAREA: 2:54h1,6m\n",
            "2ª MAREA: 9:14h5,4m\n",
            "3ª MAREA: 15:25h1,8m\n",
            "4ª MAREA: 21:34h5,5m\n",
            "COEFICIENTE: 63medio\n",
            "ACTIVIDAD MEDIA: 0\n",
            "-----\n",
            "DÍA: 13\n",
            "1ª MAREA: 3:53h1,5m\n",
            "2ª MAREA: 10:12h5,7m\n",
            "3ª MAREA: 16:27h1,6m\n",
            "4ª MAREA: 22:35h5,6m\n",
            "COEFICIENTE: 66medio\n",
            "ACTIVIDAD MEDIA: 1\n",
            "-----\n",
            "DÍA: 14\n",
            "1ª MAREA: 4:46h1,4m\n",
            "2ª MAREA: 11:04h6,0m\n",
            "3ª MAREA: 17:22h1,3m\n",
            "4ª MAREA: 23:29h5,6m\n",
            "COEFICIENTE: 70alto\n",
            "ACTIVIDAD MEDIA: 1\n",
            "-----\n",
            "DÍA: 15\n",
            "1ª MAREA: 5:34h1,4m\n",
            "2ª MAREA: 11:50h6,2m\n",
            "3ª MAREA: 18:12h1,2m\n",
            "4ª MAREA: \n",
            "COEFICIENTE: 72alto\n",
            "ACTIVIDAD MEDIA: 2\n",
            "-----\n",
            "DÍA: 16\n",
            "1ª MAREA: 0:17h5,6m\n",
            "2ª MAREA: 6:18h1,4m\n",
            "3ª MAREA: 12:33h6,3m\n",
            "4ª MAREA: 18:57h1,1m\n",
            "COEFICIENTE: 74alto\n",
            "ACTIVIDAD MEDIA: 2\n",
            "-----\n",
            "DÍA: 17\n",
            "1ª MAREA: 1:02h5,6m\n",
            "2ª MAREA: 7:00h1,4m\n",
            "3ª MAREA: 13:14h6,3m\n",
            "4ª MAREA: 19:40h1,1m\n",
            "COEFICIENTE: 74alto\n",
            "ACTIVIDAD MEDIA: 3\n",
            "-----\n",
            "DÍA: 18\n",
            "1ª MAREA: 1:44h5,5m\n",
            "2ª MAREA: 7:39h1,5m\n",
            "3ª MAREA: 13:53h6,3m\n",
            "4ª MAREA: 20:21h1,2m\n",
            "COEFICIENTE: 73alto\n",
            "ACTIVIDAD MEDIA: 3\n",
            "-----\n",
            "DÍA: 19\n",
            "1ª MAREA: 2:23h5,3m\n",
            "2ª MAREA: 8:16h1,7m\n",
            "3ª MAREA: 14:30h6,1m\n",
            "4ª MAREA: 20:59h1,3m\n",
            "COEFICIENTE: 70alto\n",
            "ACTIVIDAD MEDIA: 3\n",
            "-----\n",
            "DÍA: 20\n",
            "1ª MAREA: 3:01h5,2m\n",
            "2ª MAREA: 8:53h1,9m\n",
            "3ª MAREA: 15:05h5,9m\n",
            "4ª MAREA: 21:37h1,5m\n",
            "COEFICIENTE: 66medio\n",
            "ACTIVIDAD MEDIA: 2\n",
            "-----\n",
            "DÍA: 21\n",
            "1ª MAREA: 3:38h5,0m\n",
            "2ª MAREA: 9:29h2,1m\n",
            "3ª MAREA: 15:40h5,7m\n",
            "4ª MAREA: 22:14h1,7m\n",
            "COEFICIENTE: 62medio\n",
            "ACTIVIDAD MEDIA: 1\n",
            "-----\n",
            "DÍA: 22\n",
            "1ª MAREA: 4:15h4,8m\n",
            "2ª MAREA: 10:05h2,3m\n",
            "3ª MAREA: 16:16h5,5m\n",
            "4ª MAREA: 22:50h1,9m\n",
            "COEFICIENTE: 57medio\n",
            "ACTIVIDAD MEDIA: 0\n",
            "-----\n",
            "DÍA: 23\n",
            "1ª MAREA: 4:54h4,7m\n",
            "2ª MAREA: 10:45h2,5m\n",
            "3ª MAREA: 16:53h5,2m\n",
            "4ª MAREA: 23:29h2,1m\n",
            "COEFICIENTE: 52medio\n",
            "ACTIVIDAD MEDIA: 0\n",
            "-----\n",
            "DÍA: 24\n",
            "1ª MAREA: 5:36h4,6m\n",
            "2ª MAREA: 11:29h2,6m\n",
            "3ª MAREA: 17:36h5,0m\n",
            "4ª MAREA: \n",
            "COEFICIENTE: 48bajo\n",
            "ACTIVIDAD MEDIA: 1\n",
            "-----\n",
            "DÍA: 25\n",
            "1ª MAREA: 0:13h2,2m\n",
            "2ª MAREA: 6:24h4,6m\n",
            "3ª MAREA: 12:23h2,7m\n",
            "4ª MAREA: 18:26h4,8m\n",
            "COEFICIENTE: 46bajo\n",
            "ACTIVIDAD MEDIA: 2\n",
            "-----\n",
            "DÍA: 26\n",
            "1ª MAREA: 1:02h2,3m\n",
            "2ª MAREA: 7:20h4,7m\n",
            "3ª MAREA: 13:27h2,7m\n",
            "4ª MAREA: 19:27h4,7m\n",
            "COEFICIENTE: 46bajo\n",
            "ACTIVIDAD MEDIA: 2\n",
            "-----\n",
            "DÍA: 27\n",
            "1ª MAREA: 1:58h2,3m\n",
            "2ª MAREA: 8:20h4,8m\n",
            "3ª MAREA: 14:37h2,6m\n",
            "4ª MAREA: 20:34h4,7m\n",
            "COEFICIENTE: 49bajo\n",
            "ACTIVIDAD MEDIA: 2\n",
            "-----\n",
            "DÍA: 28\n",
            "1ª MAREA: 2:57h2,2m\n",
            "2ª MAREA: 9:19h5,0m\n",
            "3ª MAREA: 15:43h2,3m\n",
            "4ª MAREA: 21:41h4,8m\n",
            "COEFICIENTE: 53medio\n",
            "ACTIVIDAD MEDIA: 0\n",
            "-----\n",
            "DÍA: 29\n",
            "1ª MAREA: 3:54h2,1m\n",
            "2ª MAREA: 10:15h5,4m\n",
            "3ª MAREA: 16:43h2,0m\n",
            "4ª MAREA: 22:43h5,0m\n",
            "COEFICIENTE: 60medio\n",
            "ACTIVIDAD MEDIA: 1\n",
            "-----\n",
            "DÍA: 30\n",
            "1ª MAREA: 4:49h1,9m\n",
            "2ª MAREA: 11:08h5,7m\n",
            "3ª MAREA: 17:37h1,6m\n",
            "4ª MAREA: 23:39h5,2m\n",
            "COEFICIENTE: 68medio\n",
            "ACTIVIDAD MEDIA: 1\n",
            "-----\n"
          ]
        }
      ]
    },
    {
      "cell_type": "markdown",
      "source": [
        "## CABALLO DE BATALLA"
      ],
      "metadata": {
        "id": "mTvpZckCdNY1"
      }
    },
    {
      "cell_type": "code",
      "source": [
        "# Buscar todos los div con la clase grafico_estado_actual_texto\n",
        "divs_estado_actual = soup.find_all('div', class_='grafico_estado_actual_texto')\n",
        "\n",
        "if divs_estado_actual:\n",
        "    for div_estado_actual in divs_estado_actual:\n",
        "        # Obtener el contenido de cada elemento div\n",
        "        contenido = div_estado_actual.text.strip()\n",
        "        \n",
        "        # Imprimir el resultado obtenido\n",
        "        print(contenido)\n",
        "else:\n",
        "    print(\"No se encontraron elementos div con la clase grafico_estado_actual_texto.\")"
      ],
      "metadata": {
        "colab": {
          "base_uri": "https://localhost:8080/"
        },
        "id": "fhiPCsbRdPc5",
        "outputId": "9f930d0a-5db6-44a8-92cf-a41df16812c2"
      },
      "execution_count": 41,
      "outputs": [
        {
          "output_type": "stream",
          "name": "stdout",
          "text": [
            "En este momento la temperatura actual del agua en Puerto Montt es de 11°C. La temperatura media del agua en Puerto Montt en el dia de hoy es de 10°C.                    \n",
            "\n",
            "  La temperatura del agua juega un papel determinante en la conducta de los peces. Cuando el agua está fría los peces se muestran aletargados e inactivos, y lo mismo ocurre si el agua está demasiado caliente.\n",
            "Hoy  jueves, 1 de junio de 2023, amaneció en Puerto Montt a las 8:08:32 h y la puesta de sol será a las 17:30:46 h. En el gráfico de pleamares y bajamares, podemos observar que la primera bajamar fue a las 5:31 h y la siguiente bajamar  será a las 18:04 h. La única pleamar de hoy  fue a las 11:44 h.  \n",
            "\n",
            " El nivel del agua está bajando en estos momentos. La bajamar será dentro de 3 horas y 30 minutos. \n",
            "\n",
            " Hasta la puesta de sol de las 17:30:46 h, habremos tenido un total de 9 horas y 22 minutos de sol. El tránsito solar fue a las 12:49:39 h.\n",
            "Hoy comenzamos el dia con un coeficiente de mareas de 76, un valor alto y por tanto la amplitud de la marea y las corrientes también serán altas. A mediodía el valor del coeficiente de mareas crece hasta 80 para acabar el día con un coeficiente de mareas de 83. \n",
            "\n",
            " Tomando como referencia la bajamar media inferior (BMI), las alturas de las mareas de hoy son 1,5 m, 5,9 m y 1,4 m.  \n",
            "\n",
            " Podemos comparar estos niveles con la pleamar máxima registrada en las tablas de mareas de Puerto Montt que es de 7,4 m y la altura mínima -0,1 m.\n",
            "En el siguiente gráfico se muestra la progresión del coeficiente de mareas durante el mes de junio de 2023. Estos valores nos dan una visión aproximada de la amplitud de las mareas previstas en Puerto Montt en junio. Grandes coeficientes conllevan grandes pleamares y bajamares; se suelen producir grandes corrientes y movimientos de fondos marinos. Pero recuerda que esta amplitud de las mareas puede verse muy afectada por los efectos meteorológicos y que siempre debes consultar el estado del tiempo en Puerto Montt, el pronóstico del viento en Puerto Montt y la predicción del oleaje en Puerto Montt antes de salir de pesca.\n"
          ]
        }
      ]
    }
  ]
}
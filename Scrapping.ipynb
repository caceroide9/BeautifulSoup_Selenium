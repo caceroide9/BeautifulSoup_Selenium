{
  "nbformat": 4,
  "nbformat_minor": 0,
  "metadata": {
    "colab": {
      "provenance": []
    },
    "kernelspec": {
      "name": "python3",
      "display_name": "Python 3"
    },
    "language_info": {
      "name": "python"
    }
  },
  "cells": [
    {
      "cell_type": "code",
      "source": [
        "#Instalar dependencias para instalar Google-Chrome\n",
        "!sudo apt-get update\n",
        "!sudo apt-get install -y libu2f-udev\n",
        "!pip install selenium"
      ],
      "metadata": {
        "colab": {
          "base_uri": "https://localhost:8080/"
        },
        "id": "xLOF4KAfN_9K",
        "outputId": "a5057e9c-17ed-4800-89b2-6ba21a479e1f"
      },
      "execution_count": 17,
      "outputs": [
        {
          "output_type": "stream",
          "name": "stdout",
          "text": [
            "\r0% [Working]\r            \rHit:1 https://cloud.r-project.org/bin/linux/ubuntu focal-cran40/ InRelease\n",
            "Hit:2 https://developer.download.nvidia.com/compute/cuda/repos/ubuntu2004/x86_64  InRelease\n",
            "Get:3 https://dl.google.com/linux/chrome/deb stable InRelease [1,825 B]\n",
            "Hit:4 http://security.ubuntu.com/ubuntu focal-security InRelease\n",
            "Hit:5 http://ppa.launchpad.net/c2d4u.team/c2d4u4.0+/ubuntu focal InRelease\n",
            "Hit:6 http://archive.ubuntu.com/ubuntu focal InRelease\n",
            "Hit:7 http://archive.ubuntu.com/ubuntu focal-updates InRelease\n",
            "Get:8 https://dl.google.com/linux/chrome/deb stable/main amd64 Packages [1,080 B]\n",
            "Hit:9 http://ppa.launchpad.net/cran/libgit2/ubuntu focal InRelease\n",
            "Hit:10 http://archive.ubuntu.com/ubuntu focal-backports InRelease\n",
            "Hit:11 http://ppa.launchpad.net/deadsnakes/ppa/ubuntu focal InRelease\n",
            "Hit:12 http://ppa.launchpad.net/graphics-drivers/ppa/ubuntu focal InRelease\n",
            "Hit:13 http://ppa.launchpad.net/ubuntugis/ppa/ubuntu focal InRelease\n",
            "Fetched 2,905 B in 1s (1,987 B/s)\n",
            "Reading package lists... Done\n",
            "Reading package lists... Done\n",
            "Building dependency tree       \n",
            "Reading state information... Done\n",
            "libu2f-udev is already the newest version (1.1.10-1).\n",
            "0 upgraded, 0 newly installed, 0 to remove and 36 not upgraded.\n",
            "Looking in indexes: https://pypi.org/simple, https://us-python.pkg.dev/colab-wheels/public/simple/\n",
            "Requirement already satisfied: selenium in /usr/local/lib/python3.10/dist-packages (4.9.1)\n",
            "Requirement already satisfied: urllib3[socks]<3,>=1.26 in /usr/local/lib/python3.10/dist-packages (from selenium) (1.26.15)\n",
            "Requirement already satisfied: trio~=0.17 in /usr/local/lib/python3.10/dist-packages (from selenium) (0.22.0)\n",
            "Requirement already satisfied: trio-websocket~=0.9 in /usr/local/lib/python3.10/dist-packages (from selenium) (0.10.2)\n",
            "Requirement already satisfied: certifi>=2021.10.8 in /usr/local/lib/python3.10/dist-packages (from selenium) (2022.12.7)\n",
            "Requirement already satisfied: attrs>=19.2.0 in /usr/local/lib/python3.10/dist-packages (from trio~=0.17->selenium) (23.1.0)\n",
            "Requirement already satisfied: sortedcontainers in /usr/local/lib/python3.10/dist-packages (from trio~=0.17->selenium) (2.4.0)\n",
            "Requirement already satisfied: async-generator>=1.9 in /usr/local/lib/python3.10/dist-packages (from trio~=0.17->selenium) (1.10)\n",
            "Requirement already satisfied: idna in /usr/local/lib/python3.10/dist-packages (from trio~=0.17->selenium) (3.4)\n",
            "Requirement already satisfied: outcome in /usr/local/lib/python3.10/dist-packages (from trio~=0.17->selenium) (1.2.0)\n",
            "Requirement already satisfied: sniffio in /usr/local/lib/python3.10/dist-packages (from trio~=0.17->selenium) (1.3.0)\n",
            "Requirement already satisfied: exceptiongroup>=1.0.0rc9 in /usr/local/lib/python3.10/dist-packages (from trio~=0.17->selenium) (1.1.1)\n",
            "Requirement already satisfied: wsproto>=0.14 in /usr/local/lib/python3.10/dist-packages (from trio-websocket~=0.9->selenium) (1.2.0)\n",
            "Requirement already satisfied: PySocks!=1.5.7,<2.0,>=1.5.6 in /usr/local/lib/python3.10/dist-packages (from urllib3[socks]<3,>=1.26->selenium) (1.7.1)\n",
            "Requirement already satisfied: h11<1,>=0.9.0 in /usr/local/lib/python3.10/dist-packages (from wsproto>=0.14->trio-websocket~=0.9->selenium) (0.14.0)\n"
          ]
        }
      ]
    },
    {
      "cell_type": "code",
      "source": [
        "#Instalar Google Chrome\n",
        "!wget https://dl.google.com/linux/direct/google-chrome-stable_current_amd64.deb\n",
        "!dpkg -i google-chrome-stable_current_amd64.deb\n",
        "!apt-get install -f\n",
        "!rm -rf google-chrome-stable_current_amd64.deb"
      ],
      "metadata": {
        "colab": {
          "base_uri": "https://localhost:8080/"
        },
        "id": "Xx4_9P09Od0V",
        "outputId": "f148cdf4-bcc8-4597-88ce-1a347755958d"
      },
      "execution_count": 18,
      "outputs": [
        {
          "output_type": "stream",
          "name": "stdout",
          "text": [
            "--2023-05-24 19:11:27--  https://dl.google.com/linux/direct/google-chrome-stable_current_amd64.deb\n",
            "Resolving dl.google.com (dl.google.com)... 142.250.125.136, 142.250.125.93, 142.250.125.91, ...\n",
            "Connecting to dl.google.com (dl.google.com)|142.250.125.136|:443... connected.\n",
            "HTTP request sent, awaiting response... 200 OK\n",
            "Length: 94682364 (90M) [application/x-debian-package]\n",
            "Saving to: ‘google-chrome-stable_current_amd64.deb’\n",
            "\n",
            "google-chrome-stabl 100%[===================>]  90.30M   209MB/s    in 0.4s    \n",
            "\n",
            "2023-05-24 19:11:27 (209 MB/s) - ‘google-chrome-stable_current_amd64.deb’ saved [94682364/94682364]\n",
            "\n",
            "(Reading database ... 122765 files and directories currently installed.)\n",
            "Preparing to unpack google-chrome-stable_current_amd64.deb ...\n",
            "Unpacking google-chrome-stable (113.0.5672.126-1) over (113.0.5672.126-1) ...\n",
            "Setting up google-chrome-stable (113.0.5672.126-1) ...\n",
            "Processing triggers for mime-support (3.64ubuntu1) ...\n",
            "Processing triggers for man-db (2.9.1-1) ...\n",
            "Reading package lists... Done\n",
            "Building dependency tree       \n",
            "Reading state information... Done\n",
            "0 upgraded, 0 newly installed, 0 to remove and 36 not upgraded.\n"
          ]
        }
      ]
    },
    {
      "cell_type": "code",
      "source": [
        "# Descargar WebDriver\n",
        "!wget https://chromedriver.storage.googleapis.com/113.0.5672.24/chromedriver_linux64.zip\n",
        "!unzip chromedriver_linux64\n",
        "!rm -rf chromedriver_linux64.zip\n",
        "!rm -rf LICENSE.chromedriver"
      ],
      "metadata": {
        "colab": {
          "base_uri": "https://localhost:8080/"
        },
        "id": "6xnr1a_OO9in",
        "outputId": "11de0b22-8a71-4b1a-8b03-20f9ba841731"
      },
      "execution_count": 19,
      "outputs": [
        {
          "output_type": "stream",
          "name": "stdout",
          "text": [
            "--2023-05-24 19:11:46--  https://chromedriver.storage.googleapis.com/113.0.5672.24/chromedriver_linux64.zip\n",
            "Resolving chromedriver.storage.googleapis.com (chromedriver.storage.googleapis.com)... 209.85.146.128, 2607:f8b0:4001:c1f::80\n",
            "Connecting to chromedriver.storage.googleapis.com (chromedriver.storage.googleapis.com)|209.85.146.128|:443... connected.\n",
            "HTTP request sent, awaiting response... 200 OK\n",
            "Length: 7172785 (6.8M) [application/zip]\n",
            "Saving to: ‘chromedriver_linux64.zip’\n",
            "\n",
            "\rchromedriver_linux6   0%[                    ]       0  --.-KB/s               \rchromedriver_linux6 100%[===================>]   6.84M  43.7MB/s    in 0.2s    \n",
            "\n",
            "2023-05-24 19:11:46 (43.7 MB/s) - ‘chromedriver_linux64.zip’ saved [7172785/7172785]\n",
            "\n",
            "Archive:  chromedriver_linux64.zip\n",
            "replace chromedriver? [y]es, [n]o, [A]ll, [N]one, [r]ename: y\n",
            "  inflating: chromedriver            \n",
            "  inflating: LICENSE.chromedriver    \n"
          ]
        }
      ]
    },
    {
      "cell_type": "code",
      "source": [
        "## funcion para convertir el html a txt\n",
        "def guardar_en_txt(texto, nombre_archivo):\n",
        "    with open(nombre_archivo, 'w') as archivo:\n",
        "        archivo.write(texto)"
      ],
      "metadata": {
        "id": "0diPUXHhBaj_"
      },
      "execution_count": 20,
      "outputs": []
    },
    {
      "cell_type": "markdown",
      "source": [
        "##Primer uso de la busqueda secuencial antes de pasarlo a función"
      ],
      "metadata": {
        "id": "zzc2fG4_NPHi"
      }
    },
    {
      "cell_type": "code",
      "source": [
        "\"\"\"soup = BeautifulSoup(driver.page_source, 'html.parser')\n",
        "\n",
        "# Buscar el id del html\n",
        "dato_velocidad_grafico_viento = soup.find('span', id='numero_visibilidad_grafico_visibilidad')\n",
        "\n",
        "# Imprimir el contenido del span específico\n",
        "if dato_velocidad_grafico_viento:\n",
        "    print(dato_velocidad_grafico_viento.text.strip())\n",
        "else:\n",
        "    print('Span no encontrado')\n",
        "\n",
        "\n",
        "# Buscar el div específico por clase\n",
        "dato_velocidad_grafico_viento = soup.find('span', class_='velocidad_grafico_viento')\n",
        "\n",
        "# Imprimir el contenido del div específico\n",
        "if dato_velocidad_grafico_viento:\n",
        "    print(dato_velocidad_grafico_viento.text.strip())\n",
        "else:\n",
        "    print('Div no encontrado')\"\"\""
      ],
      "metadata": {
        "colab": {
          "base_uri": "https://localhost:8080/",
          "height": 105
        },
        "id": "rgcl6l05NUJI",
        "outputId": "36b11c3c-d7f6-466f-817a-cae9e50fda30"
      },
      "execution_count": 21,
      "outputs": [
        {
          "output_type": "execute_result",
          "data": {
            "text/plain": [
              "\"soup = BeautifulSoup(driver.page_source, 'html.parser')\\n\\n# Buscar el id del html\\ndato_velocidad_grafico_viento = soup.find('span', id='numero_visibilidad_grafico_visibilidad')\\n\\n# Imprimir el contenido del span específico\\nif dato_velocidad_grafico_viento:\\n    print(dato_velocidad_grafico_viento.text.strip())\\nelse:\\n    print('Span no encontrado')\\n\\n\\n# Buscar el div específico por clase\\ndato_velocidad_grafico_viento = soup.find('span', class_='velocidad_grafico_viento')\\n\\n# Imprimir el contenido del div específico\\nif dato_velocidad_grafico_viento:\\n    print(dato_velocidad_grafico_viento.text.strip())\\nelse:\\n    print('Div no encontrado')\""
            ],
            "application/vnd.google.colaboratory.intrinsic+json": {
              "type": "string"
            }
          },
          "metadata": {},
          "execution_count": 21
        }
      ]
    },
    {
      "cell_type": "code",
      "source": [
        "## Función para buscar tags en html\n",
        "def buscar_elemento(soup, tag, identificador):\n",
        "    elemento = soup.find(tag, id=identificador) or soup.find(tag, class_=identificador)\n",
        "    if elemento:\n",
        "        return elemento.text.strip()\n",
        "    else:\n",
        "        return f'{tag.capitalize()} no encontrado'"
      ],
      "metadata": {
        "id": "Hftd9b_tLRpD"
      },
      "execution_count": 22,
      "outputs": []
    },
    {
      "cell_type": "code",
      "source": [
        "## Función para buscar color en Descenso /Estable/ En Ascenso\n",
        "def buscar_elemento_v(soup, tag, identificador):\n",
        "    elemento = soup.find(tag, id=identificador) or soup.find(tag, class_=identificador)\n",
        "    if elemento:\n",
        "        return elemento\n",
        "    else:\n",
        "        return None"
      ],
      "metadata": {
        "id": "XJE4ZY7jBBOt"
      },
      "execution_count": 23,
      "outputs": []
    },
    {
      "cell_type": "code",
      "source": [
        "## Retorno del valor activo Descenso /Estable/ En Ascenso\n",
        "def encontrar_activa_v2(x, y, z):\n",
        "    variables = {'ascenso_color': ascenso_color, 'estable_color': estable_color, 'descenso_color': descenso_color}\n",
        "    activas = [variable for variable, valor in variables.items() if valor != '#ffffff']\n",
        "    if len(activas) == 1:\n",
        "        return activas[0]\n",
        "    else:\n",
        "        return \"Ninguna o múltiples variables activas\""
      ],
      "metadata": {
        "id": "mFiIac6SGkSD"
      },
      "execution_count": 24,
      "outputs": []
    },
    {
      "cell_type": "code",
      "source": [
        "## Retorno de estado_color hacia estado\n",
        "def obtener_estado(Presion_Actividad_Pesca, ascenso_color, estable_color, descenso_color):\n",
        "    if Presion_Actividad_Pesca == 'ascenso_color':\n",
        "        resultado = 'en ascenso'\n",
        "    elif Presion_Actividad_Pesca == 'estable_color':\n",
        "        resultado = 'estable'\n",
        "    elif Presion_Actividad_Pesca == 'descenso_color':\n",
        "        resultado = 'en descenso'\n",
        "    else:\n",
        "        resultado = \"Presión de actividad de pesca desconocida\"\n",
        "\n",
        "    return resultado"
      ],
      "metadata": {
        "id": "JCWHO7wGNTWN"
      },
      "execution_count": 30,
      "outputs": []
    },
    {
      "cell_type": "code",
      "source": [
        "## Retorno mensaje de pesca\n",
        "def obtener_mensaje(Presion_Actividad_Pesca, ascenso_color, estable_color, descenso_color):\n",
        "    Mensaje = [\n",
        "        'Muy buena señal. Actividad alta prevista',\n",
        "        'Actividad normal de los peces',\n",
        "        'Buena pesca al principio, pero pronto dejarán de alimentarse'\n",
        "    ]\n",
        "\n",
        "    if Presion_Actividad_Pesca == 'ascenso_color':\n",
        "        resultado = Mensaje[0]\n",
        "    elif Presion_Actividad_Pesca == 'estable_color':\n",
        "        resultado = Mensaje[1]\n",
        "    elif Presion_Actividad_Pesca == 'descenso_color':\n",
        "        resultado = Mensaje[2]\n",
        "    else:\n",
        "        resultado = \"Presión de actividad de pesca desconocida\"\n",
        "\n",
        "    return resultado"
      ],
      "metadata": {
        "id": "GZNY4x8xK3cK"
      },
      "execution_count": 27,
      "outputs": []
    },
    {
      "cell_type": "code",
      "source": [
        "## Estado para la pesca\n",
        "def obtener_estado_activo_pesca(soup):\n",
        "    elementos = soup.find_all('div', class_='circulo_estado_grafico_barometro1')\n",
        "    \n",
        "    for elemento in elementos:\n",
        "        if 'circulo_estado_grafico_barometro1_activo' in elemento['class']:\n",
        "            return elemento.next_sibling.strip()\n",
        "    \n",
        "    return \"Estado pesca actual no encontrado\""
      ],
      "metadata": {
        "id": "3Dut1pOPdRk0"
      },
      "execution_count": 34,
      "outputs": []
    },
    {
      "cell_type": "code",
      "source": [
        "def obtener_datos_tiempo_por_file(soup, id_fila):\n",
        "    # Obtener el contenedor principal de la tabla de datos del tiempo\n",
        "    contenedor_principal = soup.find('div', id='tabla_datos_tiempo_datos')\n",
        "\n",
        "    # Obtener la fila de datos según el id proporcionado\n",
        "    fila_datos = contenedor_principal.find('div', id=f'tabla_datos_tiempo_datos_{id_fila}')\n",
        "\n",
        "    # Obtener la información relacionada con el tiempo\n",
        "    tiempo = fila_datos.find('div', class_='tabla_datos_tiempo_datos_tiempo').text\n",
        "\n",
        "    # Obtener los datos específicos del tiempo\n",
        "    datos_tiempo = fila_datos.find('div', class_='tabla_datos_tiempo_datos_datos')\n",
        "\n",
        "    # Obtener los cuadros de datos individuales\n",
        "    cuadros = datos_tiempo.find_all('div', class_='tabla_datos_tiempo_datos_datos_cuadro')\n",
        "\n",
        "    # Lista para almacenar los resultados\n",
        "    resultados = []\n",
        "    resultados.append(datos_tiempo)\n",
        "    return resultados"
      ],
      "metadata": {
        "id": "00fHmf_Iogje"
      },
      "execution_count": 85,
      "outputs": []
    },
    {
      "cell_type": "code",
      "source": [
        "def obtener_datos_tiempo_por_file_details(soup, id_fila):\n",
        "    # Obtener el contenedor principal de la tabla de datos del tiempo\n",
        "    contenedor_principal = soup.find('div', class_='tabla_datos_tiempo_datos_datos')\n",
        "\n",
        "    # Obtener la fila de datos según el id proporcionado\n",
        "    fila_datos = contenedor_principal.find_all('div', class_='tabla_datos_tiempo_datos_datos_cuadro')\n",
        "\n",
        "    # Lista para almacenar los resultados\n",
        "    resultados = []\n",
        "\n",
        "    # Recorrer los cuadros de datos y extraer los valores\n",
        "    for cuadro in fila_datos:\n",
        "        titulo_element = cuadro.find('div', class_='tabla_datos_tiempo_datos_datos_cuadro_titulo')\n",
        "        if titulo_element is not None:\n",
        "            titulo = titulo_element.text.strip()\n",
        "        else:\n",
        "            titulo = ''\n",
        "\n",
        "        # Buscar los elementos de valor en diferentes clases\n",
        "        valor_element = cuadro.find('span', class_='tabla_datos_tiempo_datos_datos_cuadro_num_span')\n",
        "        if valor_element is None:\n",
        "            valor_element = cuadro.find('span', class_='tabla_datos_tiempo_datos_datos_cuadro_num_grande_color')\n",
        "        if valor_element is None:\n",
        "            valor_element = cuadro.find('span', class_='tabla_datos_tiempo_datos_datos_cuadro_num_numero')\n",
        "\n",
        "        if valor_element is not None:\n",
        "            valor = valor_element.text.strip()\n",
        "        else:\n",
        "            valor = ''\n",
        "\n",
        "        resultados.extend([titulo, valor])\n",
        "\n",
        "    return resultados\n",
        "\n"
      ],
      "metadata": {
        "id": "WhSYts162Ixq"
      },
      "execution_count": 109,
      "outputs": []
    },
    {
      "cell_type": "code",
      "source": [
        "from selenium import webdriver\n",
        "from selenium.webdriver.chrome.service import Service\n",
        "from selenium.webdriver.chrome.options import Options\n",
        "from bs4 import BeautifulSoup\n",
        "\n",
        "# Opciones de Chrome\n",
        "chrome_options = Options()\n",
        "chrome_options.add_argument('--headless')\n",
        "chrome_options.add_argument('--no-sandbox')\n",
        "\n",
        "# Ruta del controlador de Chrome\n",
        "chrome_driver_path = '/content/chromedriver'\n",
        "\n",
        "# Crear un objeto Service para especificar la ruta del controlador\n",
        "service = Service(chrome_driver_path)\n",
        "\n",
        "# Crear una instancia del navegador Chrome\n",
        "driver = webdriver.Chrome(service=service, options=chrome_options)\n",
        "\n",
        "# Navegar a una página web\n",
        "#driver.get('https://tablademareas.com/cl/los-lagos/puerto-montt')\n",
        "driver.get('https://tablademareas.com/cl/magallanes/punta-arenas')\n",
        "\n",
        "# Imprimir HTML to txt\n",
        "#print(driver.page_source)\n",
        "\n",
        "# Guardar html en txt\n",
        "#guardar_en_txt(driver.page_source, 'pagina_entera.txt')\n",
        "\n",
        "#print(type(driver.page_source))\n",
        "\n",
        "\n",
        "# Crear un objeto BeautifulSoup\n",
        "soup = BeautifulSoup(driver.page_source, 'html.parser')\n",
        "\n",
        "#Viento\n",
        "Viento = buscar_elemento(soup, 'span', 'velocidad_grafico_viento')\n",
        "Viento_unidades = buscar_elemento(soup, 'span', 'unidades_grafico_viento')\n",
        "Rachas = buscar_elemento(soup, 'span', 'rafagas_datos_grafico_tiempo_valor')\n",
        "print('Viento:',Viento,'Unidades de viento:',Viento_unidades,'Procedencia_Viento:',Rachas)\n",
        "print('\\n')\n",
        "\n",
        "#Section Temperatura\n",
        "Temperatura = buscar_elemento(soup, 'span', 'temperatura_grafico_termometro')\n",
        "Temperatura_Unidad = '°C'\n",
        "Temperatura_Max = buscar_elemento(soup, 'span', 'temperatura_grafico_termometro_max')\n",
        "Temperatura_Unidad_Max = '°C'\n",
        "Temperatura_Min = buscar_elemento(soup, 'span', 'temperatura_grafico_termometro_min')\n",
        "Temperatura_Unidad_Min = '°C'\n",
        "Temperatura_Sensacion = buscar_elemento(soup, 'span', 'temperatura_grafico_termometro_sensacion')\n",
        "Temperatura_Unidad_Sensacion = '°C'\n",
        "\n",
        "print('Temperatura:',Temperatura,'Unidad de Temperatura:',Temperatura_Unidad,'Temperatura Max:',Temperatura_Max,'Unidad de Temperatura Max:',Temperatura_Unidad_Max,'Temperatura Min:',Temperatura_Min,'Unidad de Temperatura Min:',Temperatura_Unidad_Min ,'Temperatura Sensacion:',Temperatura_Sensacion,'Unidad de Temperatura Sensacion:',Temperatura_Unidad_Sensacion)\n",
        "print('\\n')\n",
        "\n",
        "# Humedad\n",
        "Humedad = buscar_elemento(soup, 'span', 'humedad_grafico_humedad')\n",
        "Unidad_humedad = '%'\n",
        "Pto_Rocio = buscar_elemento(soup, 'span', 'rocio_datos_grafico_tiempo_valor')\n",
        "Unidad_Pto_Rocio = '°C'\n",
        "\n",
        "print('Humedad:',Humedad,'Unidad Humedad:',Unidad_humedad,'Punto de Rocio:',Pto_Rocio ,'Unidad Punto de Rocio:',Unidad_Pto_Rocio)\n",
        "print('\\n')\n",
        "\n",
        "#Tiempo\n",
        "Visibilidad = buscar_elemento(soup, 'span', 'numero_visibilidad_grafico_visibilidad')\n",
        "Visibilidad_Unidad = buscar_elemento(soup, 'span', 'unidades_grafico_viento')\n",
        "\n",
        "print('Visibilidad:',Visibilidad,'Visibilidad Unidad:',Visibilidad_Unidad)\n",
        "print('\\n')\n",
        "\n",
        "#Presion\n",
        "Presion = buscar_elemento(soup, 'span', 'numeros_presion_grafico_barometro')\n",
        "Unidad_Presion = buscar_elemento(soup, 'span', 'unidades_presion_grafico_barometro')\n",
        "\n",
        "print('Presion:',Presion,'Unidad Presion:',Unidad_Presion)\n",
        "print('\\n')\n",
        "\n",
        "## Presión en la actividad pesquera\n",
        "\n",
        "# Obtener el color de fondo\n",
        "ascenso_elemento = buscar_elemento_v(soup, 'div', 'leyenda_influencia_grafico_barometro_ascenso')\n",
        "estable_elemento = buscar_elemento_v(soup, 'div', 'leyenda_influencia_grafico_barometro_estable')\n",
        "descenso_elemento = buscar_elemento_v(soup, 'div', 'leyenda_influencia_grafico_barometro_descenso')\n",
        "\n",
        "# Obtener el color de fondo\n",
        "ascenso_color = ascenso_elemento['style'].split(':')[1].strip()\n",
        "estable_color = estable_elemento['style'].split(':')[1].strip()\n",
        "descenso_color = descenso_elemento['style'].split(':')[1].strip()\n",
        "\n",
        "Color_Presion_Actividad_Pesca=encontrar_activa_v2(ascenso_color,estable_color,descenso_color)     \n",
        "Presion_Actividad_Pesca=obtener_estado(Color_Presion_Actividad_Pesca, ascenso_color, estable_color, descenso_color)\n",
        "Mensaje_Presion_Actividad_Pesca = obtener_mensaje(Color_Presion_Actividad_Pesca, ascenso_color, estable_color, descenso_color)\n",
        "Estado_activo_pesca=obtener_estado_activo_pesca(soup)\n",
        "\n",
        "print('Color Actividad Pesca:',Color_Presion_Actividad_Pesca,'Presion Actividad Pesca:',Presion_Actividad_Pesca,'Mensaje Presion Actividad Pesca:',Mensaje_Presion_Actividad_Pesca,'Estado activo pesca:',Estado_activo_pesca)\n",
        "print('\\n')\n",
        "\n",
        "\n",
        "datosfila_1 = obtener_datos_tiempo_por_file(soup, 0)\n",
        "datosfila_1x = obtener_datos_tiempo_por_file_details(soup, 0)\n",
        "#datosfila_2 = obtener_datos_tiempo_por_file(soup, 1)\n",
        "#datosfila_3 = obtener_datos_tiempo_por_file(soup, 2)\n",
        "#datosfila_4 = obtener_datos_tiempo_por_file(soup, 3)\n",
        "#datosfila_5 = obtener_datos_tiempo_por_file(soup, 4)\n",
        "#datosfila_6 = obtener_datos_tiempo_por_file(soup, 5)\n",
        "#datosfila_7 = obtener_datos_tiempo_por_file(soup, 6)\n",
        "#datosfila_8 = obtener_datos_tiempo_por_file(soup, 7)\n",
        "#datosfila_9 = obtener_datos_tiempo_por_file(soup, 8)\n",
        "#datosfila_10 = obtener_datos_tiempo_por_file(soup, 9)\n",
        "#datosfila_11 = obtener_datos_tiempo_por_file(soup, 10)\n",
        "#datosfila_12 = obtener_datos_tiempo_por_file(soup, 11)\n",
        "#datosfila_13 = obtener_datos_tiempo_por_file(soup, 12)\n",
        "#datosfila_14 = obtener_datos_tiempo_por_file(soup, 13)\n",
        "#datosfila_15 = obtener_datos_tiempo_por_file(soup, 14)\n",
        "#datosfila_16 = obtener_datos_tiempo_por_file(soup, 15)\n",
        "#datosfila_17 = obtener_datos_tiempo_por_file(soup, 16)\n",
        "#datosfila_18 = obtener_datos_tiempo_por_file(soup, 17)\n",
        "#datosfila_19 = obtener_datos_tiempo_por_file(soup, 18)\n",
        "#datosfila_20 = obtener_datos_tiempo_por_file(soup, 19)\n",
        "#datosfila_21 = obtener_datos_tiempo_por_file(soup, 20)\n",
        "#datosfila_22 = obtener_datos_tiempo_por_file(soup, 21)\n",
        "#datosfila_23 = obtener_datos_tiempo_por_file(soup, 22)\n",
        "#datosfila_24 = obtener_datos_tiempo_por_file(soup, 23)\n",
        "\n",
        "print(datosfila_1)\n",
        "print(datosfila_1x)\n",
        "\n",
        "#print(datosfila_1,datosfila_2,datosfila_3,datosfila_4,datosfila_5)\n",
        "#print(datosfila_6,datosfila_7,datosfila_8,datosfila_9,datosfila_10)\n",
        "#print(datosfila_11,datosfila_12,datosfila_13,datosfila_14,datosfila_15)\n",
        "#print(datosfila_16,datosfila_17,datosfila_18,datosfila_19,datosfila_20)\n",
        "#print(datosfila_21,datosfila_22,datosfila_23,datosfila_19,datosfila_24)\n",
        "\n",
        "\n",
        "\n",
        "# Cerrar el navegador\n",
        "driver.quit()\n"
      ],
      "metadata": {
        "colab": {
          "base_uri": "https://localhost:8080/"
        },
        "id": "KLV1ubsXP8Pp",
        "outputId": "de54727a-42b0-4b17-e082-a99ed4e0d3ac"
      },
      "execution_count": 110,
      "outputs": [
        {
          "output_type": "stream",
          "name": "stdout",
          "text": [
            "Viento: 53 Unidades de viento: km/h Procedencia_Viento: 74 km/h\n",
            "\n",
            "\n",
            "Temperatura: 4 Unidad de Temperatura: °C Temperatura Max: 4 Unidad de Temperatura Max: °C Temperatura Min: 2 Unidad de Temperatura Min: °C Temperatura Sensacion: -2 Unidad de Temperatura Sensacion: °C\n",
            "\n",
            "\n",
            "Humedad: 66 Unidad Humedad: % Punto de Rocio: -2 Unidad Punto de Rocio: °C\n",
            "\n",
            "\n",
            "Visibilidad: 15 Visibilidad Unidad: km/h\n",
            "\n",
            "\n",
            "Presion: 978 Unidad Presion: hPa\n",
            "\n",
            "\n",
            "Color Actividad Pesca: estable_color Presion Actividad Pesca: estable Mensaje Presion Actividad Pesca: Actividad normal de los peces Estado activo pesca: Estado activo no encontrado\n",
            "\n",
            "\n",
            "[<div class=\"tabla_datos_tiempo_datos_datos\"><div class=\"tabla_datos_tiempo_datos_datos_cuadro tabla_datos_tiempo_datos_datos_cuadro_fondo_oscuro\"><div class=\"tabla_datos_tiempo_datos_datos_cuadro_titulo\">Presión</div><div class=\"tabla_datos_tiempo_datos_datos_cuadro_num\"><span class=\"tabla_datos_tiempo_datos_datos_cuadro_num_span\" style=\"background-color:#686c6f\">991</span></div><div class=\"tabla_datos_tiempo_datos_datos_presion_influencia\" style=\"color:#FF3131\">en descenso</div><div class=\"tabla_datos_tiempo_datos_datos_presion_estado\" style=\"color:#686c6f;\">Malo</div></div><div class=\"tabla_datos_tiempo_datos_datos_cuadro\"><div class=\"tabla_datos_tiempo_datos_datos_cuadro_titulo\">Temp.</div><div class=\"tabla_datos_tiempo_datos_datos_cuadro_num_grande\" title=\"Temperatura (°C)\"><span class=\"tabla_datos_tiempo_datos_datos_cuadro_num_grande_color temperatura_weather_style\">2°</span></div><div class=\"tabla_datos_tiempo_datos_datos_cuadro_subtitulo\">sensación</div><div class=\"tabla_datos_tiempo_datos_datos_cuadro_num_chico\">-2<span class=\"tabla_datos_tiempo_datos_datos_cuadro_num_unidades\"> °C</span></div></div><div class=\"tabla_datos_tiempo_datos_datos_cuadro tabla_datos_tiempo_datos_datos_cuadro_humedad_movil\"><div class=\"tabla_datos_tiempo_datos_datos_cuadro_titulo\">Humedad</div><div class=\"tabla_datos_tiempo_datos_datos_cuadro_num_grande\"><span class=\"tabla_datos_tiempo_datos_datos_cuadro_num_numero\">83</span><span class=\"tabla_datos_tiempo_datos_datos_cuadro_num_unidades tabla_datos_tiempo_datos_datos_cuadro_num_unidades_porcentaje\"> %</span><img class=\"tabla_datos_tiempo_datos_datos_cuadro_num_grande_gota\" height=\"37\" src=\"/assets/svg/gota.svg\" width=\"30\"/></div><div class=\"tabla_datos_tiempo_datos_datos_cuadro_subtitulo\">punto rocío</div><div class=\"tabla_datos_tiempo_datos_datos_cuadro_num_chico\">-1<span class=\"tabla_datos_tiempo_datos_datos_cuadro_num_unidades\"> °C</span></div></div><div class=\"tabla_datos_tiempo_datos_datos_cuadro\"><div class=\"tabla_datos_tiempo_datos_datos_cuadro_titulo\">Viento</div><div class=\"tabla_datos_tiempo_datos_datos_cuadro_flecha\" title=\"Velocidad del viento (km/h)\n",
            "y procedencia del viento\"><img src=\"/assets/svg/flechas/direccion_viento.svg\" style=\"-webkit-transform: rotate(105deg);-moz-transform: rotate(105deg);rotation: 105deg;filter: progid:DXImageTransform.Microsoft.BasicImage(rotation=105);\"/><div class=\"tabla_datos_tiempo_datos_datos_cuadro_flecha_numero\">16</div></div><div class=\"tabla_datos_tiempo_datos_datos_cuadro_num_direccion\">WNW</div></div><div class=\"tabla_datos_tiempo_datos_datos_cuadro tabla_datos_tiempo_datos_datos_cuadro_precipitacion\" title=\"Probabilidad de Lluvia (%)\n",
            "y cantidad de agua (L/m²/h)\"><div class=\"tabla_datos_tiempo_datos_datos_cuadro_precipitacion_numero\"><img alt=\"\" class=\"tabla_datos_tiempo_datos_datos_cuadro_precipitacion_numero_icono\" height=\"11\" src=\"/assets/svg/lluvia_no.svg\" width=\"16\"/> 0<span class=\"tabla_datos_tiempo_datos_datos_cuadro_precipitacion_numero_porciento\">%</span></div><div class=\"tabla_datos_tiempo_datos_datos_cuadro_precipitacion_unidades\">- <span class=\"tabla_datos_tiempo_datos_datos_cuadro_precipitacion_unidades_unidades\"></span></div></div><div class=\"tabla_datos_tiempo_datos_datos_cuadro tabla_datos_tiempo_datos_datos_cuadro_humedad_pc\"><div class=\"tabla_datos_tiempo_datos_datos_cuadro_titulo\">Humidity</div><div class=\"tabla_datos_tiempo_datos_datos_cuadro_num_grande\" title=\"Humedad (%)\"><span class=\"tabla_datos_tiempo_datos_datos_cuadro_num_numero\">83</span><span class=\"tabla_datos_tiempo_datos_datos_cuadro_num_unidades tabla_datos_tiempo_datos_datos_cuadro_num_unidades_porcentaje\"> %</span><img class=\"tabla_datos_tiempo_datos_datos_cuadro_num_grande_gota\" height=\"37\" src=\"/assets/svg/gota.svg\" width=\"30\"/></div><div class=\"tabla_datos_tiempo_datos_datos_cuadro_subtitulo\">punto rocío</div><div class=\"tabla_datos_tiempo_datos_datos_cuadro_num_chico\">-1<span class=\"tabla_datos_tiempo_datos_datos_cuadro_num_unidades\"> °C</span></div></div><div style=\"clear:both;\"></div></div>]\n",
            "['Presión', '991', 'Temp.', '2°', 'Humedad', '83', 'Viento', '', '', '', 'Humidity', '83']\n"
          ]
        }
      ]
    }
  ]
}